{
 "cells": [
  {
   "cell_type": "markdown",
   "metadata": {},
   "source": [
    "# 使用DQN进行检索\n",
    "\n",
    "---\n",
    "\n",
    "\n",
    "环境 - 评估算法Bleu、observations为所有Q\n",
    "\n",
    "机器 - DQN网络、actions为所有A"
   ]
  },
  {
   "cell_type": "code",
   "execution_count": 33,
   "metadata": {},
   "outputs": [],
   "source": [
    "import os\n",
    "import re\n",
    "import time\n",
    "from tqdm import tqdm\n",
    "import sys\n",
    "from pprint import pprint\n",
    "\n",
    "sys.path.insert(0, \"/home/team55/notespace/zengbin\")\n",
    "from jddc.config import DQNConfig\n",
    "from jddc.embedding import load_s2v_model\n",
    "from jddc.tfidf import load_tfidf_ir_model\n",
    "import jddc.utils as u\n",
    "from jddc.dqn import *\n",
    "from jddc.datasets import read_test_questions02"
   ]
  },
  {
   "cell_type": "code",
   "execution_count": 3,
   "metadata": {},
   "outputs": [],
   "source": [
    "conf = DQNConfig()"
   ]
  },
  {
   "cell_type": "code",
   "execution_count": 4,
   "metadata": {},
   "outputs": [],
   "source": [
    "from IPython.display import clear_output\n",
    "import matplotlib.pyplot as plt\n",
    "%matplotlib inline"
   ]
  },
  {
   "cell_type": "code",
   "execution_count": 5,
   "metadata": {},
   "outputs": [],
   "source": [
    "trainer = u.read_from_pkl(conf.pkl_dqn_ir)"
   ]
  },
  {
   "cell_type": "code",
   "execution_count": 34,
   "metadata": {
    "scrolled": false
   },
   "outputs": [
    {
     "name": "stderr",
     "output_type": "stream",
     "text": [
      "train dqn:   0%|                                                           | 0/1000 [00:00<?, ?it/s]/home/team55/notespace/zengbin/jddc/dqn.py:65: UserWarning: volatile was removed and now has no effect. Use `with torch.no_grad():` instead.\n",
      "  state = Variable(state, volatile=True)\n",
      "/home/team55/notespace/zengbin/jddc/dqn.py:238: UserWarning: invalid index of a 0-dim tensor. This will be an error in PyTorch 0.5. Use tensor.item() to convert a 0-dim tensor to a Python number\n",
      "  self.losses.append(loss.data[0])\n",
      "train dqn:   1%|▍                                                  | 9/1000 [00:02<04:58,  3.32it/s]"
     ]
    },
    {
     "name": "stdout",
     "output_type": "stream",
     "text": [
      "2018-09-07 12:03:25.710277 | episode_reward(total_bleu): 0.2301848090081078\n"
     ]
    },
    {
     "name": "stderr",
     "output_type": "stream",
     "text": [
      "train dqn:   2%|▉                                                 | 18/1000 [00:05<04:53,  3.34it/s]"
     ]
    },
    {
     "name": "stdout",
     "output_type": "stream",
     "text": [
      "2018-09-07 12:03:28.380223 | episode_reward(total_bleu): 1.2871209423116312\n"
     ]
    },
    {
     "name": "stderr",
     "output_type": "stream",
     "text": [
      "train dqn:   2%|█                                                 | 22/1000 [00:06<04:54,  3.32it/s]"
     ]
    },
    {
     "name": "stdout",
     "output_type": "stream",
     "text": [
      "2018-09-07 12:03:29.613427 | episode_reward(total_bleu): 0.025846772343337574\n"
     ]
    },
    {
     "name": "stderr",
     "output_type": "stream",
     "text": [
      "train dqn:   2%|█▏                                                | 24/1000 [00:07<04:53,  3.32it/s]"
     ]
    },
    {
     "name": "stdout",
     "output_type": "stream",
     "text": [
      "2018-09-07 12:03:30.223070 | episode_reward(total_bleu): 0.10178348780514873\n"
     ]
    },
    {
     "name": "stderr",
     "output_type": "stream",
     "text": [
      "train dqn:   3%|█▍                                                | 29/1000 [00:08<04:50,  3.34it/s]"
     ]
    },
    {
     "name": "stdout",
     "output_type": "stream",
     "text": [
      "2018-09-07 12:03:31.677855 | episode_reward(total_bleu): 0.6075817572867991\n"
     ]
    },
    {
     "name": "stderr",
     "output_type": "stream",
     "text": [
      "train dqn:   3%|█▋                                                | 33/1000 [00:09<04:52,  3.30it/s]"
     ]
    },
    {
     "name": "stdout",
     "output_type": "stream",
     "text": [
      "2018-09-07 12:03:32.992215 | episode_reward(total_bleu): 0.08975129798129418\n"
     ]
    },
    {
     "name": "stderr",
     "output_type": "stream",
     "text": [
      "train dqn:   4%|█▊                                                | 37/1000 [00:11<04:54,  3.27it/s]"
     ]
    },
    {
     "name": "stdout",
     "output_type": "stream",
     "text": [
      "2018-09-07 12:03:34.309925 | episode_reward(total_bleu): 0.22049823212326486\n"
     ]
    },
    {
     "name": "stderr",
     "output_type": "stream",
     "text": [
      "train dqn:   4%|██                                                | 42/1000 [00:12<04:51,  3.28it/s]"
     ]
    },
    {
     "name": "stdout",
     "output_type": "stream",
     "text": [
      "2018-09-07 12:03:35.793051 | episode_reward(total_bleu): 0.39002821928805614\n"
     ]
    },
    {
     "name": "stderr",
     "output_type": "stream",
     "text": [
      "train dqn:   5%|██▎                                               | 46/1000 [00:14<04:50,  3.28it/s]"
     ]
    },
    {
     "name": "stdout",
     "output_type": "stream",
     "text": [
      "2018-09-07 12:03:37.012718 | episode_reward(total_bleu): 0.010093764747652067\n"
     ]
    },
    {
     "name": "stderr",
     "output_type": "stream",
     "text": [
      "train dqn:   6%|██▉                                               | 58/1000 [00:17<04:46,  3.29it/s]"
     ]
    },
    {
     "name": "stdout",
     "output_type": "stream",
     "text": [
      "2018-09-07 12:03:40.610798 | episode_reward(total_bleu): 0.22221648663765625\n"
     ]
    },
    {
     "name": "stderr",
     "output_type": "stream",
     "text": [
      "train dqn:   6%|███▎                                              | 65/1000 [00:19<04:43,  3.30it/s]"
     ]
    },
    {
     "name": "stdout",
     "output_type": "stream",
     "text": [
      "2018-09-07 12:03:42.700452 | episode_reward(total_bleu): 0.04996572283821874\n"
     ]
    },
    {
     "name": "stderr",
     "output_type": "stream",
     "text": [
      "train dqn:   7%|███▍                                              | 68/1000 [00:20<04:42,  3.30it/s]"
     ]
    },
    {
     "name": "stdout",
     "output_type": "stream",
     "text": [
      "2018-09-07 12:03:43.613151 | episode_reward(total_bleu): 0.16185265606037433\n"
     ]
    },
    {
     "name": "stderr",
     "output_type": "stream",
     "text": [
      "train dqn:   7%|███▌                                              | 71/1000 [00:21<04:41,  3.30it/s]"
     ]
    },
    {
     "name": "stdout",
     "output_type": "stream",
     "text": [
      "2018-09-07 12:03:44.512089 | episode_reward(total_bleu): 0.6074356144853437\n"
     ]
    },
    {
     "name": "stderr",
     "output_type": "stream",
     "text": [
      "train dqn:   8%|███▊                                              | 76/1000 [00:22<04:39,  3.31it/s]"
     ]
    },
    {
     "name": "stdout",
     "output_type": "stream",
     "text": [
      "2018-09-07 12:03:45.981935 | episode_reward(total_bleu): 1.4556014137770745\n"
     ]
    },
    {
     "name": "stderr",
     "output_type": "stream",
     "text": [
      "train dqn:   8%|████                                              | 80/1000 [00:24<04:37,  3.32it/s]"
     ]
    },
    {
     "name": "stdout",
     "output_type": "stream",
     "text": [
      "2018-09-07 12:03:47.112811 | episode_reward(total_bleu): 1.1969972284190744\n"
     ]
    },
    {
     "name": "stderr",
     "output_type": "stream",
     "text": [
      "train dqn:   9%|████▍                                             | 88/1000 [00:26<04:34,  3.32it/s]"
     ]
    },
    {
     "name": "stdout",
     "output_type": "stream",
     "text": [
      "2018-09-07 12:03:49.508048 | episode_reward(total_bleu): 0.23212122086952883\n"
     ]
    },
    {
     "name": "stderr",
     "output_type": "stream",
     "text": [
      "train dqn:   9%|████▋                                             | 93/1000 [00:28<04:33,  3.32it/s]"
     ]
    },
    {
     "name": "stdout",
     "output_type": "stream",
     "text": [
      "2018-09-07 12:03:51.018553 | episode_reward(total_bleu): 0.41171120896374536\n"
     ]
    },
    {
     "name": "stderr",
     "output_type": "stream",
     "text": [
      "train dqn:  10%|████▊                                             | 96/1000 [00:28<04:31,  3.32it/s]"
     ]
    },
    {
     "name": "stdout",
     "output_type": "stream",
     "text": [
      "2018-09-07 12:03:51.868861 | episode_reward(total_bleu): 0.020658176276345933\n"
     ]
    },
    {
     "name": "stderr",
     "output_type": "stream",
     "text": [
      "train dqn:  10%|████▉                                            | 100/1000 [00:29<04:29,  3.33it/s]"
     ]
    },
    {
     "name": "stdout",
     "output_type": "stream",
     "text": [
      "2018-09-07 12:03:52.992709 | episode_reward(total_bleu): 0.683410740292578\n"
     ]
    },
    {
     "name": "stderr",
     "output_type": "stream",
     "text": [
      "train dqn:  10%|█████▏                                           | 105/1000 [00:31<04:28,  3.33it/s]"
     ]
    },
    {
     "name": "stdout",
     "output_type": "stream",
     "text": [
      "2018-09-07 12:03:54.507651 | episode_reward(total_bleu): 0.040372598980668764\n"
     ]
    },
    {
     "name": "stderr",
     "output_type": "stream",
     "text": [
      "train dqn:  11%|█████▍                                           | 112/1000 [00:33<04:28,  3.30it/s]"
     ]
    },
    {
     "name": "stdout",
     "output_type": "stream",
     "text": [
      "2018-09-07 12:03:56.894365 | episode_reward(total_bleu): 0.09539127550788438\n"
     ]
    },
    {
     "name": "stderr",
     "output_type": "stream",
     "text": [
      "train dqn:  12%|█████▋                                           | 115/1000 [00:34<04:27,  3.30it/s]"
     ]
    },
    {
     "name": "stdout",
     "output_type": "stream",
     "text": [
      "2018-09-07 12:03:57.794453 | episode_reward(total_bleu): 0.19446971760462597\n"
     ]
    },
    {
     "name": "stderr",
     "output_type": "stream",
     "text": [
      "train dqn:  12%|█████▊                                           | 119/1000 [00:36<04:26,  3.30it/s]"
     ]
    },
    {
     "name": "stdout",
     "output_type": "stream",
     "text": [
      "2018-09-07 12:03:59.030648 | episode_reward(total_bleu): 0.35184530558913996\n"
     ]
    },
    {
     "name": "stderr",
     "output_type": "stream",
     "text": [
      "train dqn:  12%|█████▉                                           | 122/1000 [00:37<04:27,  3.28it/s]"
     ]
    },
    {
     "name": "stdout",
     "output_type": "stream",
     "text": [
      "2018-09-07 12:04:00.213416 | episode_reward(total_bleu): 0.14645894516088342\n"
     ]
    },
    {
     "name": "stderr",
     "output_type": "stream",
     "text": [
      "train dqn:  13%|██████▏                                          | 126/1000 [00:38<04:26,  3.28it/s]"
     ]
    },
    {
     "name": "stdout",
     "output_type": "stream",
     "text": [
      "2018-09-07 12:04:01.413728 | episode_reward(total_bleu): 0.24890983222712798\n"
     ]
    },
    {
     "name": "stderr",
     "output_type": "stream",
     "text": [
      "train dqn:  13%|██████▍                                          | 131/1000 [00:39<04:24,  3.28it/s]"
     ]
    },
    {
     "name": "stdout",
     "output_type": "stream",
     "text": [
      "2018-09-07 12:04:02.905326 | episode_reward(total_bleu): 0.2052914697277233\n"
     ]
    },
    {
     "name": "stderr",
     "output_type": "stream",
     "text": [
      "train dqn:  14%|██████▊                                          | 138/1000 [00:42<04:22,  3.28it/s]"
     ]
    },
    {
     "name": "stdout",
     "output_type": "stream",
     "text": [
      "2018-09-07 12:04:05.021649 | episode_reward(total_bleu): 2.197715251231957\n"
     ]
    },
    {
     "name": "stderr",
     "output_type": "stream",
     "text": [
      "train dqn:  14%|██████▉                                          | 142/1000 [00:43<04:21,  3.29it/s]"
     ]
    },
    {
     "name": "stdout",
     "output_type": "stream",
     "text": [
      "2018-09-07 12:04:06.214517 | episode_reward(total_bleu): 0.1927702411746428\n"
     ]
    },
    {
     "name": "stderr",
     "output_type": "stream",
     "text": [
      "train dqn:  14%|███████                                          | 145/1000 [00:44<04:20,  3.28it/s]"
     ]
    },
    {
     "name": "stdout",
     "output_type": "stream",
     "text": [
      "2018-09-07 12:04:07.217459 | episode_reward(total_bleu): 0.09609380817335755\n"
     ]
    },
    {
     "name": "stderr",
     "output_type": "stream",
     "text": [
      "train dqn:  15%|███████▍                                         | 151/1000 [00:46<04:19,  3.27it/s]"
     ]
    },
    {
     "name": "stdout",
     "output_type": "stream",
     "text": [
      "2018-09-07 12:04:09.114134 | episode_reward(total_bleu): 0.1838730131277066\n"
     ]
    },
    {
     "name": "stderr",
     "output_type": "stream",
     "text": [
      "train dqn:  16%|███████▌                                         | 155/1000 [00:47<04:17,  3.28it/s]"
     ]
    },
    {
     "name": "stdout",
     "output_type": "stream",
     "text": [
      "2018-09-07 12:04:10.292539 | episode_reward(total_bleu): 0.3943939305780402\n"
     ]
    },
    {
     "name": "stderr",
     "output_type": "stream",
     "text": [
      "train dqn:  17%|████████▍                                        | 171/1000 [00:52<04:12,  3.28it/s]"
     ]
    },
    {
     "name": "stdout",
     "output_type": "stream",
     "text": [
      "2018-09-07 12:04:15.111288 | episode_reward(total_bleu): 1.2194965246145102\n"
     ]
    },
    {
     "name": "stderr",
     "output_type": "stream",
     "text": [
      "train dqn:  18%|████████▋                                        | 177/1000 [00:53<04:10,  3.28it/s]"
     ]
    },
    {
     "name": "stdout",
     "output_type": "stream",
     "text": [
      "2018-09-07 12:04:16.918773 | episode_reward(total_bleu): 0.893322814405376\n"
     ]
    },
    {
     "name": "stderr",
     "output_type": "stream",
     "text": [
      "train dqn:  18%|████████▊                                        | 181/1000 [00:55<04:09,  3.29it/s]"
     ]
    },
    {
     "name": "stdout",
     "output_type": "stream",
     "text": [
      "2018-09-07 12:04:18.077631 | episode_reward(total_bleu): 1.7384902970108311\n"
     ]
    },
    {
     "name": "stderr",
     "output_type": "stream",
     "text": [
      "train dqn:  18%|█████████                                        | 184/1000 [00:55<04:07,  3.29it/s]"
     ]
    },
    {
     "name": "stdout",
     "output_type": "stream",
     "text": [
      "2018-09-07 12:04:18.915497 | episode_reward(total_bleu): 0.10150471987829272\n"
     ]
    },
    {
     "name": "stderr",
     "output_type": "stream",
     "text": [
      "train dqn:  19%|█████████▎                                       | 189/1000 [00:57<04:06,  3.29it/s]"
     ]
    },
    {
     "name": "stdout",
     "output_type": "stream",
     "text": [
      "2018-09-07 12:04:20.412026 | episode_reward(total_bleu): 0.06127533683754148\n"
     ]
    },
    {
     "name": "stderr",
     "output_type": "stream",
     "text": [
      "train dqn:  19%|█████████▍                                       | 193/1000 [00:58<04:06,  3.28it/s]"
     ]
    },
    {
     "name": "stdout",
     "output_type": "stream",
     "text": [
      "2018-09-07 12:04:21.924930 | episode_reward(total_bleu): 0.050645913264950417\n"
     ]
    },
    {
     "name": "stderr",
     "output_type": "stream",
     "text": [
      "train dqn:  20%|█████████▋                                       | 197/1000 [01:00<04:05,  3.28it/s]"
     ]
    },
    {
     "name": "stdout",
     "output_type": "stream",
     "text": [
      "2018-09-07 12:04:23.116525 | episode_reward(total_bleu): 0.07006568664227963\n"
     ]
    },
    {
     "name": "stderr",
     "output_type": "stream",
     "text": [
      "train dqn:  20%|█████████▊                                       | 201/1000 [01:01<04:03,  3.28it/s]"
     ]
    },
    {
     "name": "stdout",
     "output_type": "stream",
     "text": [
      "2018-09-07 12:04:24.307256 | episode_reward(total_bleu): 0.1983795804617062\n"
     ]
    },
    {
     "name": "stderr",
     "output_type": "stream",
     "text": [
      "train dqn:  20%|█████████▉                                       | 204/1000 [01:02<04:02,  3.28it/s]"
     ]
    },
    {
     "name": "stdout",
     "output_type": "stream",
     "text": [
      "2018-09-07 12:04:25.188689 | episode_reward(total_bleu): 0.030152128373157703\n"
     ]
    },
    {
     "name": "stderr",
     "output_type": "stream",
     "text": [
      "train dqn:  22%|██████████▉                                      | 222/1000 [01:07<03:57,  3.27it/s]"
     ]
    },
    {
     "name": "stdout",
     "output_type": "stream",
     "text": [
      "2018-09-07 12:04:30.817637 | episode_reward(total_bleu): 1.5159117030409552\n"
     ]
    },
    {
     "name": "stderr",
     "output_type": "stream",
     "text": [
      "train dqn:  23%|███████████▎                                     | 231/1000 [01:10<03:54,  3.27it/s]"
     ]
    },
    {
     "name": "stdout",
     "output_type": "stream",
     "text": [
      "2018-09-07 12:04:33.587011 | episode_reward(total_bleu): 0.5454812577948318\n"
     ]
    },
    {
     "name": "stderr",
     "output_type": "stream",
     "text": [
      "train dqn:  24%|███████████▊                                     | 241/1000 [01:13<03:52,  3.26it/s]"
     ]
    },
    {
     "name": "stdout",
     "output_type": "stream",
     "text": [
      "2018-09-07 12:04:36.820846 | episode_reward(total_bleu): 0.8078944476742185\n"
     ]
    },
    {
     "name": "stderr",
     "output_type": "stream",
     "text": [
      "train dqn:  25%|████████████                                     | 247/1000 [01:15<03:50,  3.27it/s]"
     ]
    },
    {
     "name": "stdout",
     "output_type": "stream",
     "text": [
      "2018-09-07 12:04:38.612733 | episode_reward(total_bleu): 0.3867932254384019\n"
     ]
    },
    {
     "name": "stderr",
     "output_type": "stream",
     "text": [
      "train dqn:  25%|████████████▎                                    | 252/1000 [01:17<03:48,  3.27it/s]"
     ]
    },
    {
     "name": "stdout",
     "output_type": "stream",
     "text": [
      "2018-09-07 12:04:40.115344 | episode_reward(total_bleu): 0.13248894066657424\n"
     ]
    },
    {
     "name": "stderr",
     "output_type": "stream",
     "text": [
      "train dqn:  26%|████████████▍                                    | 255/1000 [01:17<03:47,  3.27it/s]"
     ]
    },
    {
     "name": "stdout",
     "output_type": "stream",
     "text": [
      "2018-09-07 12:04:40.980188 | episode_reward(total_bleu): 0.01684105928073885\n"
     ]
    },
    {
     "name": "stderr",
     "output_type": "stream",
     "text": [
      "train dqn:  26%|████████████▊                                    | 262/1000 [01:20<03:45,  3.27it/s]"
     ]
    },
    {
     "name": "stdout",
     "output_type": "stream",
     "text": [
      "2018-09-07 12:04:43.107568 | episode_reward(total_bleu): 0.20670033687017347\n"
     ]
    },
    {
     "name": "stderr",
     "output_type": "stream",
     "text": [
      "train dqn:  27%|█████████████                                    | 267/1000 [01:21<03:44,  3.27it/s]"
     ]
    },
    {
     "name": "stdout",
     "output_type": "stream",
     "text": [
      "2018-09-07 12:04:44.610015 | episode_reward(total_bleu): 0.029362437267422707\n"
     ]
    },
    {
     "name": "stderr",
     "output_type": "stream",
     "text": [
      "train dqn:  27%|█████████████▏                                   | 269/1000 [01:22<03:43,  3.27it/s]"
     ]
    },
    {
     "name": "stdout",
     "output_type": "stream",
     "text": [
      "2018-09-07 12:04:45.175854 | episode_reward(total_bleu): 0.010146541852429383\n"
     ]
    },
    {
     "name": "stderr",
     "output_type": "stream",
     "text": [
      "train dqn:  27%|█████████████▍                                   | 273/1000 [01:23<03:41,  3.28it/s]"
     ]
    },
    {
     "name": "stdout",
     "output_type": "stream",
     "text": [
      "2018-09-07 12:04:46.306596 | episode_reward(total_bleu): 0.2882333213548253\n"
     ]
    },
    {
     "name": "stderr",
     "output_type": "stream",
     "text": [
      "train dqn:  28%|█████████████▌                                   | 277/1000 [01:24<03:40,  3.28it/s]"
     ]
    },
    {
     "name": "stdout",
     "output_type": "stream",
     "text": [
      "2018-09-07 12:04:47.516116 | episode_reward(total_bleu): 0.037722965574602155\n"
     ]
    },
    {
     "name": "stderr",
     "output_type": "stream",
     "text": [
      "train dqn:  28%|█████████████▊                                   | 281/1000 [01:25<03:39,  3.28it/s]"
     ]
    },
    {
     "name": "stdout",
     "output_type": "stream",
     "text": [
      "2018-09-07 12:04:48.676381 | episode_reward(total_bleu): 0.3803558665306389\n"
     ]
    },
    {
     "name": "stderr",
     "output_type": "stream",
     "text": [
      "train dqn:  29%|██████████████                                   | 287/1000 [01:27<03:37,  3.28it/s]"
     ]
    },
    {
     "name": "stdout",
     "output_type": "stream",
     "text": [
      "2018-09-07 12:04:50.411364 | episode_reward(total_bleu): 0.3526967965583976\n"
     ]
    },
    {
     "name": "stderr",
     "output_type": "stream",
     "text": [
      "train dqn:  29%|██████████████▍                                  | 294/1000 [01:29<03:34,  3.28it/s]"
     ]
    },
    {
     "name": "stdout",
     "output_type": "stream",
     "text": [
      "2018-09-07 12:04:52.510833 | episode_reward(total_bleu): 0.5828916049273045\n"
     ]
    },
    {
     "name": "stderr",
     "output_type": "stream",
     "text": [
      "train dqn:  30%|██████████████▋                                  | 301/1000 [01:31<03:32,  3.29it/s]"
     ]
    },
    {
     "name": "stdout",
     "output_type": "stream",
     "text": [
      "2018-09-07 12:04:54.611032 | episode_reward(total_bleu): 0.4389792396270725\n"
     ]
    },
    {
     "name": "stderr",
     "output_type": "stream",
     "text": [
      "train dqn:  31%|██████████████▉                                  | 306/1000 [01:33<03:31,  3.29it/s]"
     ]
    },
    {
     "name": "stdout",
     "output_type": "stream",
     "text": [
      "2018-09-07 12:04:56.094204 | episode_reward(total_bleu): 0.6933181156134364\n"
     ]
    },
    {
     "name": "stderr",
     "output_type": "stream",
     "text": [
      "train dqn:  32%|███████████████▋                                 | 320/1000 [01:37<03:26,  3.29it/s]"
     ]
    },
    {
     "name": "stdout",
     "output_type": "stream",
     "text": [
      "2018-09-07 12:05:00.295560 | episode_reward(total_bleu): 0.6705873098491174\n"
     ]
    },
    {
     "name": "stderr",
     "output_type": "stream",
     "text": [
      "train dqn:  33%|████████████████                                 | 328/1000 [01:39<03:24,  3.29it/s]"
     ]
    },
    {
     "name": "stdout",
     "output_type": "stream",
     "text": [
      "2018-09-07 12:05:02.704427 | episode_reward(total_bleu): 0.10959566721917462\n"
     ]
    },
    {
     "name": "stderr",
     "output_type": "stream",
     "text": [
      "train dqn:  33%|████████████████▏                                | 331/1000 [01:40<03:23,  3.29it/s]"
     ]
    },
    {
     "name": "stdout",
     "output_type": "stream",
     "text": [
      "2018-09-07 12:05:03.580963 | episode_reward(total_bleu): 0.09027750573496249\n"
     ]
    },
    {
     "name": "stderr",
     "output_type": "stream",
     "text": [
      "train dqn:  34%|████████████████▌                                | 337/1000 [01:42<03:21,  3.29it/s]"
     ]
    },
    {
     "name": "stdout",
     "output_type": "stream",
     "text": [
      "2018-09-07 12:05:05.411935 | episode_reward(total_bleu): 0.24140491499175723\n"
     ]
    },
    {
     "name": "stderr",
     "output_type": "stream",
     "text": [
      "train dqn:  34%|████████████████▊                                | 344/1000 [01:44<03:19,  3.29it/s]"
     ]
    },
    {
     "name": "stdout",
     "output_type": "stream",
     "text": [
      "2018-09-07 12:05:07.513543 | episode_reward(total_bleu): 1.690189315188648\n"
     ]
    },
    {
     "name": "stderr",
     "output_type": "stream",
     "text": [
      "train dqn:  35%|█████████████████▏                               | 351/1000 [01:46<03:17,  3.29it/s]"
     ]
    },
    {
     "name": "stdout",
     "output_type": "stream",
     "text": [
      "2018-09-07 12:05:09.639054 | episode_reward(total_bleu): 0.1710729218765599\n"
     ]
    },
    {
     "name": "stderr",
     "output_type": "stream",
     "text": [
      "train dqn:  36%|█████████████████▍                               | 355/1000 [01:47<03:15,  3.29it/s]"
     ]
    },
    {
     "name": "stdout",
     "output_type": "stream",
     "text": [
      "2018-09-07 12:05:10.819424 | episode_reward(total_bleu): 0.12419681991226689\n"
     ]
    },
    {
     "name": "stderr",
     "output_type": "stream",
     "text": [
      "train dqn:  36%|█████████████████▌                               | 358/1000 [01:48<03:15,  3.29it/s]"
     ]
    },
    {
     "name": "stdout",
     "output_type": "stream",
     "text": [
      "2018-09-07 12:05:11.760532 | episode_reward(total_bleu): 0.13519106846887427\n"
     ]
    },
    {
     "name": "stderr",
     "output_type": "stream",
     "text": [
      "train dqn:  36%|█████████████████▊                               | 364/1000 [01:50<03:13,  3.28it/s]"
     ]
    },
    {
     "name": "stdout",
     "output_type": "stream",
     "text": [
      "2018-09-07 12:05:13.886393 | episode_reward(total_bleu): 0.3491383462793788\n"
     ]
    },
    {
     "name": "stderr",
     "output_type": "stream",
     "text": [
      "train dqn:  37%|██████████████████▏                              | 372/1000 [01:53<03:11,  3.28it/s]"
     ]
    },
    {
     "name": "stdout",
     "output_type": "stream",
     "text": [
      "2018-09-07 12:05:16.296048 | episode_reward(total_bleu): 0.4733508894561538\n"
     ]
    },
    {
     "name": "stderr",
     "output_type": "stream",
     "text": [
      "train dqn:  38%|██████████████████▌                              | 379/1000 [01:55<03:09,  3.28it/s]"
     ]
    },
    {
     "name": "stdout",
     "output_type": "stream",
     "text": [
      "2018-09-07 12:05:18.402240 | episode_reward(total_bleu): 0.34939382789183093\n"
     ]
    },
    {
     "name": "stderr",
     "output_type": "stream",
     "text": [
      "train dqn:  38%|██████████████████▊                              | 383/1000 [01:56<03:07,  3.28it/s]"
     ]
    },
    {
     "name": "stdout",
     "output_type": "stream",
     "text": [
      "2018-09-07 12:05:19.600405 | episode_reward(total_bleu): 0.10203999124586872\n"
     ]
    },
    {
     "name": "stderr",
     "output_type": "stream",
     "text": [
      "train dqn:  39%|██████████████████▉                              | 387/1000 [01:57<03:06,  3.29it/s]"
     ]
    },
    {
     "name": "stdout",
     "output_type": "stream",
     "text": [
      "2018-09-07 12:05:20.783664 | episode_reward(total_bleu): 0.02554517346249689\n"
     ]
    },
    {
     "name": "stderr",
     "output_type": "stream",
     "text": [
      "train dqn:  39%|███████████████████▏                             | 392/1000 [01:59<03:05,  3.29it/s]"
     ]
    },
    {
     "name": "stdout",
     "output_type": "stream",
     "text": [
      "2018-09-07 12:05:22.278754 | episode_reward(total_bleu): 0.797866912603393\n"
     ]
    },
    {
     "name": "stderr",
     "output_type": "stream",
     "text": [
      "train dqn:  40%|███████████████████▌                             | 400/1000 [02:01<03:02,  3.29it/s]"
     ]
    },
    {
     "name": "stdout",
     "output_type": "stream",
     "text": [
      "2018-09-07 12:05:24.614930 | episode_reward(total_bleu): 0.2214933991508588\n"
     ]
    },
    {
     "name": "stderr",
     "output_type": "stream",
     "text": [
      "train dqn:  41%|███████████████████▉                             | 406/1000 [02:03<03:00,  3.29it/s]"
     ]
    },
    {
     "name": "stdout",
     "output_type": "stream",
     "text": [
      "2018-09-07 12:05:26.407541 | episode_reward(total_bleu): 0.03908765924287392\n"
     ]
    },
    {
     "name": "stderr",
     "output_type": "stream",
     "text": [
      "train dqn:  41%|████████████████████                             | 410/1000 [02:04<02:59,  3.29it/s]"
     ]
    },
    {
     "name": "stdout",
     "output_type": "stream",
     "text": [
      "2018-09-07 12:05:27.584762 | episode_reward(total_bleu): 0.007011159016469277\n"
     ]
    },
    {
     "name": "stderr",
     "output_type": "stream",
     "text": [
      "train dqn:  42%|████████████████████▋                            | 422/1000 [02:08<02:55,  3.29it/s]"
     ]
    },
    {
     "name": "stdout",
     "output_type": "stream",
     "text": [
      "2018-09-07 12:05:31.409363 | episode_reward(total_bleu): 0.7227962776600401\n"
     ]
    },
    {
     "name": "stderr",
     "output_type": "stream",
     "text": [
      "train dqn:  43%|████████████████████▉                            | 427/1000 [02:09<02:54,  3.29it/s]"
     ]
    },
    {
     "name": "stdout",
     "output_type": "stream",
     "text": [
      "2018-09-07 12:05:32.879411 | episode_reward(total_bleu): 0.32767322167403284\n"
     ]
    },
    {
     "name": "stderr",
     "output_type": "stream",
     "text": [
      "train dqn:  43%|█████████████████████▏                           | 433/1000 [02:11<02:52,  3.29it/s]"
     ]
    },
    {
     "name": "stdout",
     "output_type": "stream",
     "text": [
      "2018-09-07 12:05:34.618256 | episode_reward(total_bleu): 0.3343615562423643\n"
     ]
    },
    {
     "name": "stderr",
     "output_type": "stream",
     "text": [
      "train dqn:  44%|█████████████████████▎                           | 436/1000 [02:12<02:51,  3.29it/s]"
     ]
    },
    {
     "name": "stdout",
     "output_type": "stream",
     "text": [
      "2018-09-07 12:05:35.477760 | episode_reward(total_bleu): 0.3258117877447863\n"
     ]
    },
    {
     "name": "stderr",
     "output_type": "stream",
     "text": [
      "train dqn:  44%|█████████████████████▌                           | 440/1000 [02:13<02:50,  3.29it/s]"
     ]
    },
    {
     "name": "stdout",
     "output_type": "stream",
     "text": [
      "2018-09-07 12:05:36.611448 | episode_reward(total_bleu): 0.053991779831129585\n"
     ]
    },
    {
     "name": "stderr",
     "output_type": "stream",
     "text": [
      "train dqn:  44%|█████████████████████▋                           | 443/1000 [02:14<02:49,  3.29it/s]"
     ]
    },
    {
     "name": "stdout",
     "output_type": "stream",
     "text": [
      "2018-09-07 12:05:37.475299 | episode_reward(total_bleu): 0.04416463299876533\n"
     ]
    },
    {
     "name": "stderr",
     "output_type": "stream",
     "text": [
      "train dqn:  45%|██████████████████████                           | 449/1000 [02:16<02:47,  3.30it/s]"
     ]
    },
    {
     "name": "stdout",
     "output_type": "stream",
     "text": [
      "2018-09-07 12:05:39.195016 | episode_reward(total_bleu): 0.09527660169175495\n"
     ]
    },
    {
     "name": "stderr",
     "output_type": "stream",
     "text": [
      "train dqn:  45%|██████████████████████▏                          | 452/1000 [02:17<02:46,  3.30it/s]"
     ]
    },
    {
     "name": "stdout",
     "output_type": "stream",
     "text": [
      "2018-09-07 12:05:40.078602 | episode_reward(total_bleu): 0.010267324417692566\n"
     ]
    },
    {
     "name": "stderr",
     "output_type": "stream",
     "text": [
      "train dqn:  46%|██████████████████████▋                          | 462/1000 [02:19<02:43,  3.30it/s]"
     ]
    },
    {
     "name": "stdout",
     "output_type": "stream",
     "text": [
      "2018-09-07 12:05:42.990333 | episode_reward(total_bleu): 0.6215916740154548\n"
     ]
    },
    {
     "name": "stderr",
     "output_type": "stream",
     "text": [
      "train dqn:  47%|██████████████████████▉                          | 469/1000 [02:22<02:41,  3.29it/s]"
     ]
    },
    {
     "name": "stdout",
     "output_type": "stream",
     "text": [
      "2018-09-07 12:05:45.142927 | episode_reward(total_bleu): 0.054325367095127385\n"
     ]
    },
    {
     "name": "stderr",
     "output_type": "stream",
     "text": [
      "train dqn:  47%|███████████████████████▏                         | 473/1000 [02:23<02:40,  3.29it/s]"
     ]
    },
    {
     "name": "stdout",
     "output_type": "stream",
     "text": [
      "2018-09-07 12:05:46.616537 | episode_reward(total_bleu): 0.19545544647755592\n"
     ]
    },
    {
     "name": "stderr",
     "output_type": "stream",
     "text": [
      "train dqn:  48%|███████████████████████▌                         | 480/1000 [02:25<02:37,  3.29it/s]"
     ]
    },
    {
     "name": "stdout",
     "output_type": "stream",
     "text": [
      "2018-09-07 12:05:48.725907 | episode_reward(total_bleu): 0.9714267859905383\n"
     ]
    },
    {
     "name": "stderr",
     "output_type": "stream",
     "text": [
      "train dqn:  48%|███████████████████████▊                         | 485/1000 [02:27<02:36,  3.29it/s]"
     ]
    },
    {
     "name": "stdout",
     "output_type": "stream",
     "text": [
      "2018-09-07 12:05:50.219264 | episode_reward(total_bleu): 0.45634827920018284\n"
     ]
    },
    {
     "name": "stderr",
     "output_type": "stream",
     "text": [
      "train dqn:  49%|████████████████████████▏                        | 493/1000 [02:29<02:33,  3.30it/s]"
     ]
    },
    {
     "name": "stdout",
     "output_type": "stream",
     "text": [
      "2018-09-07 12:05:52.608182 | episode_reward(total_bleu): 1.231598826222623\n"
     ]
    },
    {
     "name": "stderr",
     "output_type": "stream",
     "text": [
      "train dqn:  51%|████████████████████████▊                        | 506/1000 [02:33<02:29,  3.30it/s]"
     ]
    },
    {
     "name": "stdout",
     "output_type": "stream",
     "text": [
      "2018-09-07 12:05:56.515956 | episode_reward(total_bleu): 0.32109052685167955\n"
     ]
    },
    {
     "name": "stderr",
     "output_type": "stream",
     "text": [
      "train dqn:  51%|█████████████████████████                        | 512/1000 [02:35<02:28,  3.30it/s]"
     ]
    },
    {
     "name": "stdout",
     "output_type": "stream",
     "text": [
      "2018-09-07 12:05:58.313292 | episode_reward(total_bleu): 0.16285540399020848\n"
     ]
    },
    {
     "name": "stderr",
     "output_type": "stream",
     "text": [
      "train dqn:  52%|█████████████████████████▍                       | 520/1000 [02:37<02:25,  3.30it/s]"
     ]
    },
    {
     "name": "stdout",
     "output_type": "stream",
     "text": [
      "2018-09-07 12:06:00.716117 | episode_reward(total_bleu): 1.0749747483789764\n"
     ]
    },
    {
     "name": "stderr",
     "output_type": "stream",
     "text": [
      "train dqn:  52%|█████████████████████████▋                       | 525/1000 [02:39<02:24,  3.30it/s]"
     ]
    },
    {
     "name": "stdout",
     "output_type": "stream",
     "text": [
      "2018-09-07 12:06:02.217645 | episode_reward(total_bleu): 0.5263255265300165\n"
     ]
    },
    {
     "name": "stderr",
     "output_type": "stream",
     "text": [
      "train dqn:  53%|█████████████████████████▊                       | 528/1000 [02:40<02:23,  3.30it/s]"
     ]
    },
    {
     "name": "stdout",
     "output_type": "stream",
     "text": [
      "2018-09-07 12:06:03.081499 | episode_reward(total_bleu): 0.10611138978319332\n"
     ]
    },
    {
     "name": "stderr",
     "output_type": "stream",
     "text": [
      "train dqn:  53%|██████████████████████████                       | 531/1000 [02:40<02:22,  3.30it/s]"
     ]
    },
    {
     "name": "stdout",
     "output_type": "stream",
     "text": [
      "2018-09-07 12:06:03.908136 | episode_reward(total_bleu): 0.025883087402238214\n"
     ]
    },
    {
     "name": "stderr",
     "output_type": "stream",
     "text": [
      "train dqn:  54%|██████████████████████████▎                      | 538/1000 [02:43<02:19,  3.30it/s]"
     ]
    },
    {
     "name": "stdout",
     "output_type": "stream",
     "text": [
      "2018-09-07 12:06:06.015318 | episode_reward(total_bleu): 0.44732307187663717\n"
     ]
    },
    {
     "name": "stderr",
     "output_type": "stream",
     "text": [
      "train dqn:  54%|██████████████████████████▌                      | 543/1000 [02:44<02:18,  3.30it/s]"
     ]
    },
    {
     "name": "stdout",
     "output_type": "stream",
     "text": [
      "2018-09-07 12:06:07.508214 | episode_reward(total_bleu): 0.076644810770798\n"
     ]
    },
    {
     "name": "stderr",
     "output_type": "stream",
     "text": [
      "train dqn:  55%|██████████████████████████▊                      | 547/1000 [02:45<02:17,  3.30it/s]"
     ]
    },
    {
     "name": "stdout",
     "output_type": "stream",
     "text": [
      "2018-09-07 12:06:08.685147 | episode_reward(total_bleu): 0.040058445544036314\n"
     ]
    },
    {
     "name": "stderr",
     "output_type": "stream",
     "text": [
      "train dqn:  55%|███████████████████████████▏                     | 554/1000 [02:47<02:15,  3.30it/s]"
     ]
    },
    {
     "name": "stdout",
     "output_type": "stream",
     "text": [
      "2018-09-07 12:06:10.831414 | episode_reward(total_bleu): 0.41346179048964427\n"
     ]
    },
    {
     "name": "stderr",
     "output_type": "stream",
     "text": [
      "train dqn:  56%|███████████████████████████▎                     | 557/1000 [02:48<02:14,  3.30it/s]"
     ]
    },
    {
     "name": "stdout",
     "output_type": "stream",
     "text": [
      "2018-09-07 12:06:11.722208 | episode_reward(total_bleu): 0.01081968561849153\n"
     ]
    },
    {
     "name": "stderr",
     "output_type": "stream",
     "text": [
      "train dqn:  56%|███████████████████████████▍                     | 561/1000 [02:49<02:12,  3.30it/s]"
     ]
    },
    {
     "name": "stdout",
     "output_type": "stream",
     "text": [
      "2018-09-07 12:06:12.913568 | episode_reward(total_bleu): 0.2813865289816227\n"
     ]
    },
    {
     "name": "stderr",
     "output_type": "stream",
     "text": [
      "train dqn:  57%|███████████████████████████▋                     | 566/1000 [02:51<02:11,  3.30it/s]"
     ]
    },
    {
     "name": "stdout",
     "output_type": "stream",
     "text": [
      "2018-09-07 12:06:14.417458 | episode_reward(total_bleu): 0.0051648337382890295\n"
     ]
    },
    {
     "name": "stderr",
     "output_type": "stream",
     "text": [
      "train dqn:  57%|███████████████████████████▉                     | 569/1000 [02:52<02:10,  3.30it/s]"
     ]
    },
    {
     "name": "stdout",
     "output_type": "stream",
     "text": [
      "2018-09-07 12:06:15.276604 | episode_reward(total_bleu): 0.08894658310947132\n"
     ]
    },
    {
     "name": "stderr",
     "output_type": "stream",
     "text": [
      "train dqn:  58%|████████████████████████████▎                    | 578/1000 [02:54<02:07,  3.30it/s]"
     ]
    },
    {
     "name": "stdout",
     "output_type": "stream",
     "text": [
      "2018-09-07 12:06:17.884621 | episode_reward(total_bleu): 0.715458814835203\n"
     ]
    },
    {
     "name": "stderr",
     "output_type": "stream",
     "text": [
      "train dqn:  59%|████████████████████████████▊                    | 587/1000 [02:57<02:04,  3.31it/s]"
     ]
    },
    {
     "name": "stdout",
     "output_type": "stream",
     "text": [
      "2018-09-07 12:06:20.599940 | episode_reward(total_bleu): 0.6492548351189193\n"
     ]
    },
    {
     "name": "stderr",
     "output_type": "stream",
     "text": [
      "train dqn:  59%|████████████████████████████▉                    | 590/1000 [02:58<02:04,  3.30it/s]"
     ]
    },
    {
     "name": "stdout",
     "output_type": "stream",
     "text": [
      "2018-09-07 12:06:21.585626 | episode_reward(total_bleu): 0.11892995073227716\n"
     ]
    },
    {
     "name": "stderr",
     "output_type": "stream",
     "text": [
      "train dqn:  59%|█████████████████████████████                    | 594/1000 [03:00<02:03,  3.30it/s]"
     ]
    },
    {
     "name": "stdout",
     "output_type": "stream",
     "text": [
      "2018-09-07 12:06:23.116610 | episode_reward(total_bleu): 1.0934902732423037\n"
     ]
    },
    {
     "name": "stderr",
     "output_type": "stream",
     "text": [
      "train dqn:  60%|█████████████████████████████▍                   | 601/1000 [03:02<02:01,  3.30it/s]"
     ]
    },
    {
     "name": "stdout",
     "output_type": "stream",
     "text": [
      "2018-09-07 12:06:25.366006 | episode_reward(total_bleu): 0.2247144871603823\n"
     ]
    },
    {
     "name": "stderr",
     "output_type": "stream",
     "text": [
      "train dqn:  61%|█████████████████████████████▋                   | 607/1000 [03:04<01:59,  3.30it/s]"
     ]
    },
    {
     "name": "stdout",
     "output_type": "stream",
     "text": [
      "2018-09-07 12:06:27.111116 | episode_reward(total_bleu): 0.5323181336622779\n"
     ]
    },
    {
     "name": "stderr",
     "output_type": "stream",
     "text": [
      "train dqn:  61%|█████████████████████████████▉                   | 612/1000 [03:05<01:57,  3.30it/s]"
     ]
    },
    {
     "name": "stdout",
     "output_type": "stream",
     "text": [
      "2018-09-07 12:06:28.614698 | episode_reward(total_bleu): 1.0246513087421647\n"
     ]
    },
    {
     "name": "stderr",
     "output_type": "stream",
     "text": [
      "train dqn:  62%|██████████████████████████████▏                  | 615/1000 [03:06<01:56,  3.30it/s]"
     ]
    },
    {
     "name": "stdout",
     "output_type": "stream",
     "text": [
      "2018-09-07 12:06:29.520458 | episode_reward(total_bleu): 0.05549638826380882\n"
     ]
    },
    {
     "name": "stderr",
     "output_type": "stream",
     "text": [
      "train dqn:  62%|██████████████████████████████▎                  | 618/1000 [03:07<01:55,  3.30it/s]"
     ]
    },
    {
     "name": "stdout",
     "output_type": "stream",
     "text": [
      "2018-09-07 12:06:30.382253 | episode_reward(total_bleu): 0.43018525767645505\n"
     ]
    },
    {
     "name": "stderr",
     "output_type": "stream",
     "text": [
      "train dqn:  62%|██████████████████████████████▍                  | 622/1000 [03:08<01:54,  3.30it/s]"
     ]
    },
    {
     "name": "stdout",
     "output_type": "stream",
     "text": [
      "2018-09-07 12:06:31.614887 | episode_reward(total_bleu): 0.4188735020056563\n"
     ]
    },
    {
     "name": "stderr",
     "output_type": "stream",
     "text": [
      "train dqn:  63%|██████████████████████████████▊                  | 629/1000 [03:10<01:52,  3.30it/s]"
     ]
    },
    {
     "name": "stdout",
     "output_type": "stream",
     "text": [
      "2018-09-07 12:06:33.709577 | episode_reward(total_bleu): 0.5141790413422149\n"
     ]
    },
    {
     "name": "stderr",
     "output_type": "stream",
     "text": [
      "train dqn:  63%|██████████████████████████████▉                  | 632/1000 [03:11<01:51,  3.30it/s]"
     ]
    },
    {
     "name": "stdout",
     "output_type": "stream",
     "text": [
      "2018-09-07 12:06:34.616323 | episode_reward(total_bleu): 1.035437702407381\n"
     ]
    },
    {
     "name": "stderr",
     "output_type": "stream",
     "text": [
      "train dqn:  64%|███████████████████████████████▍                 | 641/1000 [03:14<01:48,  3.30it/s]"
     ]
    },
    {
     "name": "stdout",
     "output_type": "stream",
     "text": [
      "2018-09-07 12:06:37.316199 | episode_reward(total_bleu): 0.910466213037468\n"
     ]
    },
    {
     "name": "stderr",
     "output_type": "stream",
     "text": [
      "train dqn:  64%|███████████████████████████████▌                 | 644/1000 [03:15<01:47,  3.30it/s]"
     ]
    },
    {
     "name": "stdout",
     "output_type": "stream",
     "text": [
      "2018-09-07 12:06:38.218149 | episode_reward(total_bleu): 0.6328233111085073\n"
     ]
    },
    {
     "name": "stderr",
     "output_type": "stream",
     "text": [
      "train dqn:  65%|███████████████████████████████▉                 | 652/1000 [03:17<01:45,  3.30it/s]"
     ]
    },
    {
     "name": "stdout",
     "output_type": "stream",
     "text": [
      "2018-09-07 12:06:40.606802 | episode_reward(total_bleu): 0.19958147840723825\n"
     ]
    },
    {
     "name": "stderr",
     "output_type": "stream",
     "text": [
      "train dqn:  66%|████████████████████████████████▏                | 657/1000 [03:19<01:43,  3.30it/s]"
     ]
    },
    {
     "name": "stdout",
     "output_type": "stream",
     "text": [
      "2018-09-07 12:06:42.078971 | episode_reward(total_bleu): 0.321844871162928\n"
     ]
    },
    {
     "name": "stderr",
     "output_type": "stream",
     "text": [
      "train dqn:  66%|████████████████████████████████▎                | 660/1000 [03:20<01:43,  3.30it/s]"
     ]
    },
    {
     "name": "stdout",
     "output_type": "stream",
     "text": [
      "2018-09-07 12:06:43.008568 | episode_reward(total_bleu): 0\n"
     ]
    },
    {
     "name": "stderr",
     "output_type": "stream",
     "text": [
      "train dqn:  66%|████████████████████████████████▌                | 664/1000 [03:21<01:41,  3.30it/s]"
     ]
    },
    {
     "name": "stdout",
     "output_type": "stream",
     "text": [
      "2018-09-07 12:06:44.212839 | episode_reward(total_bleu): 0.34664208274407365\n"
     ]
    },
    {
     "name": "stderr",
     "output_type": "stream",
     "text": [
      "train dqn:  67%|████████████████████████████████▋                | 667/1000 [03:22<01:40,  3.30it/s]"
     ]
    },
    {
     "name": "stdout",
     "output_type": "stream",
     "text": [
      "2018-09-07 12:06:45.083160 | episode_reward(total_bleu): 0.06436761795586726\n"
     ]
    },
    {
     "name": "stderr",
     "output_type": "stream",
     "text": [
      "train dqn:  67%|████████████████████████████████▊                | 670/1000 [03:23<01:40,  3.30it/s]"
     ]
    },
    {
     "name": "stdout",
     "output_type": "stream",
     "text": [
      "2018-09-07 12:06:46.071565 | episode_reward(total_bleu): 0.019485650591129656\n"
     ]
    },
    {
     "name": "stderr",
     "output_type": "stream",
     "text": [
      "train dqn:  68%|█████████████████████████████████                | 676/1000 [03:25<01:38,  3.30it/s]"
     ]
    },
    {
     "name": "stdout",
     "output_type": "stream",
     "text": [
      "2018-09-07 12:06:48.016969 | episode_reward(total_bleu): 0.2793945732049855\n"
     ]
    },
    {
     "name": "stderr",
     "output_type": "stream",
     "text": [
      "train dqn:  68%|█████████████████████████████████▎               | 680/1000 [03:26<01:37,  3.30it/s]"
     ]
    },
    {
     "name": "stdout",
     "output_type": "stream",
     "text": [
      "2018-09-07 12:06:49.272701 | episode_reward(total_bleu): 0.6897781173759571\n"
     ]
    },
    {
     "name": "stderr",
     "output_type": "stream",
     "text": [
      "train dqn:  68%|█████████████████████████████████▌               | 685/1000 [03:27<01:35,  3.30it/s]"
     ]
    },
    {
     "name": "stdout",
     "output_type": "stream",
     "text": [
      "2018-09-07 12:06:50.709983 | episode_reward(total_bleu): 1.0616385021809127\n"
     ]
    },
    {
     "name": "stderr",
     "output_type": "stream",
     "text": [
      "train dqn:  69%|█████████████████████████████████▊               | 690/1000 [03:29<01:33,  3.30it/s]"
     ]
    },
    {
     "name": "stdout",
     "output_type": "stream",
     "text": [
      "2018-09-07 12:06:52.185559 | episode_reward(total_bleu): 0.05951994897666024\n"
     ]
    },
    {
     "name": "stderr",
     "output_type": "stream",
     "text": [
      "train dqn:  69%|█████████████████████████████████▉               | 693/1000 [03:30<01:33,  3.30it/s]"
     ]
    },
    {
     "name": "stdout",
     "output_type": "stream",
     "text": [
      "2018-09-07 12:06:53.110343 | episode_reward(total_bleu): 0.012847233078759672\n"
     ]
    },
    {
     "name": "stderr",
     "output_type": "stream",
     "text": [
      "train dqn:  70%|██████████████████████████████████               | 696/1000 [03:30<01:32,  3.30it/s]"
     ]
    },
    {
     "name": "stdout",
     "output_type": "stream",
     "text": [
      "2018-09-07 12:06:53.978401 | episode_reward(total_bleu): 0.033736261850138324\n"
     ]
    },
    {
     "name": "stderr",
     "output_type": "stream",
     "text": [
      "train dqn:  70%|██████████████████████████████████▎              | 699/1000 [03:31<01:31,  3.30it/s]"
     ]
    },
    {
     "name": "stdout",
     "output_type": "stream",
     "text": [
      "2018-09-07 12:06:54.808316 | episode_reward(total_bleu): 0.17596046409336885\n"
     ]
    },
    {
     "name": "stderr",
     "output_type": "stream",
     "text": [
      "train dqn:  70%|██████████████████████████████████▍              | 702/1000 [03:32<01:30,  3.30it/s]"
     ]
    },
    {
     "name": "stdout",
     "output_type": "stream",
     "text": [
      "2018-09-07 12:06:55.697000 | episode_reward(total_bleu): 0.014956683752757969\n"
     ]
    },
    {
     "name": "stderr",
     "output_type": "stream",
     "text": [
      "train dqn:  71%|██████████████████████████████████▉              | 712/1000 [03:35<01:27,  3.30it/s]"
     ]
    },
    {
     "name": "stdout",
     "output_type": "stream",
     "text": [
      "2018-09-07 12:06:58.715723 | episode_reward(total_bleu): 1.6452488388606583\n"
     ]
    },
    {
     "name": "stderr",
     "output_type": "stream",
     "text": [
      "train dqn:  72%|███████████████████████████████████              | 715/1000 [03:36<01:26,  3.30it/s]"
     ]
    },
    {
     "name": "stdout",
     "output_type": "stream",
     "text": [
      "2018-09-07 12:06:59.627468 | episode_reward(total_bleu): 0.07008389365992772\n"
     ]
    },
    {
     "name": "stderr",
     "output_type": "stream",
     "text": [
      "train dqn:  73%|███████████████████████████████████▌             | 727/1000 [03:40<01:22,  3.30it/s]"
     ]
    },
    {
     "name": "stdout",
     "output_type": "stream",
     "text": [
      "2018-09-07 12:07:03.219698 | episode_reward(total_bleu): 0.35995776461196294\n"
     ]
    },
    {
     "name": "stderr",
     "output_type": "stream",
     "text": [
      "train dqn:  73%|███████████████████████████████████▉             | 733/1000 [03:41<01:20,  3.30it/s]"
     ]
    },
    {
     "name": "stdout",
     "output_type": "stream",
     "text": [
      "2018-09-07 12:07:04.986765 | episode_reward(total_bleu): 0.12379695221969315\n"
     ]
    },
    {
     "name": "stderr",
     "output_type": "stream",
     "text": [
      "train dqn:  74%|████████████████████████████████████▍            | 743/1000 [03:45<01:17,  3.30it/s]"
     ]
    },
    {
     "name": "stdout",
     "output_type": "stream",
     "text": [
      "2018-09-07 12:07:08.008687 | episode_reward(total_bleu): 0.10752475298226516\n"
     ]
    },
    {
     "name": "stderr",
     "output_type": "stream",
     "text": [
      "train dqn:  75%|████████████████████████████████████▌            | 747/1000 [03:46<01:16,  3.30it/s]"
     ]
    },
    {
     "name": "stdout",
     "output_type": "stream",
     "text": [
      "2018-09-07 12:07:09.186858 | episode_reward(total_bleu): 0.2598258907920978\n"
     ]
    },
    {
     "name": "stderr",
     "output_type": "stream",
     "text": [
      "train dqn:  75%|████████████████████████████████████▊            | 752/1000 [03:47<01:15,  3.30it/s]"
     ]
    },
    {
     "name": "stdout",
     "output_type": "stream",
     "text": [
      "2018-09-07 12:07:10.704940 | episode_reward(total_bleu): 1.418176908998972\n"
     ]
    },
    {
     "name": "stderr",
     "output_type": "stream",
     "text": [
      "train dqn:  76%|████████████████████████████████████▉            | 755/1000 [03:48<01:14,  3.30it/s]"
     ]
    },
    {
     "name": "stdout",
     "output_type": "stream",
     "text": [
      "2018-09-07 12:07:11.614688 | episode_reward(total_bleu): 0.06168846629108364\n"
     ]
    },
    {
     "name": "stderr",
     "output_type": "stream",
     "text": [
      "train dqn:  77%|█████████████████████████████████████▋           | 770/1000 [03:53<01:09,  3.30it/s]"
     ]
    },
    {
     "name": "stdout",
     "output_type": "stream",
     "text": [
      "2018-09-07 12:07:16.110189 | episode_reward(total_bleu): 0.12010686966085023\n"
     ]
    },
    {
     "name": "stderr",
     "output_type": "stream",
     "text": [
      "train dqn:  78%|██████████████████████████████████████           | 778/1000 [03:55<01:07,  3.30it/s]"
     ]
    },
    {
     "name": "stdout",
     "output_type": "stream",
     "text": [
      "2018-09-07 12:07:18.504465 | episode_reward(total_bleu): 0.30926156437522867\n"
     ]
    },
    {
     "name": "stderr",
     "output_type": "stream",
     "text": [
      "train dqn:  79%|██████████████████████████████████████▌          | 786/1000 [03:57<01:04,  3.30it/s]"
     ]
    },
    {
     "name": "stdout",
     "output_type": "stream",
     "text": [
      "2018-09-07 12:07:20.909249 | episode_reward(total_bleu): 0.2333152269438186\n"
     ]
    },
    {
     "name": "stderr",
     "output_type": "stream",
     "text": [
      "train dqn:  80%|███████████████████████████████████████          | 796/1000 [04:00<01:01,  3.30it/s]"
     ]
    },
    {
     "name": "stdout",
     "output_type": "stream",
     "text": [
      "2018-09-07 12:07:23.877252 | episode_reward(total_bleu): 0.3075178345590723\n"
     ]
    },
    {
     "name": "stderr",
     "output_type": "stream",
     "text": [
      "\r",
      "train dqn:  80%|███████████████████████████████████████          | 797/1000 [04:01<01:01,  3.31it/s]"
     ]
    },
    {
     "name": "stdout",
     "output_type": "stream",
     "text": [
      "2018-09-07 12:07:24.122944 | episode_reward(total_bleu): 0.004000344895934054\n"
     ]
    },
    {
     "name": "stderr",
     "output_type": "stream",
     "text": [
      "train dqn:  80%|███████████████████████████████████████▏         | 800/1000 [04:02<01:00,  3.31it/s]"
     ]
    },
    {
     "name": "stdout",
     "output_type": "stream",
     "text": [
      "2018-09-07 12:07:25.013583 | episode_reward(total_bleu): 0.014289643046608793\n"
     ]
    },
    {
     "name": "stderr",
     "output_type": "stream",
     "text": [
      "train dqn:  81%|███████████████████████████████████████▋         | 811/1000 [04:05<00:57,  3.31it/s]"
     ]
    },
    {
     "name": "stdout",
     "output_type": "stream",
     "text": [
      "2018-09-07 12:07:28.313034 | episode_reward(total_bleu): 0.8963551562082416\n"
     ]
    },
    {
     "name": "stderr",
     "output_type": "stream",
     "text": [
      "train dqn:  82%|████████████████████████████████████████▏        | 819/1000 [04:07<00:54,  3.31it/s]"
     ]
    },
    {
     "name": "stdout",
     "output_type": "stream",
     "text": [
      "2018-09-07 12:07:30.719967 | episode_reward(total_bleu): 0.9432263809798536\n"
     ]
    },
    {
     "name": "stderr",
     "output_type": "stream",
     "text": [
      "train dqn:  83%|████████████████████████████████████████▍        | 826/1000 [04:09<00:52,  3.31it/s]"
     ]
    },
    {
     "name": "stdout",
     "output_type": "stream",
     "text": [
      "2018-09-07 12:07:32.815540 | episode_reward(total_bleu): 0.12496368919508705\n"
     ]
    },
    {
     "name": "stderr",
     "output_type": "stream",
     "text": [
      "train dqn:  83%|████████████████████████████████████████▌        | 829/1000 [04:10<00:51,  3.31it/s]"
     ]
    },
    {
     "name": "stdout",
     "output_type": "stream",
     "text": [
      "2018-09-07 12:07:33.681775 | episode_reward(total_bleu): 0.022828885523108012\n"
     ]
    },
    {
     "name": "stderr",
     "output_type": "stream",
     "text": [
      "train dqn:  84%|█████████████████████████████████████████        | 839/1000 [04:13<00:48,  3.31it/s]"
     ]
    },
    {
     "name": "stdout",
     "output_type": "stream",
     "text": [
      "2018-09-07 12:07:36.613995 | episode_reward(total_bleu): 0.2735802942594717\n"
     ]
    },
    {
     "name": "stderr",
     "output_type": "stream",
     "text": [
      "train dqn:  84%|█████████████████████████████████████████▍       | 845/1000 [04:15<00:46,  3.31it/s]"
     ]
    },
    {
     "name": "stdout",
     "output_type": "stream",
     "text": [
      "2018-09-07 12:07:38.406231 | episode_reward(total_bleu): 0.32804805092704975\n"
     ]
    },
    {
     "name": "stderr",
     "output_type": "stream",
     "text": [
      "train dqn:  85%|█████████████████████████████████████████▋       | 850/1000 [04:16<00:45,  3.31it/s]"
     ]
    },
    {
     "name": "stdout",
     "output_type": "stream",
     "text": [
      "2018-09-07 12:07:39.923243 | episode_reward(total_bleu): 0.048088071449180925\n"
     ]
    },
    {
     "name": "stderr",
     "output_type": "stream",
     "text": [
      "train dqn:  85%|█████████████████████████████████████████▊       | 853/1000 [04:17<00:44,  3.31it/s]"
     ]
    },
    {
     "name": "stdout",
     "output_type": "stream",
     "text": [
      "2018-09-07 12:07:40.816399 | episode_reward(total_bleu): 0.7031490827515764\n"
     ]
    },
    {
     "name": "stderr",
     "output_type": "stream",
     "text": [
      "train dqn:  86%|██████████████████████████████████████████       | 859/1000 [04:19<00:42,  3.31it/s]"
     ]
    },
    {
     "name": "stdout",
     "output_type": "stream",
     "text": [
      "2018-09-07 12:07:42.606334 | episode_reward(total_bleu): 1.0597690024785624\n"
     ]
    },
    {
     "name": "stderr",
     "output_type": "stream",
     "text": [
      "train dqn:  86%|██████████████████████████████████████████▏      | 861/1000 [04:20<00:42,  3.31it/s]"
     ]
    },
    {
     "name": "stdout",
     "output_type": "stream",
     "text": [
      "2018-09-07 12:07:43.184290 | episode_reward(total_bleu): 0.008562998571800028\n"
     ]
    },
    {
     "name": "stderr",
     "output_type": "stream",
     "text": [
      "train dqn:  87%|██████████████████████████████████████████▋      | 870/1000 [04:22<00:39,  3.31it/s]"
     ]
    },
    {
     "name": "stdout",
     "output_type": "stream",
     "text": [
      "2018-09-07 12:07:45.820052 | episode_reward(total_bleu): 0.5202114924781243\n"
     ]
    },
    {
     "name": "stderr",
     "output_type": "stream",
     "text": [
      "train dqn:  88%|██████████████████████████████████████████▉      | 876/1000 [04:24<00:37,  3.31it/s]"
     ]
    },
    {
     "name": "stdout",
     "output_type": "stream",
     "text": [
      "2018-09-07 12:07:47.823263 | episode_reward(total_bleu): 0.05112267542646036\n"
     ]
    },
    {
     "name": "stderr",
     "output_type": "stream",
     "text": [
      "train dqn:  88%|███████████████████████████████████████████      | 879/1000 [04:25<00:36,  3.31it/s]"
     ]
    },
    {
     "name": "stdout",
     "output_type": "stream",
     "text": [
      "2018-09-07 12:07:48.715075 | episode_reward(total_bleu): 0.11933727257760722\n"
     ]
    },
    {
     "name": "stderr",
     "output_type": "stream",
     "text": [
      "train dqn:  88%|███████████████████████████████████████████▏     | 881/1000 [04:26<00:35,  3.31it/s]"
     ]
    },
    {
     "name": "stdout",
     "output_type": "stream",
     "text": [
      "2018-09-07 12:07:49.266483 | episode_reward(total_bleu): 0.1442189159087381\n"
     ]
    },
    {
     "name": "stderr",
     "output_type": "stream",
     "text": [
      "train dqn:  89%|███████████████████████████████████████████▌     | 889/1000 [04:29<00:33,  3.30it/s]"
     ]
    },
    {
     "name": "stdout",
     "output_type": "stream",
     "text": [
      "2018-09-07 12:07:52.216334 | episode_reward(total_bleu): 0.6892088420604617\n"
     ]
    },
    {
     "name": "stderr",
     "output_type": "stream",
     "text": [
      "train dqn:  89%|███████████████████████████████████████████▊     | 893/1000 [04:30<00:32,  3.30it/s]"
     ]
    },
    {
     "name": "stdout",
     "output_type": "stream",
     "text": [
      "2018-09-07 12:07:53.371359 | episode_reward(total_bleu): 0.2667282471497561\n"
     ]
    },
    {
     "name": "stderr",
     "output_type": "stream",
     "text": [
      "train dqn:  90%|████████████████████████████████████████████     | 898/1000 [04:31<00:30,  3.30it/s]"
     ]
    },
    {
     "name": "stdout",
     "output_type": "stream",
     "text": [
      "2018-09-07 12:07:54.806817 | episode_reward(total_bleu): 0.24807104379551306\n"
     ]
    },
    {
     "name": "stderr",
     "output_type": "stream",
     "text": [
      "train dqn:  90%|████████████████████████████████████████████▏    | 902/1000 [04:32<00:29,  3.30it/s]"
     ]
    },
    {
     "name": "stdout",
     "output_type": "stream",
     "text": [
      "2018-09-07 12:07:55.976685 | episode_reward(total_bleu): 0.35682046916960264\n"
     ]
    },
    {
     "name": "stderr",
     "output_type": "stream",
     "text": [
      "train dqn:  90%|████████████████████████████████████████████▎    | 904/1000 [04:33<00:29,  3.31it/s]"
     ]
    },
    {
     "name": "stdout",
     "output_type": "stream",
     "text": [
      "2018-09-07 12:07:56.517737 | episode_reward(total_bleu): 0.860444884429034\n"
     ]
    },
    {
     "name": "stderr",
     "output_type": "stream",
     "text": [
      "train dqn:  91%|████████████████████████████████████████████▌    | 910/1000 [04:35<00:27,  3.31it/s]"
     ]
    },
    {
     "name": "stdout",
     "output_type": "stream",
     "text": [
      "2018-09-07 12:07:58.310285 | episode_reward(total_bleu): 0.045993181776072284\n"
     ]
    },
    {
     "name": "stderr",
     "output_type": "stream",
     "text": [
      "train dqn:  91%|████████████████████████████████████████████▊    | 914/1000 [04:36<00:26,  3.31it/s]"
     ]
    },
    {
     "name": "stdout",
     "output_type": "stream",
     "text": [
      "2018-09-07 12:07:59.483213 | episode_reward(total_bleu): 0.8438263172037829\n"
     ]
    },
    {
     "name": "stderr",
     "output_type": "stream",
     "text": [
      "train dqn:  92%|█████████████████████████████████████████████    | 919/1000 [04:37<00:24,  3.31it/s]"
     ]
    },
    {
     "name": "stdout",
     "output_type": "stream",
     "text": [
      "2018-09-07 12:08:00.984705 | episode_reward(total_bleu): 0.6878148051966104\n"
     ]
    },
    {
     "name": "stderr",
     "output_type": "stream",
     "text": [
      "train dqn:  92%|█████████████████████████████████████████████▎   | 924/1000 [04:39<00:22,  3.31it/s]"
     ]
    },
    {
     "name": "stdout",
     "output_type": "stream",
     "text": [
      "2018-09-07 12:08:02.473648 | episode_reward(total_bleu): 0.17965597132807015\n"
     ]
    },
    {
     "name": "stderr",
     "output_type": "stream",
     "text": [
      "train dqn:  93%|█████████████████████████████████████████████▍   | 927/1000 [04:40<00:22,  3.31it/s]"
     ]
    },
    {
     "name": "stdout",
     "output_type": "stream",
     "text": [
      "2018-09-07 12:08:03.318677 | episode_reward(total_bleu): 0.015812500215986056\n"
     ]
    },
    {
     "name": "stderr",
     "output_type": "stream",
     "text": [
      "train dqn:  94%|█████████████████████████████████████████████▉   | 937/1000 [04:43<00:19,  3.31it/s]"
     ]
    },
    {
     "name": "stdout",
     "output_type": "stream",
     "text": [
      "2018-09-07 12:08:06.307901 | episode_reward(total_bleu): 0.21980273607906764\n"
     ]
    },
    {
     "name": "stderr",
     "output_type": "stream",
     "text": [
      "train dqn:  94%|██████████████████████████████████████████████   | 939/1000 [04:43<00:18,  3.31it/s]"
     ]
    },
    {
     "name": "stdout",
     "output_type": "stream",
     "text": [
      "2018-09-07 12:08:06.881660 | episode_reward(total_bleu): 0.09505208752810232\n"
     ]
    },
    {
     "name": "stderr",
     "output_type": "stream",
     "text": [
      "train dqn:  94%|██████████████████████████████████████████████▏  | 942/1000 [04:44<00:17,  3.31it/s]"
     ]
    },
    {
     "name": "stdout",
     "output_type": "stream",
     "text": [
      "2018-09-07 12:08:07.786706 | episode_reward(total_bleu): 0.013743464373413589\n"
     ]
    },
    {
     "name": "stderr",
     "output_type": "stream",
     "text": [
      "train dqn:  95%|██████████████████████████████████████████████▋  | 953/1000 [04:48<00:14,  3.31it/s]"
     ]
    },
    {
     "name": "stdout",
     "output_type": "stream",
     "text": [
      "2018-09-07 12:08:11.115085 | episode_reward(total_bleu): 0.949262282130434\n"
     ]
    },
    {
     "name": "stderr",
     "output_type": "stream",
     "text": [
      "train dqn:  96%|██████████████████████████████████████████████▉  | 958/1000 [04:49<00:12,  3.31it/s]"
     ]
    },
    {
     "name": "stdout",
     "output_type": "stream",
     "text": [
      "2018-09-07 12:08:12.610582 | episode_reward(total_bleu): 0.29631125166424604\n"
     ]
    },
    {
     "name": "stderr",
     "output_type": "stream",
     "text": [
      "train dqn:  96%|███████████████████████████████████████████████  | 961/1000 [04:50<00:11,  3.31it/s]"
     ]
    },
    {
     "name": "stdout",
     "output_type": "stream",
     "text": [
      "2018-09-07 12:08:13.496618 | episode_reward(total_bleu): 0.09442261505593025\n"
     ]
    },
    {
     "name": "stderr",
     "output_type": "stream",
     "text": [
      "train dqn:  97%|███████████████████████████████████████████████▎ | 966/1000 [04:52<00:10,  3.31it/s]"
     ]
    },
    {
     "name": "stdout",
     "output_type": "stream",
     "text": [
      "2018-09-07 12:08:15.018071 | episode_reward(total_bleu): 0.6323473865877104\n"
     ]
    },
    {
     "name": "stderr",
     "output_type": "stream",
     "text": [
      "train dqn:  97%|███████████████████████████████████████████████▌ | 971/1000 [04:53<00:08,  3.31it/s]"
     ]
    },
    {
     "name": "stdout",
     "output_type": "stream",
     "text": [
      "2018-09-07 12:08:16.506238 | episode_reward(total_bleu): 1.413247893313971\n"
     ]
    },
    {
     "name": "stderr",
     "output_type": "stream",
     "text": [
      "train dqn:  98%|████████████████████████████████████████████████ | 980/1000 [04:56<00:06,  3.31it/s]"
     ]
    },
    {
     "name": "stdout",
     "output_type": "stream",
     "text": [
      "2018-09-07 12:08:19.471050 | episode_reward(total_bleu): 0.5233554483061583\n"
     ]
    },
    {
     "name": "stderr",
     "output_type": "stream",
     "text": [
      "train dqn:  99%|████████████████████████████████████████████████▎| 986/1000 [04:58<00:04,  3.31it/s]"
     ]
    },
    {
     "name": "stdout",
     "output_type": "stream",
     "text": [
      "2018-09-07 12:08:21.181900 | episode_reward(total_bleu): 0.08197070679854479\n"
     ]
    },
    {
     "name": "stderr",
     "output_type": "stream",
     "text": [
      "train dqn:  99%|████████████████████████████████████████████████▌| 990/1000 [04:59<00:03,  3.31it/s]"
     ]
    },
    {
     "name": "stdout",
     "output_type": "stream",
     "text": [
      "2018-09-07 12:08:22.312287 | episode_reward(total_bleu): 0.6994690854027058\n"
     ]
    },
    {
     "name": "stderr",
     "output_type": "stream",
     "text": [
      "train dqn:  99%|████████████████████████████████████████████████▌| 992/1000 [04:59<00:02,  3.31it/s]"
     ]
    },
    {
     "name": "stdout",
     "output_type": "stream",
     "text": [
      "2018-09-07 12:08:22.876948 | episode_reward(total_bleu): 0.024458286413899164\n"
     ]
    },
    {
     "name": "stderr",
     "output_type": "stream",
     "text": [
      "train dqn: 100%|████████████████████████████████████████████████▊| 997/1000 [05:01<00:00,  3.31it/s]"
     ]
    },
    {
     "name": "stdout",
     "output_type": "stream",
     "text": [
      "2018-09-07 12:08:24.307050 | episode_reward(total_bleu): 0.05188409022875924\n"
     ]
    },
    {
     "name": "stderr",
     "output_type": "stream",
     "text": [
      "train dqn: 100%|████████████████████████████████████████████████▉| 999/1000 [05:01<00:00,  3.31it/s]/home/team55/notespace/zengbin/jddc/dqn.py:241: UserWarning: invalid index of a 0-dim tensor. This will be an error in PyTorch 0.5. Use tensor.item() to convert a 0-dim tensor to a Python number\n",
      "  print(\"%i loss is \" % frame_idx, loss.data[0])\n",
      "train dqn: 100%|████████████████████████████████████████████████| 1000/1000 [05:02<00:00,  3.31it/s]"
     ]
    },
    {
     "name": "stdout",
     "output_type": "stream",
     "text": [
      "1000 loss is  tensor(831.1075, device='cuda:0')\n"
     ]
    },
    {
     "name": "stderr",
     "output_type": "stream",
     "text": [
      "\n"
     ]
    }
   ],
   "source": [
    "trainer.num_frames = 1000\n",
    "trainer.epsilon = 0.1\n",
    "trainer.run()\n",
    "# u.save_to_pkl(file=conf.pkl_dqn_ir, data=trainer)"
   ]
  },
  {
   "cell_type": "code",
   "execution_count": 35,
   "metadata": {},
   "outputs": [],
   "source": [
    "ir_model = trainer.ir_model\n",
    "dqn_model = trainer.dqn_model\n",
    "s2v_model = trainer.env.s2v_model\n",
    "test_set = read_test_questions02(conf.file_test_q)"
   ]
  },
  {
   "cell_type": "code",
   "execution_count": 38,
   "metadata": {},
   "outputs": [
    {
     "name": "stdout",
     "output_type": "stream",
     "text": [
      "0 --------------------------------------------------------------------\n",
      "其他问题<q>我直接解绑了实名认证的那个账号，需要把手机号也解绑了是的金融客服说这个要找你们解决他们不管\n",
      "['那不好意思打扰到您了',\n",
      " '亲亲。可以给您申请专员处理呢  辛苦留个联系方式呢，专员会联系您处理的呢',\n",
      " '您好，请问您是咨询之前的问题还是有其他的问题需要处理呢?#E-s[数字x] 亲爱的，一定是缘分让我们相遇，请问有什么问题我可以帮您呢?',\n",
      " '请问您是咨询之前的问题还是有其他的问题需要处理呢?',\n",
      " ' https://help.jd.com/user/issue/[数字x]-[链接x] 您可以看一看这个怎么注销呢',\n",
      " '您好#E-s[数字x]',\n",
      " '电脑端吗',\n",
      " '亲，是的恩',\n",
      " '是上门取件么 是的 要核实身份',\n",
      " '有什么问题我可以帮您处理的呢?',\n",
      " '#E-s[数字x]#E-s[数字x]  是的',\n",
      " '解绑实名需要联系金融的哦 如更改账号绑定手机或者邮箱 我们可以处理的哦',\n",
      " '好的 请您告知一下收货人姓名，收货地址以及收货手机号码',\n",
      " '请问还有其他还可以帮到您的吗? 取消订单之后没办法恢复哦 这边已经为您申请成功了哦',\n",
      " '#E-s[数字x]#E-s[数字x]']\n",
      "选择： tensor(0) 最终结果： 那不好意思打扰到您了\n",
      "1 --------------------------------------------------------------------\n",
      "ok<q>新电话号码+[电话x]\n"
     ]
    },
    {
     "name": "stderr",
     "output_type": "stream",
     "text": [
      "/home/team55/notespace/zengbin/jddc/dqn.py:65: UserWarning: volatile was removed and now has no effect. Use `with torch.no_grad():` instead.\n",
      "  state = Variable(state, volatile=True)\n"
     ]
    },
    {
     "name": "stdout",
     "output_type": "stream",
     "text": [
      "['祝您:开心工作，快乐生活，幸福每一天#E-s[数字x]#E-s[数字x]#E-s[数字x] '\n",
      " '感谢您对京东的支持，请您点击“小红心”对我的服务做出评价，祝您购物愉快，再见哦~',\n",
      " '亲 您看妹子还有其他的可以帮到您的吗?',\n",
      " '订单已经给您审核退款了哈 '\n",
      " '如您想实时了解订单取消情况，可以在“我的订单”-&gt;订单详情-&gt;点击“查看订单取消详情”查看取消进度~#E-s[数字x]#E-s[数字x]#E-s[数字x] '\n",
      " '请问还有其他还可以帮到您的吗? 还辛苦您给小妹打个评价呢~点击表情栏旁边的“+”哦。',\n",
      " '#E-s[数字x]#E-s[数字x]正在联系哈',\n",
      " '#E-s[数字x]#E-s[数字x]#E-s[数字x] #E-s[数字x]#E-s[数字x]#E-s[数字x]',\n",
      " '[姓名x]#E-s[数字x]',\n",
      " '感谢您对京东的支持，祝您生活愉快，再见! #E-s[数字x]#E-s[数字x]',\n",
      " '感谢您对京东的支持，祝您生活愉快，谢谢!',\n",
      " '我们是[数字x]开头的座机号码，请您注意接听电话哦#E-s[数字x]#E-s[数字x] '\n",
      " '亲爱哒，请问还有没有其他可以帮您的哟?#E-s[数字x]#E-s[数字x]',\n",
      " '感谢您对京东的关注，祝您生活愉快，再见! #E-s[数字x]#E-s[数字x]#E-s[数字x]',\n",
      " '别忘了对妹纸的服务做出评价哦 谢谢您啦  么么哒#E-s[数字x] 感谢您对京东的支持，祝您生活愉快，再见!',\n",
      " '#E-s[数字x]#E-s[数字x] 请问还有可以为您服务的吗?#E-s[数字x]#E-s[数字x]',\n",
      " '好的  还辛苦您给小妹打个评价呢~点击表情栏旁边的“+”哦。 请问还有其他还可以帮到您的吗?',\n",
      " '可以了吗?',\n",
      " '请问还有没有其他可以帮您的哟? #E-s[数字x]']\n",
      "选择： tensor(0) 最终结果： 祝您:开心工作，快乐生活，幸福每一天#E-s[数字x]#E-s[数字x]#E-s[数字x] 感谢您对京东的支持，请您点击“小红心”对我的服务做出评价，祝您购物愉快，再见哦~\n",
      "2 --------------------------------------------------------------------\n",
      "[数字x]这个订单的发票什么时候开呢<q>[数字x]这两个订单号\n",
      "['尊敬的商家朋友，请问有什么可以帮您的呢?#E-s[数字x]',\n",
      " '现金或者POS支付  [数字x]个工作日对账完成后开具电子发票  还在吗  亲   ',\n",
      " '您好，有什么问题我可以帮您处理或解决呢?',\n",
      " '[ORDERID_10102547]这单对吗',\n",
      " 'VA[数字x]  这是运单号 已经在配送了 您注意查收',\n",
      " '申请价格保护是么',\n",
      " '有什么问题我可以帮您处理或解决呢? 订单号提供下',\n",
      " '稍等 升级吧',\n",
      " '这周就会开出的哦',\n",
      " '您好，您收到几个包裹呢 [姓名x](CarSetCity)[姓名x]长杆可伸缩洗车拖把洗车刷 汽车掸子扫擦车拖把洗车工具 CS-[数字x] 绿色  '\n",
      " '这个是吧',\n",
      " '[组织机构x] 您好，增票是您的增票资质通过了，收到商品后的[数字x]-[数字x]个工作日为您开具并寄出的哈，还请您耐心等待下，我们会尽快为您处理好的哈',\n",
      " '好的呢 这边帮您联系站点 尝试帮您修改呦~~ #E-s[数字x]#E-s[数字x]',\n",
      " '请您稍等',\n",
      " '正在帮您查询 ，请您稍等[数字x]-[数字x]分钟哦',\n",
      " '好的 ，妹子帮您看下 已经开具了呢']\n",
      "选择： tensor(1) 最终结果： 现金或者POS支付  [数字x]个工作日对账完成后开具电子发票  还在吗  亲   \n",
      "3 --------------------------------------------------------------------\n",
      "我们家下午六点取件，师傅说[数字x]点他们取不了<q>我想把这个退了，重新买个\n",
      "['我审核退款了 款项原路返还，银行处理[数字x]-[数字x]个工作日，届时请您注意查收#E-s[数字x]',\n",
      " '亲亲  今天会送达的哦',\n",
      " '妹纸需要把您的换新订单取消的哦',\n",
      " '亲亲，您的订单目前已经到达[站点x]，预计明天送达~#E-s[数字x]',\n",
      " '这一款性价比是不错的哦，也是可以保留使用的哦',\n",
      " '您的订单已经开始配送，无法取消，请注意查收，请您见谅。 亲您的商品已经开始配送会取消不成功的呢 建议您到时候拒收 '\n",
      " '如果您不喜欢这个商品了的话#E-s[数字x] [日期x] [时间x] 您的订单在京东[站点x]发货完成，准备送往京东[站点x]',\n",
      " '发票周期超[数字x]天，无法换开了哦',\n",
      " '亲亲，请问还有什么能够帮助您的么?',\n",
      " '#E-s[数字x]#E-s[数字x]#E-s[数字x] 请问还有可以为您服务的吗?#E-s[数字x]#E-s[数字x] '\n",
      " '#E-s[数字x]#E-s[数字x]',\n",
      " '亲亲您是可以拒收的哈 这个是不影响的呢 您现在是可以重新下单的呢',\n",
      " '还请您稍等，正在为您查询~ 这边您的商品预计是今天下午给您送达的哦 ',\n",
      " '请问还有什么可以帮您么?',\n",
      " '#E-s[数字x]',\n",
      " '很高兴遇到您这么善解人意的客户，请问还有其他可以帮到您的吗?#E-s[数字x]#E-s[数字x]',\n",
      " '好的 那您在手机端取消订单就可以的哈 请问还有其他还可以帮到您的吗? 那这边就不打扰您了，祝您生活愉快，再见']\n",
      "选择： tensor(1) 最终结果： 亲亲  今天会送达的哦\n",
      "4 --------------------------------------------------------------------\n",
      "你好，这个服务单有什么问题吗?售后服务单号:[数字x]<q>我电话没响过麻烦通知客服再打一遍\n",
      "['美的(Midea)ZS[数字x]L[数字x]灯暖浴霸即开即暖',\n",
      " '这个系统会自动安排下发的哦',\n",
      " '[ORDERID_10265066] 嗯嗯',\n",
      " '有什么问题我可以帮您处理或解决呢?',\n",
      " '好的亲亲 您稍等 亲亲这边小妹帮您核实到站点人员离职，货物预计延迟[数字x]-[数字x]天的呢 还麻烦亲亲多多谅解的呢 '\n",
      " '#E-s[数字x]#E-s[数字x]',\n",
      " '[电话x]这个电话可以联系上您的吗?',\n",
      " '好的，正在为您查询，还请您稍微等待一小会#E-s[数字x]#E-s[数字x]#E-s[数字x]! '\n",
      " '已帮您终止了，目前服务单在待审核状态，请您刷新看下!#E-s[数字x]#E-s[数字x]',\n",
      " '[数字x]货到付款支付现金，显示退回账户余额， 因为订单[数字x]所在的账户是wdjhcWGMfBruNH '\n",
      " '账户余额也是在账户wdjhcWGMfBruNH上面的哦',\n",
      " '#E-s[数字x] 请问还有其他还可以帮到您的吗?',\n",
      " '不会的呢',\n",
      " '好的 短信已发送哦#E-s[数字x] 请问还有什么可以帮助您的吗#E-s[数字x]',\n",
      " '您客气啦 请问还有其他可以帮助您的吗?#E-s[数字x]',\n",
      " '请问有什么可以帮助您的呢#E-s[数字x]',\n",
      " '#E-s[数字x]您好，请问您是要咨询哪一类的问题呢~',\n",
      " '您好，在的呢，您请讲#E-s[数字x]']\n",
      "选择： tensor(0) 最终结果： 美的(Midea)ZS[数字x]L[数字x]灯暖浴霸即开即暖\n",
      "5 --------------------------------------------------------------------\n",
      "没收到显示签收为什么?有快递电话吗?<q>来了收到了\n",
      "['有什么问题我可以帮您处理或解决呢?',\n",
      " '正常时效的话今天可以为您配送到的那#E-s[数字x]',\n",
      " '很高兴遇到您这么善解人意的客户，请问还有其他还可以帮到您的吗?#E-s[数字x]#E-s[数字x]',\n",
      " '亲亲还有其他可以帮您的吗#E-s[数字x]',\n",
      " '这里还没有到达站点哦，还没有看到配送员的电话#E-s[数字x]',\n",
      " '#E-s[数字x] 亲亲，站长说了，配送员已经在外面送了 ',\n",
      " '客官您好~ 咱们相见就是缘分，有什么问题我可以帮您处理或解决呢?#E-s[数字x]#E-s[数字x]',\n",
      " '快递员会帮您转寄给商家',\n",
      " '很高兴遇到您这么善解人意的客户，请问还有其他还可以帮到您的吗?#E-s[数字x]#E-s[数字x]',\n",
      " '亲，等发货到达您的地区的时候 会有的',\n",
      " '请问还有其他还可以帮到您的吗?#E-s[数字x]',\n",
      " '请问还有其他还可以帮到您的吗?',\n",
      " '不客气 请问还有其他还可以帮到您的吗?#E-s[数字x]',\n",
      " '  您这边有没有朋友或者家人代签呢',\n",
      " '#E-s[数字x] 您耐心等待下的，咱们的配送员会提前与您联系的 手机保持通畅哦亲']\n",
      "选择： tensor(3) 最终结果： 亲亲还有其他可以帮您的吗#E-s[数字x]\n",
      "6 --------------------------------------------------------------------\n",
      "我设置的拼购会不会和店铺里设置的满[数字x]件[数字x]折的优惠活动叠加呢<q>还有拼购会不会和店铺优惠券叠加呢\n",
      "['这个是令牌设置的价格 令牌是商家自己设置的 设置好了之后QQ给运营即可 运营帮助商家绑定',\n",
      " '不可以  只可以享受一个 ',\n",
      " '请问这边还有什么可以帮助您的呢?',\n",
      " '您提供下订单号哦',\n",
      " '#E-s[数字x]#E-s[数字x] 您好，请问您的问题是否完全帮您了解决呢?如果您还有问题可以随时提问哦，我一直都在，随时为您解答。 '\n",
      " '因为没有得到您的答复，暂时不知道您的问题我是否为您解决完毕，如果您的问题没有解决那您可以随时联系我一定为您解决好。 '\n",
      " '对话框上有个红心，满意度(手机咨询点击界面下方”+“号选择)，麻烦您点击下哦(五颗红星为满意)， '\n",
      " '非常感谢~(&gt;^ω^&lt;)~有什么不明白的随时咨询我们哦',\n",
      " '请问还有其他还可以帮到您的吗?',\n",
      " '#E-s[数字x] 请问还有什么可以帮到您的?#E-s[数字x]#E-s[数字x]#E-s[数字x]',\n",
      " '那您这边是不申请价保了吗#E-s[数字x]',\n",
      " '不客气哒~#E-s[数字x] 您的满意是我们最大的动力哦~#E-s[数字x]希望下次有机会再为您服务! '\n",
      " '请问还有什么可以帮您呢?#E-s[数字x]怠慢之处请您谅解呢#E-s[数字x]',\n",
      " '亲爱哒，正为您积极查询，还请稍微等待一小会哦#E-s[数字x] 不叠加的哦，亲爱的 帮您咨询专员了',\n",
      " '为您看了亲爱哒，您只申请了一个退款的服务单哈，亲爱哒',\n",
      " '[数字x]*[数字x]*[金额x]',\n",
      " '#E-s[数字x] 请问还有什么可以帮您呢?#E-s[数字x]怠慢之处请您谅解呢#E-s[数字x]',\n",
      " '有什么问题我可以帮您处理或解决呢?',\n",
      " '有订单的需要客户同意才能删除的']\n",
      "选择： tensor(1) 最终结果： 不可以  只可以享受一个 \n",
      "7 --------------------------------------------------------------------\n",
      "你们京东不是上门取件的吗<q>是的当时我没在家，是寄到我朋友家的\n",
      "['小红人正在积极为您查询中，辛苦亲亲稍等[数字x]-[数字x]分钟的呢~#E-s[数字x]0#E-s[数字x]0#E-s[数字x]0 是的哟， '\n",
      " '查看已经分配配送员上门取件了哟',\n",
      " '已经是申请的，您到时关注一下的  ',\n",
      " '那妹子这边为您在售后这边留言您想要上门取件 您看可以吗 您好',\n",
      " '好的呢 小红人这边帮您联系站点 亲爱的  您收到订单号了么',\n",
      " '嗯嗯#E-s[数字x] #E-s[数字x]#E-s[数字x]',\n",
      " '商品是在京东网站上买的吗 不是的话，不受理哦',\n",
      " '亲亲提交售后申请服务单了吗',\n",
      " '邮寄到京东 ',\n",
      " '不客气哒#E-s[数字x]#E-s[数字x]这个是应该的呢#E-s[数字x] 请问还有其他还可以帮到您的吗?',\n",
      " '申请了哈',\n",
      " '您提交回收单是选择的上门取件的是吧',\n",
      " '亲亲两个服务单已经显示最终结果退货 第三个服务单的话是上门取件中',\n",
      " '#E-s[数字x]#E-s[数字x] 很高兴遇到您这么善解人意的客户，请问还有其他还可以帮到您的吗?#E-s[数字x]#E-s[数字x]',\n",
      " '因为是需要海关审核的 而且大部分是异地运输的 所以比较慢的',\n",
      " '就[数字x]号申请的那个就全部上门取件[数字x]个都取件了吗']\n",
      "选择： tensor(10) 最终结果： 您提交回收单是选择的上门取件的是吧\n",
      "8 --------------------------------------------------------------------\n",
      "发票问题[ORDERID_10317734]这个订单号的发票是已经发出了吗<q>#E-s[数字x]现在如果改个发票资质可以改吗就是公司换[数字x]个\n",
      "['是的有 [数字x]， 这个电话是对的是吗? 我看看配送时间能不能改成今天 还是您需要明天',\n",
      " '亲爱的 请问是什么问题呢?',\n",
      " '请问还有什么问题需要妹子为您解决的吗亲亲?#E-s[数字x]',\n",
      " '您买了五瓶 需要绑定哪个手机号码呢#E-s[数字x]',\n",
      " '我这边帮您沟通一下，一定尽快给您配送 还请您耐心等待一下，您看可以吗',\n",
      " '感谢您对京东的支持，祝您生活愉快，再见!',\n",
      " '别着急   我们一定还在正常时效给您送达的  放心好了',\n",
      " '#E-s[数字x]#E-s[数字x] 点击表情栏旁边的“+”哦。#E-s[数字x]#E-s[数字x]',\n",
      " '请问还有其他还可以帮到您的吗?',\n",
      " '您是使用储蓄卡还是信用卡支付的呢?',\n",
      " '#E-s[数字x] #E-s[数字x]请看看还有其他什么可以帮到您的呢?#E-s[数字x]',\n",
      " '  亲亲 您实际支付的是[数字x]呢哈',\n",
      " '#E-s[数字x]#E-s[数字x] 请问还有什么业务能为您效劳的呢#E-s[数字x]',\n",
      " '可以使用这款[数字x]W-[数字x]型号的 尊敬的客户，请问还有什么可以为您服务的呢? #E-s[数字x]#E-s[数字x]',\n",
      " '还有什么能够帮您的呢']\n",
      "选择： tensor(0) 最终结果： 是的有 [数字x]， 这个电话是对的是吗? 我看看配送时间能不能改成今天 还是您需要明天\n",
      "9 --------------------------------------------------------------------\n",
      "你好，其中草莓的部分我需要退款<q>草莓商家说没货了\n",
      "['[ORDERID_10047494]     这个订单吧',\n",
      " '提交纠纷单 需要留个联系方式的',\n",
      " '您好，请问您是什么原因要取消订单呢?',\n",
      " '请您提供下电话哦 这边给您取消呢',\n",
      " '小妹咨询一下呢',\n",
      " '亲爱哒，提供下订单号，为您查询下哦#E-s[数字x]',\n",
      " '还请您稍等，正在为您查询~ 您请点击订单详情-申请退款即可',\n",
      " '建议您联系下商家的哟',\n",
      " '好的 稍等。',\n",
      " '建议您保持手机畅通就可以了哟#E-s[数字x]#E-s[数字x]',\n",
      " '您可以在纠纷中申请专员介入处理的',\n",
      " '个人中心-客户服务-自助功能-价格保护',\n",
      " '麻烦您提供下咨询的订单号，小妹这就查询#E-s[数字x]',\n",
      " '小妹在的哦，请问有什么可以帮助到您?',\n",
      " '亲爱的，小妹看到您这个是需要您送到自提点的哦~']\n",
      "选择： tensor(0) 最终结果： [ORDERID_10047494]     这个订单吧\n",
      "10 --------------------------------------------------------------------\n",
      "顾客通过点击web咚咚[站点x]信息发送:[订单编号:[ORDERID_10300565]，订单金额:[金额x]，下单时间:[日期x][时间x]]<q>对的，需要开具发票。\n",
      "['[ORDERID_10014874] 这个是话费充值 [ORDERID_10017576] 这个是第三方的产品 剩下两个我们通知财务 可以吗',\n",
      " '这边为您反馈财务给您开具发票复印件加盖公章 [数字x]小时短信告知您 您看可以吗? 亲爱的',\n",
      " '这款耳机是不支持[数字x]天无理由退货的，商品的价格是一百多元的，音质上可能没您预想中的要好',\n",
      " '[ORDERID_10308755] 请问是这个订单吗亲爱哒 您可以提供一下贵司转账的对公账户公司账户名和金额吗亲',\n",
      " '这两个订单小妹看您选择的是增值税发票呢 正常的时效是增票资质审核通过的情况下，订单完成后[数字x]个工作日开具并寄出，然后会收到发票的快递哦， '\n",
      " '请您耐心等待下呢#E-s3[数字x] 增票是货物收到后采取后补的方式单独寄出的哦#E-s[数字x]',\n",
      " '还请您留下电话姓名这边帮您反馈专员核实的呢',\n",
      " '#E-s[数字x]',\n",
      " '您稍等哈 [ORDERID_10144463] 结果: 该商品符合价保规则，应价保 [价保金额(单件)] * [价保商品数量] = [金额x] '\n",
      " '#E-s[数字x]#E-s[数字x]#E-s[数字x]给您申请了[数字x]价保哦 亲亲 [数字x]-[数字x]天到账哈',\n",
      " '亲亲，小妹正在查询，还请您耐心等待一下 亲亲，你价保的是电纸书阅读器这款商品吗?',\n",
      " '一共[数字x]个是不是 [数字x]，[数字x]，[数字x]，[ORDERID_10450833] 添加税号:[数字x]F   其他信息不变对吗?',\n",
      " '您没有找到这个发票吗',\n",
      " '亲爱的  ，为您转接企业售后处理 可以吗',\n",
      " '很高兴遇到您这么善解人意的客户，请问还有其他还可以帮到您的吗?#E-s[数字x]#E-s[数字x]',\n",
      " '您好，请您耐心等待，我正在努力的为您查询',\n",
      " '[数字x] [ORDERID_10201973]  亲给您开具的是电子发票的']\n",
      "选择： tensor(1) 最终结果： 这边为您反馈财务给您开具发票复印件加盖公章 [数字x]小时短信告知您 您看可以吗? 亲爱的\n",
      "11 --------------------------------------------------------------------\n",
      "[数字x]瓦的厨卫灯另外[数字x]瓦那个灯没见到<q>[姓名x][数字x]\n",
      "['亲爱的，账户名是什么呢? 地址呢',\n",
      " '亲亲  好的  请您保持电话畅通呢',\n",
      " '好的哦亲爱的 这边之后请您保持电话畅通哈',\n",
      " '#E-s[数字x]#E-s[数字x] 号的 请问您还有什么别的问题我可以帮您的呢?#E-s[数字x]',\n",
      " '好的 请问，您还有其他需要帮助的吗?#E-s[数字x]',\n",
      " 'qq已经为您解绑成功呢#E-s[数字x] 请问还有什么可以帮您呢#E-s[数字x]',\n",
      " '请问还有其他还可以帮到您的吗?',\n",
      " '尊敬的商家朋友，请问有什么可以帮到您呢?#E-s[数字x]',\n",
      " '好的额 您这个订单需要申请价保吗',\n",
      " '今天[时间x]之前反馈的问题，会在今天[时间x]前给您回电的呢，如果是今天[时间x]之后反馈的问题，会在明天[时间x]前给您回电。',\n",
      " '请问还有其他还可以帮到您的吗?',\n",
      " '请保待手机通畅 请问还有其他还可以帮到您的吗?',\n",
      " '感谢您对京东的支持，祝您生活愉快，再见!',\n",
      " '没有问题了吗 您好您的订单已经有人升级处理了 请问还有其他还可以帮到您的吗?',\n",
      " '请问还有其他可以帮到您的吗?#E-s[数字x]']\n",
      "选择： tensor(1) 最终结果： 亲亲  好的  请您保持电话畅通呢\n",
      "12 --------------------------------------------------------------------\n",
      "是的<q>什么样子的\n"
     ]
    },
    {
     "name": "stdout",
     "output_type": "stream",
     "text": [
      "['点烟器哦 ',\n",
      " '多纤维高密度涤丝纺的 防水好，柔软性高',\n",
      " '由于咱购买的这款商品购买量比较大 可能还是需要您耐心等待呢',\n",
      " '退款已经给您退回去了 之后不退的话需要补款的',\n",
      " '微信端口 最下方有个发现-购物-个人中心-账户管理里面看看是否有个WD开头的临时账户可以切换',\n",
      " '亲亲这个是厂商直送的商品呢 具体时间我也不知道的呢',\n",
      " '需要您提供新单号的呢',\n",
      " '京东快递',\n",
      " '手机端口游戏什么的',\n",
      " '新订单中优惠券需要作废',\n",
      " '好的亲那就直接审核哦  [数字x]-[数字x]天 ',\n",
      " '您稍等 您好，预计[数字x]号后有货呢',\n",
      " '亲爱的，您这边不是提交售后服务单了吗 您这边发货~商家收到货后给您办理退款~ 您这边需要联系下商家，给商家说下',\n",
      " '发错了 [日期x] [时间x]，您的订单已到达[站点x]，',\n",
      " '一个工作日配送  关注下您的收票人姓名 您之前的太长申请打印不了 在吗 这边提供下您告知下您的姓名可以吗']\n",
      "选择： tensor(1) 最终结果： 多纤维高密度涤丝纺的 防水好，柔软性高\n",
      "13 --------------------------------------------------------------------\n",
      "我昨天买的电脑，要开电子发票相关信息忘记发了<q>[ORDERID_10521101]\n",
      "['请问您是咨询之前的问题还是有其他的问题需要处理呢?',\n",
      " '有什么问题我可以帮您处理或解决呢?',\n",
      " '亲爱的客户您好#E-s[数字x]',\n",
      " '我可能理解错您的意思了，#E-s[数字x]请您再详细描述一下可以吗?辛苦啦#E-s[数字x]#E-s[数字x]',\n",
      " '好的，正在为您查询，还请您稍微等待一小会#E-s[数字x]。[姓名x]。#E-s[数字x]#E-s[数字x]!',\n",
      " '#E-s[数字x]#E-s[数字x] 请问还有其他还可以帮到您的吗?',\n",
      " '还请您稍等，马上为您查询~ [金额x]元的差价对吗',\n",
      " '您好，很抱歉没太理解您的意思，辛苦您详细描述一下问题以便为您解答，或截问题图片给我，您看可以么?',\n",
      " '有什么问题我可以帮您处理或解决呢? 亲爱的  您选择的是电子发票哦',\n",
      " '请问您是咨询之前的问题还是有其他的问题需要处理呢?',\n",
      " '怎么了  订单状态，配送退货',\n",
      " '[ORDERID_10052668] 请问是这个商品吗 ，戴尔DELL灵越燃[数字x] II '\n",
      " '[金额x]英寸轻薄窄边框笔记本电脑(i[数字x]-[数字x][数字x][数字x]0U [数字x]G [数字x][数字x][数字x]GSSD+[数字x]T '\n",
      " 'MX[数字x][数字x]0 [数字x]G独显 IPS)银',\n",
      " '亲爱哒，让您久等了，请问有什么可以帮助您的吗?#E-s[数字x]',\n",
      " '亲爱哒，您客气了哈 '\n",
      " '这都是妹子该做的呢#E-s[数字x]感谢您一直以来对京东的支持呢，为您服务是小妹的荣幸呢#E-s[数字x]#E-s[数字x]#E-s[数字x] '\n",
      " '亲爱滴，请问还有其他需要帮助的么?#E-s[数字x]',\n",
      " '好的，您稍等，这边把您查询一下哈']\n",
      "选择： tensor(1) 最终结果： 有什么问题我可以帮您处理或解决呢?\n",
      "14 --------------------------------------------------------------------\n",
      "这个订单我申请退款了，重新拍了一单麻烦你们跟进处理下，谢谢<q>对的我申请退款了但是好像已经出库了\n",
      "[' 为了更快的处理您的问题辛苦您提供下订单号给我下哦       ',\n",
      " '亲爱的，您好，请问您是咨询之前的内容，还是有其他的问题要咨询呢?',\n",
      " '有什么问题我可以帮您处理或解决呢?',\n",
      " '您是什么原因要申请退款的呢#E-s[数字x]',\n",
      " '这边给您反馈配送 尽力拦截不取消呢',\n",
      " '请稍等下呢，正在为您查询#E-s[数字x]',\n",
      " '请提供一下订单号呢#E-s[数字x]',\n",
      " '有什么问题我可以帮您处理或解决呢?',\n",
      " '还请您稍等，正在为您查询~',\n",
      " '您申请退款是时 商品是已经发货了，我们快递师[姓名x]拦截的哈，拦截成功商品退回直接给您退款，拦截不成功 到时您就直接拒收的哈 ',\n",
      " '您好这个建议联系客户确认一下 是可以取消的',\n",
      " '没有关系的 这面会为您申请，拦截，拦截不成功的话您直接拒收就可以啦',\n",
      " '是的哈  亲爱的',\n",
      " '小妹在的哦，请问有什么可以帮助到您? 亲爱哒，提供下订单号，为您查询的哦#E-s[数字x]',\n",
      " '储蓄卡[数字x]-[数字x]个工作日，信用卡[数字x]-[数字x]5个工作日，货到付款退回到您的京东账户余额，微信零钱[数字x]-[数字x]工作日，具体的退款流程和时效建议您参考这个链接哦http://help.jd.com/user/issue/[数字x][数字x]0-[链接x] '\n",
      " '申请后耐心等待就可以的哦  有专人处理的呢']\n",
      "选择： tensor(1) 最终结果： 亲爱的，您好，请问您是咨询之前的内容，还是有其他的问题要咨询呢?\n",
      "15 --------------------------------------------------------------------\n",
      "您好，我想要我所购买的这款显卡的驱动程序我找了官网没找到可以超频和调节信仰灯的那个程序<q>好的\n",
      "['亲爱滴，麻烦您提供下订单号哦，方便为您更快的查询呢~~',\n",
      " '手机号可以更换的呢 如果您要更换手机号我来帮您操作哦',\n",
      " '有什么问题我可以帮您处理或解决呢?',\n",
      " '有什么问题我可以帮您处理或解决呢?',\n",
      " '还请您稍等，喝点水#E-s[数字x]，稍作休息。这里正在为您查询中哈!#E-s[数字x]#E-s[数字x] 是支持的亲爱的用户 '\n",
      " '帮您咨询的商家回复是可以ID',\n",
      " '[数字x] 双庆(ShuangQing)无痕贴双杆毛巾架 浴室毛巾挂架免打孔 太空铝金色SQ-[数字x] 请问是这个商品吗',\n",
      " '请问还有其他还可以帮到您的吗?',\n",
      " '不客气呢 感谢您对京东的支持，祝您生活愉快，再见! 这边看到 商品已经在给您配送了 这边只能为您尝试取消订单 拦截不成功了 建议您拒收一下 '\n",
      " '这个已经是给您发货了 没办法给您退了呢 给您带来不便 确实是抱歉呢 ',\n",
      " '您好。请问有什么我可以帮助您的呢',\n",
      " '您好，请问有什么可以帮到您的呢?',\n",
      " '有什么问题我可以帮您处理或解决呢?',\n",
      " '您好哦亲爱的',\n",
      " '有什么问题我可以帮您处理或解决呢? #E-s[数字x]#E-s[数字x]',\n",
      " '那是什么 #E-s[数字x]#E-s[数字x]#E-s[数字x]',\n",
      " '这个订单吗?']\n",
      "选择： tensor(10) 最终结果： 有什么问题我可以帮您处理或解决呢?\n",
      "16 --------------------------------------------------------------------\n",
      "怎么开呢?普通增值税发票可以吗?<q>电子发票可以可以打印吗?\n",
      "['安装费用发票是门店开具的哦',\n",
      " '亲爱的客户，还麻烦您提供下订单号，妹子这边给您查询哦~',\n",
      " '#E-s[数字x]#E-s[数字x]',\n",
      " '有什么问题我可以帮您处理或解决呢?',\n",
      " '可以的 这边登记换开',\n",
      " '请问您是咨询之前的问题还是有其他的问题需要处理呢?',\n",
      " '您好 请问有什么可以帮到您? 您是[金额x]块钱的单子是吗',\n",
      " '好的 亲爱的，请问还有其他可以帮到您的吗?#E-s[数字x]#E-s[数字x]',\n",
      " '还请您稍等，马上为您查询~ 可以的哦',\n",
      " '是的 可以的 您预留下手机号 待委托书审核通过后升级专员跟进',\n",
      " '您好，感谢您对我们的关注，为了响应国家环保政策，京东自营全面启用电子[姓名x]通发票，您可以按照页面提示选择填写对应的发票信息，我们将在系统中为您开具电子发票，开具后您可在京东进行发票查看和下载、打印，电子发票的法律效应与纸质[姓名x]票备同等法律效力，可支持报销入账，请您放心使用，谢谢!',\n",
      " '[数字x] 魅族 PRO [数字x] [数字x]GB+6[数字x]GB 全网通公开版 静谧黑 移动联通电信[数字x]G手机 双卡双待 '\n",
      " '【条形码:[电话x]58[数字x]】 请问是这个商品吗',\n",
      " '订单完成[数字x]h内开具的哦是的那',\n",
      " '亲亲  '\n",
      " '为响应国家环保号召，京东全国范围内将陆续全面推行电子发票，[数字x]年[数字x]月1[数字x]日[时间x]起京东自营商品全面开具电子发票，不开具纸质普通发票。 ',\n",
      " '一个订单一张发票哦']\n",
      "选择： tensor(1) 最终结果： 亲爱的客户，还麻烦您提供下订单号，妹子这边给您查询哦~\n",
      "17 --------------------------------------------------------------------\n",
      "商家ID:&nbsp;[数字x]<q>没有了哦谢谢\n",
      "['尊敬的商家，您好!欢迎咨询京东物流商家在线客服~ #E-s[数字x]',\n",
      " '亲爱哒，您好，在的呢#E-s[数字x]',\n",
      " '亲爱的，您遇到什么问题了呢~#E-s[数字x]#E-s[数字x]#E-s[数字x]#E-s[数字x]#E-s[数字x]',\n",
      " '请问还有什么可以帮您呢?#E-s[数字x]怠慢之处请您谅解呢#E-s[数字x] 不客气哒~#E-s[数字x] '\n",
      " '您的满意是我们最大的动力哦~#E-s[数字x]希望下次有机会再为您服务! '\n",
      " '亲爱哒，麻烦您对我刚刚的解答做出评价，您放心我并未离线，您还有其他问题，可以继续反馈，我会继续给您解决哒#E-s[数字x] '\n",
      " '祝您家大卖#E-s[数字x]#E-s[数字x]订单接到手软~么么哒~mua~~#E-s[数字x]#E-s[数字x]',\n",
      " '#E-s[数字x]#E-s[数字x]#E-s[数字x]',\n",
      " '尊敬的商家朋友，请问有什么可以帮到您呢?#E-s[数字x]#E-s[数字x]#E-s[数字x]',\n",
      " '您说呢亲爱哒',\n",
      " '尊敬的商家朋友，我是您的京东物流小红人呢，有什么能帮到您的吗?#E-s[数字x]麻烦提供下商家ID#E-s[数字x]',\n",
      " '麻烦您提供下手机号 帮您升级专员[数字x]H回电处理哦',\n",
      " '您真是太客气啦，这些都是我们应该做的呢。 请问还有其他可以帮到您的吗? '\n",
      " '亲爱的商家，以后您的物流问题可以通过咚咚—小耳机图标—京东物流商家支持或青龙系统、沧海系统、物流官网找到我们哦，感谢您对京东的支持，祝您生活愉快!',\n",
      " '辛苦您耐心等待回复的 专员[数字x]小时回复的',\n",
      " '尊敬的商家您好，我是您的京东物流小红人工号[数字x]，有什么能帮到您的吗?? 尊敬的商家您好，有什么能为您效劳的呢 '\n",
      " '#E-s[数字x]#E-s[数字x]#E-s[数字x]',\n",
      " '已经帮您联系了 哦 这边还有什么其他可以帮到您的吗?',\n",
      " '应该的呢 请问还有什么可以帮您呢?#E-s[数字x]怠慢之处请您谅解呢#E-s[数字x]',\n",
      " '辛苦您等待回电呢  立刻为您升级  您放心我并未离线，您还有其他问题，可以继续反馈，我会继续给您解决哒#E '\n",
      " '顺祝您阖府安康[地址x]，[数字x]年一切都好!']\n",
      "选择： tensor(1) 最终结果： 亲爱哒，您好，在的呢#E-s[数字x]\n",
      "18 --------------------------------------------------------------------\n",
      "安徽[地址x]这边京东物流联系谁有货要京东物流来取<q>?\n",
      "['有什么问题我可以帮您处理或解决呢?',\n",
      " '亲爱的，这边是可以直接拨打[数字x]的哈 #E-s[数字x]',\n",
      " '这边京东快递暂未接收到商家库房的包裹#E-s[数字x]',\n",
      " '亲爱哒~可以到的呢',\n",
      " '您是要开通京东物流吗',\n",
      " '收货地址，广东[地址x] 亲爱的，系统显示是这个地址 是我们的配送联系的吗',\n",
      " '尊敬的商家，您好!欢迎咨询京东物流商家在线客服~ #E-s[数字x]',\n",
      " '是会尽快为您运输的哦',\n",
      " '您客气了，都是我们应该的#E-s[数字x] 很荣幸此次为您服务，请问是否还有其他可以帮您?#E-s[数字x] #E-s[数字x]#E-s[数字x]',\n",
      " '亲爱哒，请问是否还有其他可以帮您?#E-s[数字x]',\n",
      " '亲爱哒，我们不对个人开放的哦',\n",
      " '一般这样的话就是您地址我们京东配送不到的呢 所以需要给您转寄处理的',\n",
      " '改成这个吗?“安徽[地址x]',\n",
      " '您好，京东客服[数字x]号很高兴为您服务，请问有什么可以帮到您的!#E-s[数字x]#E-s[数字x] 您是要开通京东快递吗',\n",
      " '[姓名x] 还有什么可以帮您的吗?']\n",
      "选择： tensor(1) 最终结果： 亲爱的，这边是可以直接拨打[数字x]的哈 #E-s[数字x]\n",
      "19 --------------------------------------------------------------------\n",
      "刚才下单，没来得及选送货时间没关系，只要是礼拜天就可以<q>我知道，你们要调货我意思是有货了，也放到星期天发货，可以吗?其他时间没办法收货\n",
      "['[数字x]次[数字x]20 一次[数字x]',\n",
      " '小妹为您联系下站点',\n",
      " '亲亲 您是需要下午给您送到是吗',\n",
      " '好的，请您稍等一下呢',\n",
      " '您把订单号发我下',\n",
      " '感谢您对京东的支持，祝您购物愉快，再见!',\n",
      " '亲亲 您要是不方便的话 我也可以帮您升级 会有专员明天[数字x]点前跟您联系的 哦#E-s[数字x]',\n",
      " '您太客气了呢，这都是我应该做的呢~ 请问还有其他还可以帮到您的吗?',\n",
      " '请问还有其他还可以帮到您的吗? 您太客气了呢，这都是我应该做的呢~~#E-s[数字x]~O(∩_∩)O/~',\n",
      " '您把新订单号提供下给我哦',\n",
      " '#E-s[数字x] 请问还有其他需要帮助您的吗?',\n",
      " '#E-s[数字x] 请问还有其他还可以帮到您的吗?',\n",
      " '请问还有其他还可以帮到您的吗?',\n",
      " '#E-s[数字x] 妹子怠慢的地方，您多多包含哦，辛苦您在聊天框的的中的[站点x]给我一个评价哦，妹子期待再次为您服务 '\n",
      " '请问还有什么其他问题可以帮到您吗?',\n",
      " '请问还有其他可以帮到您的吗?#E-s[数字x]#E-s[数字x]']\n",
      "选择： tensor(1) 最终结果： 小妹为您联系下站点\n",
      "20 --------------------------------------------------------------------\n",
      "前天买的冰箱，昨天下午才送到的，还没通电呢，退货的话怎么退咨询订单号:[ORDERID_10267489]商品ID:751624<q>收到了，太大了，屋里的地方比较小，放个冰箱，屋里一点地都没了\n",
      "['您好，麻烦您提供一下订单号呢 这边帮您查询一下',\n",
      " '#E-s[数字x]#E-s[数字x]好的亲亲',\n",
      " ' 好的，请您稍等一下哦，小芒果为您查看一下呢#E-s[数字x] 原价[数字x]，现价[数字x]，差价[数字x] 这边订单签收完成之后给您申请差价哦',\n",
      " '亲亲这个的收货期限是[数字x]到[数字x]天呢 亲亲您看您来不及的话',\n",
      " '有什么问题我可以帮您处理或解决呢?',\n",
      " '亲爱的客户，还麻烦您提供下订单号，妹子这边给您查询哦~',\n",
      " '每个商品的促销不一样的哦',\n",
      " '亲亲 您购买的商品是不在京东配送的范围内哦',\n",
      " '有什么问题我可以帮您处理或解决呢? 还请您稍等，正在为您查询~',\n",
      " '好的哦 #E-s[数字x]请问还有什么业务需要为您效劳的呢? 别忘了对妹纸的服务做出评价哦 谢谢您啦  么么哒#E-s[数字x]',\n",
      " '好的 找到就行 请问还有其他还可以帮到您的吗?',\n",
      " '#E-s[数字x]#E-s[数字x] 您再辛苦的等等喔，么么哒 请问您还有什么别的问题我可以帮您的呢?#E-s[数字x]',\n",
      " '亲亲您看看您可以让您朋友帮您收货吗',\n",
      " '您好，APP端麻烦您点击对话框右下角的“+”，点击“订单”后，选择一下您需要咨询的订单哦，PC端在我的订单中查看，还请您点击复制给我一下哈，小妹这边帮您查询哦~',\n",
      " '3170534 西门子(SIEMENS) [数字x]升 三门冰箱 零度保鲜 滤膜保湿 LED内显(拉丝银) '\n",
      " 'BCD-[数字x](KG[数字x]FA[数字x]EC)   服务使用详情 [商品快照] 请问是这个商品吗']\n",
      "选择： tensor(14) 最终结果： 3170534 西门子(SIEMENS) [数字x]升 三门冰箱 零度保鲜 滤膜保湿 LED内显(拉丝银) BCD-[数字x](KG[数字x]FA[数字x]EC)   服务使用详情 [商品快照] 请问是这个商品吗\n",
      "21 --------------------------------------------------------------------\n",
      "https://item.jd.com/5535583.html<q>你这个不包安装吗，选择安装还需要钱\n",
      "['您好，[数字x]客服小苹果为您服务，请问有什么可以帮您呢#E-s[数字x]',\n",
      " '您好， 小妹在的呢 请问有什么可以为小主效劳的呢#E-s[数字x]#E-s[数字x]#E-s[数字x]#E-s[数字x]',\n",
      " '您好，[数字x]客服阳阳为您服务!! 您好小主 在的哈 请问有什么可以为您服务的呢#E-s[数字x]',\n",
      " '您好客官，[数字x]小果果客服很高兴为您服务，请问有什么可以帮您的呢 #E-b[数字x]',\n",
      " '亲亲 小妹在的呢 请问有什么能帮您的呢',\n",
      " '您好小主 在的哈 请问有什么可以为您服务的呢#E-s[数字x]',\n",
      " '亲爱的，妹子在的哦，有什么问题需要妹子为您处理的呢#E-s[数字x]',\n",
      " '您好小主 在的哈 美好的一天从遇见您开始，请问有什么可以为您服务的呢#E-s[数字x]',\n",
      " '您好小主 在的哈 请问有什么可以为您服务的呢#E-s[数字x]',\n",
      " '亲爱的，妹子在的哦，有什么问题需要妹子为您处理的呢#E-s[数字x]',\n",
      " '有安装服务呢 亲亲#E-s[数字x] 您下单的时候选择安装服务，选择一个距离您最近的店面到店安装就可以了呢 亲亲#E-s[数字x]#E-s[数字x]',\n",
      " '请问还有其他需要帮您的吗#E-s[数字x]',\n",
      " '您好小主 在的哈 请问有什么可以帮助您的呢#E-s[数字x] 您好',\n",
      " '您好，[数字x]客服小苹果为您服务，请问有什么可以帮您呢#E-s[数字x]',\n",
      " '亲亲页面上有安装服务 您可以点击进去选择的哦']\n",
      "选择： tensor(1) 最终结果： 您好， 小妹在的呢 请问有什么可以为小主效劳的呢#E-s[数字x]#E-s[数字x]#E-s[数字x]#E-s[数字x]\n",
      "22 --------------------------------------------------------------------\n",
      "你看是不是物流丢件了?<q>昨天跟我说送错地方了\n",
      "['稍等 给您看一下#E-s[数字x] 物流显示已经到达罗定站#E-s[数字x]',\n",
      " '有什么问题我可以帮您处理或解决呢?',\n",
      " '您客气了呢#E-s[数字x]#E-s[数字x] 很高兴遇到您这么善解人意的客户，请问还有其他还可以帮到您的吗?#E-s[数字x]#E-s[数字x]',\n",
      " '，[姓名x]时(conterflex) SLIM MC UV [数字x]mm 薄型双层镀膜滤镜  请问是这个商品吗',\n",
      " '请问您是咨询之前的问题还是有其他的问题需要处理呢?',\n",
      " '，[日期x] [时间x]，[站点x] 您的订单在京东[站点x]投递完成，请上门提货 #E-s[数字x]',\n",
      " '客官您好~ 咱们相见就是缘分，有什么问题我可以帮您处理或解决呢?#E-s[数字x]#E-s[数字x]',\n",
      " '配送电话联系您了是吗',\n",
      " '您好，这是赚了第三方物流呢 转',\n",
      " '请问还有其他可以帮到您的吗?',\n",
      " '嗯嗯对的',\n",
      " '配送员:[姓名x]，电话:[电话x] 请问师傅有没有联系过您呢 ',\n",
      " '辛苦您提供一下京东的订单号，小妹为您查询#E-s[数字x]',\n",
      " '之后[数字x]小时 短信告知你',\n",
      " '亲，还请您耐心等待一下，因为是在您签收后[数字x]小时内给您到账的呢']\n",
      "选择： tensor(1) 最终结果： 有什么问题我可以帮您处理或解决呢?\n",
      "23 --------------------------------------------------------------------\n",
      "不能直接开吗<q>好的\n"
     ]
    },
    {
     "name": "stdout",
     "output_type": "stream",
     "text": [
      "['您客气了，这是我们应该做的呢，请问还有其他问题可以帮到您的吗?',\n",
      " '#E-s[数字x]#E-s[数字x]遇到像您这样善解人意的客户，真是我们莫大的荣幸呢~ 请问还有其他还可以帮到您的吗?',\n",
      " '#E-s[数字x] 在京东APP，点击右下角--我的--退换/售后-找到您的订单申请下售后服务哈~',\n",
      " '请问还有其他还可以帮到您的吗?',\n",
      " '粘贴的在前面',\n",
      " '嗯呢 您还申请了一个服务单 都审核了  稍后您也会收到短信通知 请问还有其他需要帮助的么',\n",
      " '嗯呢 您好，请问还有什么需要帮助您的呢',\n",
      " '很高兴遇到您这么善解人意的客户，请问还有其他还可以帮到您的吗?#E-s[数字x]#E-s[数字x] '\n",
      " '小妹也会跟进到您签收的哦，还请您放心哈#E-s[数字x]',\n",
      " '是的    这个就是增值税专用发票呢 亲爱的',\n",
      " '您的订单已经清关发出  无法取消订单的  ',\n",
      " '增值税发票是可以提供详细清单的呢',\n",
      " '请问有什么可以帮您的?',\n",
      " '亲亲，订单完成后会生成电子发票哦  生成后告知财务换开就可以了呢  不影响的呢',\n",
      " '开了的话，系统会直接转入到小金库的',\n",
      " '有什么问题我可以帮您处理或解决呢?']\n",
      "选择： tensor(1) 最终结果： #E-s[数字x]#E-s[数字x]遇到像您这样善解人意的客户，真是我们莫大的荣幸呢~ 请问还有其他还可以帮到您的吗?\n",
      "24 --------------------------------------------------------------------\n",
      "之前的问题<q>对\n",
      "['为响应国家税务总局第二十三号文要求，京东全国范围内将陆续全面推行电子发票，目前正在部分地区进行测试，我们机构是(  图书运营[组织机构x]) '\n",
      " '的无法开具普通发票，订单完成以后会开具电子发票的哦  因为还没有点击确定收货  暂时没有开具  麻烦您点击确定收货  谢谢 '\n",
      " '电子发票在订单完成后[数字x]小时之内开具完成;月初[数字x]-[数字x]号因为税控系统报税期间，订单完成后[数字x]小时之内开具完成，查看路径:电脑端:我的京东—客户服务—我的发票—发票详情下载即可;手机端:我的—客户服务—发票服务—发票详情查看即可',\n",
      " '[组织机构x]  税号:[电话x][数字x]W  账号:[数字x][身份证号x][数字x]  开户行:交通银行南京[地址x][组织机构x]  '\n",
      " '税号:[电话x][数字x]W  账号:[数字x][身份证号x][数字x]  开户行:交通银行南京龙园中路支行  行号:[电话x]  '\n",
      " '地址:南京市广东路[数字x]号  电话:[电话x]',\n",
      " '您可以咨询下厂家售后技术人员的呢',\n",
      " '您好，小妹大概为您了解了一下',\n",
      " '小妹正飞奔着为您查询，还请您稍等一下呢，[姓名x]',\n",
      " '少什么呢  收到几个包裹 ',\n",
      " '亲爱的，因为这边小妹给不到您专业性的回答，请您咨询一下商品客服好吗?在您购买的商品页面，有个在线客服，您联系一下她好吗。',\n",
      " '您看这个问题呢，妹子给您升级到专员处理，您给个回电的号码',\n",
      " '亲爱滴，请您提供下之前绑定的手机号和您现在正在使用的手机号  ',\n",
      " '需要修改发票吗??',\n",
      " '刚才尝试转接了，由于人数过多，无法转接过去呢，我帮您升级到专员，您方便提供个联系方式吗?回电时间:中午[数字x]点之前咨询的会在今天[数字x]点之前回电，[数字x]点之后的会在次日[数字x]点之前回电您呢!#E-s[数字x]',\n",
      " '#E-s[数字x]#E-s[数字x] 亲爱的掌柜大人，还有什么可以为您效劳的吗?',\n",
      " '请问还有其他还可以帮到您的吗?',\n",
      " '请稍等，马上为您核实之前的问题处理进度并继续帮您跟进 [数字x]和[数字x]和[数字x]和[ORDERID_10208947] '\n",
      " '这几个订单外，还有[数字x]个是吗',\n",
      " '就是您说的面膜能否使用的问题的吗']\n",
      "选择： tensor(1) 最终结果： [组织机构x]  税号:[电话x][数字x]W  账号:[数字x][身份证号x][数字x]  开户行:交通银行南京[地址x][组织机构x]  税号:[电话x][数字x]W  账号:[数字x][身份证号x][数字x]  开户行:交通银行南京龙园中路支行  行号:[电话x]  地址:南京市广东路[数字x]号  电话:[电话x]\n",
      "25 --------------------------------------------------------------------\n",
      "[姓名x][数字x]<q>京东其他都好就是这点不好直接显示签收什么信息都看不到\n",
      "['请问还有其他还可以帮到您的吗?',\n",
      " '感谢您对京东的支持，祝您生活愉快，再见!',\n",
      " '没有问题了吗 您好您的订单已经有人升级处理了 请问还有其他还可以帮到您的吗?',\n",
      " '请问还有其他可以帮到您的吗?#E-s[数字x]',\n",
      " '嗯嗯亲亲 很高兴遇到您这么善解人意的客户，请问还有其他还可以帮到您的吗?#E-s[数字x]',\n",
      " '尊敬的商家朋友，请问有什么可以帮到您呢?#E-s[数字x]',\n",
      " 'qq已经为您解绑成功呢#E-s[数字x] 请问还有什么可以帮您呢#E-s[数字x]',\n",
      " '请问还有其他还可以帮到您的吗?',\n",
      " '亲爱的，账户名是什么呢? 地址呢',\n",
      " '不客气，这些都是我应该做的啦#E-s[数字x] 您看还有什么需要帮忙的吗',\n",
      " '亲爱的，邮箱是什么呢?',\n",
      " '好的 请问，您还有其他需要帮助的吗?#E-s[数字x]',\n",
      " '只有小程序可以哦',\n",
      " '感谢您对京东的支持，祝您购物愉快',\n",
      " '请问 还有什么可以帮助您呢? 您客气了! 希望您点击小心心评价对本次服务做出个评价哟~谢谢您~#E-s[数字x]']\n",
      "选择： tensor(0) 最终结果： 请问还有其他还可以帮到您的吗?\n",
      "26 --------------------------------------------------------------------\n",
      "南京南湖站的电话<q>[ORDERID_10359218]\n",
      "['亲 这边看到商品还未到达站点哦 还请您耐心等待下哦 请您放心，关于这个订单，[姓名x]也会为您跟进哦#E-s[数字x]请保持电话畅通，等待收货哈',\n",
      " '没有显示座机的号码的呢 请您谅解的呢额',\n",
      " '有什么问题我可以帮您处理或解决呢?',\n",
      " '还请您稍等，马上为您查询~ ，重庆[地址x]',\n",
      " '是的，这个需要连接电源的',\n",
      " '您好 这边看到您已经取消了订单',\n",
      " '请问还有其他可以帮到您的吗? 感谢您对京东的支持，祝您生活愉快，再见!',\n",
      " '抱歉出现这样的情况，建议您发起交易纠纷哈，商家如果[数字x]小时不回复，或者回复您不满意，可以点击京东介入，有仲裁专员介入处理哈，链接是https://myjd-crm.jd.com/referee/orderlist.action',\n",
      " '#E-s[数字x] 亲爱的，请问还有其他可以帮到您的么?',\n",
      " '好的 辛苦您跟收货人讲清楚 注意电话畅通哈',\n",
      " '非常抱歉给您带来不便了#E-s[数字x] 请问还有其他可以帮到您的吗?#E-s[数字x]#E-s[数字x]',\n",
      " '好的，这就帮您查询，烦请稍等下哟#E-s[数字x]#E-s[数字x] 您的包裹目前还在发往站点途中 还未到达 今天会给您配送到 '\n",
      " '这边咨询站点的联系方式是需要自取吗?',\n",
      " '马上为您查询，烦请稍等下下哟#E-s[数字x]#E-s[数字x]',\n",
      " '都是电子发票    发票按照订单开具 ',\n",
      " '京东叮咚(DingDong)mini[数字x] 智能音箱 AI家庭助手 自定义唤醒词 白色 亲爱的，请问是这个商品吗?#E-s[数字x]']\n",
      "选择： tensor(1) 最终结果： 没有显示座机的号码的呢 请您谅解的呢额\n",
      "27 --------------------------------------------------------------------\n",
      "商家ID:&nbsp;[数字x]新疆[地址x]，采油三对<q>请问这个地址发京东快递能到吗??\n",
      "['尊敬的商家，您好!欢迎咨询京东物流商家在线客服~ #E-s[数字x]',\n",
      " '亲爱哒，您好，在的呢#E-s[数字x]',\n",
      " '亲爱的，您遇到什么问题了呢~#E-s[数字x]#E-s[数字x]#E-s[数字x]#E-s[数字x]#E-s[数字x]',\n",
      " '请问还有什么可以帮您呢?#E-s[数字x]怠慢之处请您谅解呢#E-s[数字x] 不客气哒~#E-s[数字x] '\n",
      " '您的满意是我们最大的动力哦~#E-s[数字x]希望下次有机会再为您服务! '\n",
      " '亲爱哒，麻烦您对我刚刚的解答做出评价，您放心我并未离线，您还有其他问题，可以继续反馈，我会继续给您解决哒#E-s[数字x] '\n",
      " '祝您家大卖#E-s[数字x]#E-s[数字x]订单接到手软~么么哒~mua~~#E-s[数字x]#E-s[数字x]',\n",
      " '#E-s[数字x]#E-s[数字x]#E-s[数字x]',\n",
      " '尊敬的商家朋友，请问有什么可以帮到您呢?#E-s[数字x]#E-s[数字x]#E-s[数字x]',\n",
      " '您说呢亲爱哒',\n",
      " '尊敬的商家朋友，我是您的京东物流小红人呢，有什么能帮到您的吗?#E-s[数字x]麻烦提供下商家ID#E-s[数字x]',\n",
      " '麻烦您提供下手机号 帮您升级专员[数字x]H回电处理哦',\n",
      " '尊敬的商家您好，我是您的京东物流小红人工号[数字x]，有什么能帮到您的吗?? 尊敬的商家您好，有什么能为您效劳的呢 '\n",
      " '#E-s[数字x]#E-s[数字x]#E-s[数字x]',\n",
      " '已经帮您联系了 哦 这边还有什么其他可以帮到您的吗?',\n",
      " '您真是太客气啦，这些都是我们应该做的呢。 请问还有其他可以帮到您的吗? '\n",
      " '亲爱的商家，以后您的物流问题可以通过咚咚—小耳机图标—京东物流商家支持或青龙系统、沧海系统、物流官网找到我们哦，感谢您对京东的支持，祝您生活愉快!',\n",
      " '这个订单客户收到商品了吗',\n",
      " '辛苦您耐心等待回复的 专员[数字x]小时回复的',\n",
      " '正在为您查询，还请您稍微等待一会儿，现在咨询的人比较多，还请您谅解#E-s[数字x] [组织机构x]  取件地址 是哪里的呢 亲爱的']\n",
      "选择： tensor(0) 最终结果： 尊敬的商家，您好!欢迎咨询京东物流商家在线客服~ #E-s[数字x]\n",
      "28 --------------------------------------------------------------------\n",
      "这个地址能到吗亲爱的<q>亲爱的好的\n",
      "['好的请稍等 您好可以到的呢但是会有延迟的哈',\n",
      " '正在帮您查询 ，请您稍等[数字x]-[数字x]分钟哦',\n",
      " '亲爱的  到村的是不可以配送的 请问还有其他还可以帮到您的吗?',\n",
      " '没有查询到站点的呢',\n",
      " '#E-s[数字x] #E-s[数字x]妹子祝福您幸福快乐，前程锦绣，还请您点击表情栏旁边的“+”打赏我一个评价哦#E-s[数字x] '\n",
      " '谢谢您的理解的哈~如果有其他问题欢迎第一时间联系我们哦#E-s[数字x] 感谢您对京东的支持，祝您生活愉快，再见!',\n",
      " '#E-s[数字x]#E-s[数字x]#E-s[数字x]#E-s[数字x]',\n",
      " '亲爱的，您遇到什么问题了呢~#E-s[数字x]#E-s[数字x]#E-s[数字x]#E-s[数字x]#E-s[数字x]',\n",
      " '#E-s[数字x]',\n",
      " '尊敬的商家，您好!欢迎咨询京东物流商家在线客服~ #E-s[数字x]',\n",
      " '【命中站点: 常州[姓名x]站】',\n",
      " '正在为您查询，还请您稍等两到三分钟的呢~#E-s[数字x] 不到嗯',\n",
      " '#E-s[数字x]#E-s[数字x]',\n",
      " '亲爱哒~可以到的呢',\n",
      " '#E-s[数字x] 请问还有其他可以帮到您的吗? #E-j[数字x] 还请稍后点击小红心#E-s[数字x]对我的服务做出评价哦!非常感谢您 '\n",
      " '感谢您对京东的支持，祝您生活愉快，再见! 您好',\n",
      " '嗯嗯亲亲 请问还有其他还可以帮到您的吗?']\n",
      "选择： tensor(0) 最终结果： 好的请稍等 您好可以到的呢但是会有延迟的哈\n",
      "29 --------------------------------------------------------------------\n",
      "是<q>好的，谢谢您!对，只有一箱\n",
      "['亲爱滴 您客气的呢 #E-s[数字x] 您的满意是我们的追求，祝您有个阳光好心情#E-s[数字x] '\n",
      " '亲爱的，您看您还有其他什么需要小妹帮助的吗#E-s[数字x]小妹竭诚为您回答哦~#E-s[数字x] '\n",
      " '风如梦，过无痕，只为心的思念，遥寄一份浓浓的祝福，请您动动小手点击小红心对小妹的服务做出评价，留一份思念给小妹#E-s[数字x] '\n",
      " '感谢您对京东的支持，祝您生活愉快，再见! 缘聚缘散梦乡逢，别忘了对妹纸的服务做出评价哦 谢谢您啦 么么哒#E-s[数字x] '\n",
      " '缘聚缘散缘如水，背负万丈尘寰，只为一句，等待下一次相逢，请点击小红心为我做出评价吧',\n",
      " '亲，有什么可以帮助您的呢? 亲，您是想咨询之前的问题，还是有新问题呢? #E-s[数字x]#E-s[数字x]',\n",
      " '#E-s[数字x] 记得接听电话亲爱的 ',\n",
      " '请问还有其他还可以帮到您的吗?#E-s[数字x]',\n",
      " '感谢您对京东的支持，祝您生活愉快，再见!#E-s[数字x]',\n",
      " '#E-s[数字x]',\n",
      " '不客气哒~#E-s[数字x] 您的满意是我们最大的动力哦~#E-s[数字x]希望下次有机会再为您服务! '\n",
      " '请问还有什么可以帮您呢?#E-s[数字x]怠慢之处请您谅解呢#E-s[数字x] '\n",
      " '亲爱哒，麻烦您对我刚刚的解答做出评价，您放心我并未离线，您还有其他问题，可以继续反馈，我会继续给您解决哒#E-s[数字x] '\n",
      " '祝您家大卖#E-s[数字x]#E-s[数字x]订单接到手软~么么哒~mua~~#E-s[数字x]#E-s[数字x]',\n",
      " '请问还有其他还可以帮到您的吗?',\n",
      " '很抱歉给您添麻烦了 '\n",
      " '遇到像您这样宽容的客户真是对我莫大的支持呢~#E-s[数字x]还辛苦您点击“+”给小妹评价下~#E-s[数字x]祝您天天开心哦~#E-s[数字x]',\n",
      " '亲爱的，请问还有其他可以帮到您的么?#E-s[数字x]',\n",
      " '不客气，这是我应该做的， 给您添麻烦了， 您看还有其他可以帮到您的吗?#E-s[数字x]',\n",
      " '您客气了哦，请问还有其他可以帮到您的吗?#E-s[数字x]',\n",
      " '为您催促下哦',\n",
      " '好的，这边帮您核实，核实后会电话联系您的呢 麻烦您提供一下您的联系方式可以么#E-s[数字x]',\n",
      " '您的订单正在配送途中，请您准备签收(配送员:[姓名x]，电话:[电话x]或[电话x])，感谢您的耐心等待。 尊敬的用户，请问您还有其他问题需要帮助的吗?']\n",
      "选择： tensor(0) 最终结果： 亲爱滴 您客气的呢 #E-s[数字x] 您的满意是我们的追求，祝您有个阳光好心情#E-s[数字x] 亲爱的，您看您还有其他什么需要小妹帮助的吗#E-s[数字x]小妹竭诚为您回答哦~#E-s[数字x] 风如梦，过无痕，只为心的思念，遥寄一份浓浓的祝福，请您动动小手点击小红心对小妹的服务做出评价，留一份思念给小妹#E-s[数字x] 感谢您对京东的支持，祝您生活愉快，再见! 缘聚缘散梦乡逢，别忘了对妹纸的服务做出评价哦 谢谢您啦 么么哒#E-s[数字x] 缘聚缘散缘如水，背负万丈尘寰，只为一句，等待下一次相逢，请点击小红心为我做出评价吧\n",
      "30 --------------------------------------------------------------------\n",
      "[姓名x]，天津[地址x][数字x]<q>买过斑布的卫生纸还有书\n",
      "['销售电话联系您您的哦',\n",
      " '请问还有其他还可以帮到您的吗?',\n",
      " '感谢您对京东的支持，祝您生活愉快，再见!',\n",
      " '没有问题了吗 您好您的订单已经有人升级处理了 请问还有其他还可以帮到您的吗?',\n",
      " '请问还有其他可以帮到您的吗?#E-s[数字x]',\n",
      " '嗯嗯亲亲 很高兴遇到您这么善解人意的客户，请问还有其他还可以帮到您的吗?#E-s[数字x]',\n",
      " '请问还有其他还可以帮到您的吗?',\n",
      " '尊敬的商家朋友，请问有什么可以帮到您呢?#E-s[数字x]',\n",
      " 'qq已经为您解绑成功呢#E-s[数字x] 请问还有什么可以帮您呢#E-s[数字x]',\n",
      " '请问还有其他还可以帮到您的吗?',\n",
      " '好的 请问需要更换为哪个手机号码呢',\n",
      " '好的 请您告知一下账号里绑定的邮箱',\n",
      " '亲爱的，账户名是什么呢? 地址呢',\n",
      " '账号大概是什么时候注册的呢',\n",
      " '天津[地址x] 天津市 津南[地址x] 咸水沽镇天津市津南区咸水沽镇[姓名x]南里[日期x][数字x]    也是有站点哦~ 江西[地址x] '\n",
      " '景德镇[地址x] 珠山区 湖田经济适用房    有站点哦~']\n",
      "选择： tensor(0) 最终结果： 销售电话联系您您的哦\n",
      "31 --------------------------------------------------------------------\n",
      "你这个手表是插什么卡的?移动的吗?<q>手表软件有游戏吗?\n",
      "['支持[数字x]g卡，但是要开通[数字x]g服务哦，亲亲',\n",
      " '亲亲 卡是需要您到您当地的营业厅办理的哦 [数字x].运营商中国[地址x] '\n",
      " '套餐要求开通来电显示、[数字x]G流量(建议流量套餐[数字x]00M以上)、短信 [数字x] 不支持副卡和剪卡  ',\n",
      " '这边建议您取出SIM卡重新插拔一下呢亲亲#E-s[数字x]',\n",
      " '影响您的使用了吗',\n",
      " ' 目前仅支持移动/联通的SIM卡，不支持电信卡。 '\n",
      " 'SIM卡必须开通来电显示，短信和流量来确保手表功能的正常使用，如果未开通可能出现:未开通来电显示，手表无法识别号码，会出现已经在联系人列表中的家庭成员被拒接;未开通短信，会出现无法激活、查询话费等问题; '\n",
      " '流量需支持[数字x]G通信 请问还有其他需要帮您的吗#E-s[数字x] '\n",
      " '还辛苦您给小妹打个评价呢~点击表情栏旁边的“+”哦还辛苦您给小妹打个评价呢~点击表情栏旁边的“+”哦 '\n",
      " '麻烦了哦，亲亲，祝您生活愉快#E-s[数字x]#E-s[数字x]',\n",
      " '亲亲  插拔卡重启和重新刷新一下试试嗯;',\n",
      " '不客气了哦#E-s[数字x]您看还有什么可以为您效劳的呢亲爱的?#E-s[数字x]',\n",
      " '亲亲，只有前面的哦 屏幕尺寸:[金额x]英寸',\n",
      " '狩猎者系列的笔尖便宜一些的',\n",
      " '建议三星闪[姓名x]东芝的Class[数字x]高速Micro TF[数字x]G存储卡哦 内存卡的嗯 亲亲 ，看还有其他什么可以帮助您的吗?',\n",
      " '亲亲有的呢',\n",
      " '请问还有其他需要帮您的吗#E-s[数字x]',\n",
      " '如果商品存在质量问题影响了您的正常使用，在[数字x]天内可以申请退货，[数字x]天内申请换货的哦，之后可以维修，您可以直接提交售后服务单',\n",
      " '是小卡吗亲亲#E-s[数字x]#E-s[数字x] 不是副卡吧亲亲#E-s[数字x]',\n",
      " '麻烦您提供一下订单号呢']\n",
      "选择： tensor(10) 最终结果： 亲亲有的呢\n",
      "32 --------------------------------------------------------------------\n",
      "E卡都是能正常开发票的对吗之前的问题<q>我的意思是，公司打算采购一些京东E卡，这个是能正常开发票的吗增票还是?\n"
     ]
    },
    {
     "name": "stdout",
     "output_type": "stream",
     "text": [
      "['#E-s[数字x] 请问还有什么其他的可以帮您呢?#E-s[数字x]',\n",
      " '您好，小妹大概为您了解了一下',\n",
      " '少什么呢  收到几个包裹 ',\n",
      " '为响应国家税务总局第二十三号文要求，京东全国范围内将陆续全面推行电子发票，目前正在部分地区进行测试，我们机构是(  图书运营[组织机构x]) '\n",
      " '的无法开具普通发票，订单完成以后会开具电子发票的哦  因为还没有点击确定收货  暂时没有开具  麻烦您点击确定收货  谢谢 '\n",
      " '电子发票在订单完成后[数字x]小时之内开具完成;月初[数字x]-[数字x]号因为税控系统报税期间，订单完成后[数字x]小时之内开具完成，查看路径:电脑端:我的京东—客户服务—我的发票—发票详情下载即可;手机端:我的—客户服务—发票服务—发票详情查看即可',\n",
      " '[组织机构x]  税号:[电话x][数字x]W  账号:[数字x][身份证号x][数字x]  开户行:交通银行南京[地址x][组织机构x]  '\n",
      " '税号:[电话x][数字x]W  账号:[数字x][身份证号x][数字x]  开户行:交通银行南京龙园中路支行  行号:[电话x]  '\n",
      " '地址:南京市广东路[数字x]号  电话:[电话x]',\n",
      " '可以的哦',\n",
      " '亲爱的，因为这边小妹给不到您专业性的回答，请您咨询一下商品客服好吗?在您购买的商品页面，有个在线客服，您联系一下她好吗。',\n",
      " '您看这个问题呢，妹子给您升级到专员处理，您给个回电的号码',\n",
      " '亲爱滴，请您提供下之前绑定的手机号和您现在正在使用的手机号  ',\n",
      " '需要修改发票吗??',\n",
      " '刚才尝试转接了，由于人数过多，无法转接过去呢，我帮您升级到专员，您方便提供个联系方式吗?回电时间:中午[数字x]点之前咨询的会在今天[数字x]点之前回电，[数字x]点之后的会在次日[数字x]点之前回电您呢!#E-s[数字x]',\n",
      " '#E-s[数字x]#E-s[数字x] 亲爱的掌柜大人，还有什么可以为您效劳的吗?',\n",
      " '您可以咨询下厂家售后技术人员的呢',\n",
      " '小妹正飞奔着为您查询，还请您稍等一下呢，[姓名x]',\n",
      " '请问还有其他还可以帮到您的吗?']\n",
      "选择： tensor(0) 最终结果： #E-s[数字x] 请问还有什么其他的可以帮您呢?#E-s[数字x]\n",
      "33 --------------------------------------------------------------------\n",
      "涉及[数字x]个订单<q>[ORDERID_10531041]通过了\n",
      "['您好  请您发一下税号',\n",
      " '好的 稍等哦 #E-s[数字x]#E-s[数字x]',\n",
      " '请您稍等一下，正在为您核实处理中哦~',\n",
      " '亲爱的  这边查询到您确实是个人抬头的呢 '\n",
      " '亲爱的，这边查询到您的订单还没完成，辛苦您提供您的发票信息，这边为您记录，订单完成后会为您持续跟进您的发票问题，直到问题解决。但是您一定要提供正确您的发票信息哟',\n",
      " '亲爱的，请问还有其他可以为您服务的呢~~',\n",
      " '亲亲麻烦提供下订单号呢#E-s[数字x] 之后我帮您查询~#E-s[数字x]',\n",
      " '，荣耀[数字x] 全网通 尊享版 [数字x]GB+[数字x]GB 魅海蓝 移动联通电信[数字x]G手机 双卡双待 【条形码:[电话x][数字x]】 '\n",
      " '请问是这个商品吗 商品已经取走了吗',\n",
      " '好的稍等 [数字x]元的差价么亲',\n",
      " '，您的订单正在配送途中，请您准备签收(配送员:[姓名x]，电话:[电话x])，感谢您的耐心等待。 亲亲  您的订单已经有配送员配送中的呢 亲亲  '\n",
      " '麻烦您耐心等待一下哦 亲亲  我们尽快给您配送的呢 #E-s[数字x]#E-s[数字x]#E-s[数字x]#E-s[数字x] 亲亲  '\n",
      " '您的订单小妹已经催促站点处理的呢 亲亲  您保持手机畅通哦',\n",
      " '您好!感谢您对京东的支持，因食品类商品的生产批次较多，所以无法确定给您发货商品的生产日期，但是请您放心，我们京东所有商品都是严格按照国家要求的保质期管理规范进行操作的(商品入库时，商品剩余保质期时间要大于总保质期的[数字x]/[数字x]，商品在给客户发货时，剩余保质时间要大于总保质期的[数字x]/[数字x])，还请您放心。',\n",
      " '请问还有其他还可以帮到您的吗?',\n",
      " '[姓名x] 还请您关注一下商品详情活动页面的呢 请问您还有其他问题需要咨询吗?',\n",
      " '[数字x]   [ORDERID_10414224]   ',\n",
      " '您可在商品界面点击联系供应商哦’ #E-s[数字x]#E-s[数字x] 请问还有其他还可以帮到您的吗?',\n",
      " '亲爱的，这个是父单，拆分成[数字x]和[ORDERID_10365103]这[数字x]个子单的哈亲 ']\n",
      "选择： tensor(1) 最终结果： 好的 稍等哦 #E-s[数字x]#E-s[数字x]\n",
      "34 --------------------------------------------------------------------\n",
      "真的佛都有火，别人[数字x]抢的[数字x]号发货，我[数字x]抢的，你竟然回复[数字x]左右，你们就这样对待用户的<q>不是久不久的问题，为什么别人可以发货，说[数字x]号就[数字x]号，我的说[数字x]号，竟然一直未知数\n",
      "['正为您查询，还请稍微等待一小会儿~~ 商品名称:，[站点x] 索尼(SONY) Xperia XZ[数字x] G[数字x] [数字x]D扫描 '\n",
      " 'HDR高清屏幕 [数字x]GB+6[数字x]GB 星粉 移动联通双[数字x]G手机 '\n",
      " '亲爱的，请问有什么需要帮助您的吗?方便说一下您的问题么?#E-s[数字x]',\n",
      " '有什么可以帮您的呢~',\n",
      " '掌柜大人~请问有什么可以帮助到您?',\n",
      " '亲爱的 ，您是咨询什么问题#E-s[数字x]呢???',\n",
      " '请问您是咨询之前的问题还是有其他的问题需要处理呢? 尊敬的客户这个订单号不存在。',\n",
      " '#E-s[数字x]',\n",
      " '好的，正在为您查询，还请您稍微等待一小会#E-s[数字x]#E-s[数字x]#E-s[数字x]!',\n",
      " '您好，请您耐心等待，我正在努力的为您查询',\n",
      " '尊敬的商家朋友，请问有什么可以帮您的呢?#E-s[数字x] 正在为您查询，还请您稍等两到三分钟的呢~#E-s[数字x]',\n",
      " \"[数字x] [站点x]法国原瓶进口 [姓名x](L'EGIDE DOREE)红葡萄酒[数字x]mL*[数字x]瓶\",\n",
      " '有什么问题我可以帮您处理或解决呢?',\n",
      " '您主要什么问题呢',\n",
      " '您好，有什么可以帮助您的呢#E-s[数字x] 正在为您查询，还请您稍微等待一会儿，现在咨询的人比较多，还请您谅解#E-s[数字x]',\n",
      " '您好，有什么能够帮助您的吗?',\n",
      " '有什么问题我可以帮您处理或解决呢?']\n",
      "选择： tensor(0) 最终结果： 正为您查询，还请稍微等待一小会儿~~ 商品名称:，[站点x] 索尼(SONY) Xperia XZ[数字x] G[数字x] [数字x]D扫描 HDR高清屏幕 [数字x]GB+6[数字x]GB 星粉 移动联通双[数字x]G手机 亲爱的，请问有什么需要帮助您的吗?方便说一下您的问题么?#E-s[数字x]\n",
      "35 --------------------------------------------------------------------\n",
      "帮我开通一下货到付款和发京东快递在线[数字x]折<q>好的给我开通一下\n",
      "['请您稍等一下，正在为您核实处理中哦~#E-s[数字x] 已经开通，亲稍后试试哦#E-s[数字x]',\n",
      " '有什么问题我可以帮您处理或解决呢?',\n",
      " '建议您换个网络环境 或者重新登录一下进行尝试哦',\n",
      " '您太客气了呢，这都是我应该做的呢~ 请问还有其他还可以帮到您的吗?',\n",
      " '有什么问题我可以帮您处理或解决呢?',\n",
      " '有什么问题我可以帮您处理或解决呢?',\n",
      " '您好，亲爱哒~，我是芝芝#E-s[数字x]， 还请您稍等，马上为您查询~',\n",
      " '不是   打标 是您前台店铺标题前面显示的哦',\n",
      " '加入购物车，点击结算， 选择支付方式的',\n",
      " '很高兴遇到您这么善解人意的客户，请问还有其他还可以帮到您的吗?#E-s[数字x]#E-s[数字x]',\n",
      " '您和销售联系一下呢',\n",
      " '#E-s[数字x]请问还有其他可以帮到您的吗? #E-s[数字x]',\n",
      " '请稍等 帮您查询下嘞 不支持货到付款嘞',\n",
      " '请您将订单号给小妹 呢',\n",
      " '马上核实情况，请您稍等哈#E-s[数字x] 您有联系过卖家吗']\n",
      "选择： tensor(1) 最终结果： 有什么问题我可以帮您处理或解决呢?\n",
      "36 --------------------------------------------------------------------\n",
      "我旧手机号想不起来了<q>对\n",
      "['还请您稍等，正在为您查询~',\n",
      " '好的 稍等',\n",
      " '不客气，这是我们应该做哒~   ',\n",
      " '#E-s[数字x]#E-s[数字x] 请问还有其他还可以帮到您的吗?',\n",
      " '好了，麻烦您把税号发过来好吗',\n",
      " '请问商品是在京东商城购买的吗',\n",
      " '很紧的呢 左右摇晃 稍微用力呢',\n",
      " '好的 这边帮您看一下',\n",
      " '好的哈，这边可能需要您承担运费哈   您这个商品也不大，运费不会太多的哈',\n",
      " '亲亲，非常感谢您的理解与支持 亲亲，请问还有其他可以帮您的吗??',\n",
      " '退款总金额:，[金额x][数字x]',\n",
      " '核对完成，这边给您修改',\n",
      " '#E-s[数字x]',\n",
      " '不用了哦   我们拦截会直接退回商家了哦 ',\n",
      " '小妹理解的呢，这个是商家转为自己送货的呢。']\n",
      "选择： tensor(10) 最终结果： 退款总金额:，[金额x][数字x]\n",
      "37 --------------------------------------------------------------------\n",
      "对你帮我看一下我买了几种水果谢谢您<q>葡萄订单也成功了怎么少了葡萄和草莓咨询订单号:[ORDERID_10196814]订单金额:[金额x]下单时间:[日期x]你看看订单\n",
      "['#E-s[数字x]#E-s[数字x]立刻为您查询，由于咨询客户比较多，还请您耐心等待一小会儿，感谢您的理解! '\n",
      " '售后服务电话:[数字x]-[数字x]-[数字x] 不要着急  可以联系厂家售后上门检测维修',\n",
      " '稍等帮您咨询供应商',\n",
      " '请问是这个订单[ORDERID_10268144]的问题吗 #E-s[数字x]',\n",
      " '有什么问题我可以帮您处理或解决呢?',\n",
      " '亲亲，是安装电话吗',\n",
      " '有什么问题我可以帮您处理或解决呢?',\n",
      " '有什么问题我可以帮您处理或解决呢?',\n",
      " '请问有什么可以帮到您的吗?#E-s[数字x] #E-s[数字x]#E-s[数字x] 您好',\n",
      " '有什么问题我可以帮您处理或解决呢?',\n",
      " '请您不要担心，为了更好的处理您的问题，您的问题我马上升级到专员客服为您核实情况，会在[数字x]小时之内电话联系您处理，请您提供联系电话和姓名，好吗? '\n",
      " '全改?',\n",
      " '您好，请问有什么可以帮助您的么#E-s[数字x]',\n",
      " '这边显示没有联系上您呢 您的手机号能正常联系吗',\n",
      " '您好 ，我在的哦#E-s[数字x]，请问有什么可以帮助您的吗#E-s[数字x]',\n",
      " '感谢您对京东的支持，祝您生活愉快。#E-s[数字x]再见。',\n",
      " '是需要了解商品的参数还是售后还是其他呢']\n",
      "选择： tensor(0) 最终结果： #E-s[数字x]#E-s[数字x]立刻为您查询，由于咨询客户比较多，还请您耐心等待一小会儿，感谢您的理解! 售后服务电话:[数字x]-[数字x]-[数字x] 不要着急  可以联系厂家售后上门检测维修\n",
      "38 --------------------------------------------------------------------\n",
      "是的<q>有电话联系但是不是物流信息上面那个电话打过我一个电话然后说已经安排人送货了但没人联系我收货\n",
      "['小妹这边为您留言哦',\n",
      " '小妹为您核实站点，催促尽快为您送货哈',\n",
      " '包裹今天会安排给您派送的，',\n",
      " '您等我下',\n",
      " 'AMAZFIT 米动手表青春版 曜石黑(智能手表 运动手表 心率/睡眠/GPS/蓝牙/通知 华米科技出品) 给您添麻烦了，您看还有其他可以帮到您的吗? '\n",
      " '亲爱的，请问是这个商品吗?#E-s[数字x]',\n",
      " '您提供一下电话，小妹这边为您留言您看可以吗',\n",
      " '您好，请问有什么可以帮您的呢?#E-s[数字x]',\n",
      " '好的呢 小妹会记录的哦',\n",
      " '还请您稍等，喝点水#E-s[数字x]，稍作休息。这里正在为您查询中哈!#E-s[数字x] 亲爱的客户查询是木有的呢',\n",
      " '用音频 线的话是不可以调节的呢 蓝牙连接时才可以使用的哈',\n",
      " '工作人员有没有登记呢',\n",
      " '这边还没有电话的呢 您可以直接过去自提的呢',\n",
      " '配送到了的时候会电话联系您的哈',\n",
      " '给您核实情况',\n",
      " '联系您确认商品情况 为您确定是否是质量问题']\n",
      "选择： tensor(0) 最终结果： 小妹这边为您留言哦\n",
      "39 --------------------------------------------------------------------\n",
      "你好我这个单的发票之前说开过了但是我这边收货没看到上次说给我重新发一张，现在什么结果了?<q>你好这个单据寄往哪里你帮我看戏下\n",
      "['满[数字x]包邮呢亲亲#E-s[数字x]',\n",
      " '我的-客户服务-帮助中心搜索栏输入账户注销即可操作',\n",
      " '可以提供一下订单号吗?我帮您查询',\n",
      " '亲亲，没有办法重新邮寄哦',\n",
      " '#E-s[数字x]#E-s[数字x] 请问还有其他还可以帮到您的吗?',\n",
      " '[ORDERID_10137512]是这个订单号吗?',\n",
      " '好的，我为您看一下，请您稍等',\n",
      " '您已经拒收了哦 商品返回到商家会给您退款的呢',\n",
      " '稍等妹子联系配送确定游戏 稍等妹子联系配送确定一下',\n",
      " '[ORDERID_10159548] VA[数字x] 已经开具邮寄了哟 亲爱哒 这是发票的邮寄单号 京东快递 '\n",
      " '，还麻烦您查询一下哟，可以通过http://[链接x]查询物流进度，谢谢! 这个订单之前没有申请过售后的哟  亲爱的 ',\n",
      " '还请您稍等，马上为您查询~',\n",
      " '好的，我为您看一下，请您稍等 订单状态，完成 您是没有收到商品吗',\n",
      " '妹纸不售存储卡的 需要您单独购买哦 妹纸建议您选择Class[数字x]高速Micro '\n",
      " 'SD(TF)存储卡，格式是FAT[数字x]的，容量大小支持[数字x]G-[数字x]G内存，最好是[数字x]G的，选择您喜欢与信赖的内存卡品牌搭配机器使用呢。',\n",
      " '在的亲亲~',\n",
      " '预计[日期x] 您好 请问还有其他还可以帮到您的吗?']\n",
      "选择： tensor(3) 最终结果： 亲亲，没有办法重新邮寄哦\n",
      "40 --------------------------------------------------------------------\n",
      "我这是第一次在京东退货<q>哦。好的\n",
      "['多来几次亲就明白啦',\n",
      " '不用谢 这都是我们应该做的哟 请问还有其他还可以帮到您的吗?',\n",
      " '已经是最快速度了 您的订单预计[数字x]月[数字x]日送达您手中， 正常情况是可以到的哈',\n",
      " '亲亲  确认收货是会发送的嗯',\n",
      " '感谢您对京东的支持，祝您生活愉快，再见!',\n",
      " '不好意思亲亲，私人信息不能透露的呢 请问还有其他还可以帮到您的吗?',\n",
      " '您好  小妹这边可以帮您申请售后的呢#E-s[数字x]',\n",
      " '亲 这个预计时间是根据仓库地址和客户地址最终在物流信息显示的哈',\n",
      " '给您带来不便，还请您见谅~ 请问还有其他还可以帮到您的吗?',\n",
      " '请问还有其他还可以帮到您的吗?',\n",
      " '您太客气啦#E-s[数字x]#E-s[数字x] 很高兴遇到您这么善解人意的客户，请问还有其他还可以帮到您的吗?#E-s[数字x]#E-s[数字x]',\n",
      " '请问还有什么可以为您服务的吗?#E-s[数字x] #E-s[数字x]#E-s[数字x]',\n",
      " '嗯呐~商品我们出库配送前会有预约人员和您联系的哦',\n",
      " '您的订单拦截成功，财务正在进行退款审核，请耐心等待。，',\n",
      " '真的非常抱歉  给您添麻烦了呢#E-s[数字x] 尊敬的用户，请问您还有其他问题需要帮助的吗?']\n",
      "选择： tensor(1) 最终结果： 不用谢 这都是我们应该做的哟 请问还有其他还可以帮到您的吗?\n",
      "41 --------------------------------------------------------------------\n",
      "合并开发票，只能按订单一页一页地点吗?<q>对的我是要开专票的，当时下单时已经填写专票信息\n",
      "['劳烦您提供一下订单编号哦，小秘书这边为您查看一下哈~',\n",
      " '好的~请稍等~小妹这就帮您查询一下~!#E-s[数字x]',\n",
      " '亲爱的~',\n",
      " '您提供下订单号哦',\n",
      " '亲爱滴，请问还有其他需要帮助的么?#E-s[数字x]',\n",
      " '妹子这边帮您跟进协调一下  商品如果不出意外  上午可以到达站点  到达之后联系站点协商优先配送',\n",
      " '嗯好的 帮您查询 预约的[数字x]号给您配送 安装是另外安排时间的 而且您购买的空调还附赠了空调极速安装延误补贴 ',\n",
      " '广州[地址x]  收件人:财务部票务中心 电话:[电话x]分机号[数字x](此电话不接外线)  邮编:[数字x]  '\n",
      " '另请您附一张纸注明要修改的内容、收件地址及联系人，请勿使用平邮、挂号信和到付，祝您购物愉快!',\n",
      " '嗯 可以的  我帮您跟进反馈就好了  开具之后我短信告知您',\n",
      " '好的  小妹这里为您查询~#E-s[数字x]请您稍等 亲可以等待订单签收完成后 这边为您修改哦 或者您的订单还没有发出哦 您可以取消下订单‘ '\n",
      " '重新下单选择下增票资质哦 增票哦',\n",
      " '亲  帮您升级专员  您看行吗',\n",
      " '那亲亲 这边为您申请 还请您耐心等待 周期为[数字x]-[数字x]天 ',\n",
      " '很抱歉让您久等了哦#E-s[数字x] 妹纸已经给您审核退款了',\n",
      " '#E-s[数字x] 好嘞 若有问题可以随时联系咱们哈#E-s[数字x]',\n",
      " '很抱歉不能呢 这边查询了一下，这边一般发票是一个订单对应一张发票呢']\n",
      "选择： tensor(1) 最终结果： 好的~请稍等~小妹这就帮您查询一下~!#E-s[数字x]\n",
      "42 --------------------------------------------------------------------\n",
      "还没下单呢<q>https://item.jd.com/1364174.html就是想再多买一条皮质表带行不行?\n",
      "['请稍等下 这边查询下 就是重量的区别 其他没有太大区别的',\n",
      " '您好，客服工号[数字x]很高兴为您服务，请问您有什么问题么?#E-s[数字x]',\n",
      " '您好，请问有什么需要[姓名x]帮助您的呢#E-s[数字x]#E-s[数字x]',\n",
      " '您好，请问有什么能为您服务的呢#E-s[数字x]#E-s[数字x]',\n",
      " '您好哦，对这款商品还有什么疑问吗?#E-s[数字x]#E-s[数字x]',\n",
      " '请问还有可以为您服务的吗?#E-s[数字x]#E-s[数字x]',\n",
      " '您好，在的哦#E-s[数字x]#E-s[数字x] 您好，请问有什么需要心心帮助您的呢#E-s[数字x]#E-s[数字x]',\n",
      " '请问您是咨询之前的问题还是有其他的问题需要处理呢?#E-s[数字x]',\n",
      " '请问还有什么可以帮助您的#E-s[数字x]',\n",
      " '#E-s[数字x] 很抱歉，图书的商品是不支持使用礼品卡购买的呢',\n",
      " '亲 请您提供一下订单号呢  亲  订单号  这样看不到您的订单呢',\n",
      " '#E-s[数字x]#E-s[数字x]请问还有其他还可以帮到您的吗?亲爱的#E-s[数字x]',\n",
      " '您好有什么可以帮助您的呢 #E-s[数字x]#E-s[数字x]#E-s[数字x]',\n",
      " '您好，请问有什么可以帮您的!',\n",
      " '请问有什么可以帮到您的呢']\n",
      "选择： tensor(1) 最终结果： 您好，客服工号[数字x]很高兴为您服务，请问您有什么问题么?#E-s[数字x]\n",
      "43 --------------------------------------------------------------------\n",
      "我在全棉时代买了两件商品，为什么只到了一件<q>面柔巾收到了卫生间没有卫生巾\n"
     ]
    },
    {
     "name": "stdout",
     "output_type": "stream",
     "text": [
      "['，[姓名x]澳(RIO)洋酒 鸡尾酒 预调酒 强[姓名x]系列组合[数字x]ml*[数字x]罐 [商品快照] 请问是这个商品吗',\n",
      " '那个棉花朵朵的医用棉签没到呢#E-s[数字x]',\n",
      " '麻烦您提供一下订单号~',\n",
      " '这边在联系配送员确认哦',\n",
      " '亲爱的客户，APP端麻烦您点击对话框右下角的“+”，点击“订单”后，选择一下您需要咨询的订单哦，PC端在我的订单复制下哦，小妹这边帮您查询一下哦~',\n",
      " '请您耐心等待呢 请问还有其他还可以帮到您的吗?',\n",
      " '您好一般订单都是一个商品开具一张发票的噢~',\n",
      " '还请稍后点击小红心#E-s[数字x]对我的服务做出评价哦!非常感谢您 #E-j[数字x] 请问还有其他可以帮到您的吗?',\n",
      " '是不是再次给您送达的 好的',\n",
      " '小妹帮您算一下~',\n",
      " '请您提供订单号，谢谢',\n",
      " '您这个新订单金额是[金额x]元呢~',\n",
      " '师傅您辛苦了，祝您工作愉快，再见!#E-s[数字x]',\n",
      " '请问还有其他还可以帮到您的吗?',\n",
      " '亲亲，真的很抱歉的呢 您的订单是您拒签的吗?']\n",
      "选择： tensor(14) 最终结果： 亲亲，真的很抱歉的呢 您的订单是您拒签的吗?\n",
      "44 --------------------------------------------------------------------\n",
      "你等会。。我问一下师傅。。<q>我家里装修的师傅\n",
      "['请问还有其他还可以帮到您的吗?',\n",
      " '如果您只是录制的话可以首次连接网络然后断开就可以录制呢 但是无法远程操控了呢',\n",
      " '亲爱的您太客气啦 也是没有帮上您什么忙的哈#E-s[数字x]这是我的分内之事的哈#E-s[数字x]有什么服务不周的还请您谅解的哈 '\n",
      " '我这边也是会积极改进的呢#E-s[数字x] '\n",
      " '遇到像您这样宽容的客户真是对我莫大的支持呢~#E-s[数字x]祝老板您天天日进斗金~腰缠万贯~#E-s[数字x] 请问还有什么需要为您效劳的呢?',\n",
      " '#E-s[数字x] 很高兴遇到您这么善解人意的客户，请问还有其他还可以帮到您的吗?#E-s[数字x]#E-s[数字x]',\n",
      " '您到时可以和取件师傅沟通协商的哦',\n",
      " '您进去看下，是否有填写地址了的呢 邮寄的地址 有的话，就是按照您填写的地址邮寄的',\n",
      " '[数字x]W哦',\n",
      " '有什么问题我可以帮您处理或解决呢?',\n",
      " '支持的呢',\n",
      " '这个问题需要您返厂检测',\n",
      " '嗯嗯，我给您联系下库房哦',\n",
      " '看到您之前的咨询记录，烦请联系商家入驻哦#E-s[数字x]',\n",
      " '是的哦亲亲',\n",
      " '亲爱哒，小妹在的哦，有什么可以帮您的吗#E-s[数字x]',\n",
      " '#E-s[数字x]#E-s[数字x]#E-s[数字x]请问还有其他还可以帮到您的吗?']\n",
      "选择： tensor(14) 最终结果： #E-s[数字x]#E-s[数字x]#E-s[数字x]请问还有其他还可以帮到您的吗?\n",
      "45 --------------------------------------------------------------------\n",
      "这个上午买的[金额x]现在怎么[金额x]啊京东也不能这样啊<q>[ORDERID_10229106]\n",
      "['#E-s[数字x]#E-s[数字x] 如果还有任何疑问的话，都可以随时来咨询我们的哟#E-s[数字x] #E-s[数字x]#E-s[数字x] '\n",
      " '感谢您对京东的支持，祝您生活愉快，再见!#E-s[数字x]',\n",
      " '亲爱的，妹子打工不容易，麻烦您用发财的手给妹子一个评价哦，有疑问还可以随时咨询的呢，辛苦您啦 感谢您对京东到家的支持，祝您生活愉快，再见!',\n",
      " '您好，在的呢，请问有什么可以为您服务?#E-s[数字x]#E-s[数字x]想要购买我们哪款商品呢?#E-s[数字x]',\n",
      " '#E-s[数字x]',\n",
      " '亲 请您稍等下哦 ~小妹这就为您查询相关消息哦#E-s[数字x] '\n",
      " '麻烦您将商品加入购物车选择在线支付(请勿付款)，提交后将新订单告知一下，我们查看后为您处理哦~(提交订单需要注意:商品编号、下单账号与收货地址与原订单一致)',\n",
      " '您好  请问有什么问题我可以帮您处理或解决呢?',\n",
      " '还请您稍等，正在为您查询~',\n",
      " '其他订单商品是商家发出的',\n",
      " '好的 这边申请成功后，我会短信告知您的哦，请您放心的',\n",
      " '请问您是咨询之前的问题还是有其他的问题需要处理呢?',\n",
      " '[数字x]这个订单号是不存在的哦，还请您提供一下正确的订单号 [数字x]，[ORDERID_10222982]不是京东开具的发票哦 '\n",
      " '[ORDERID_10222951]只有这个订单是可以修改的 请问还有其他什么可以帮您的吗?',\n",
      " '您提供下刚才[金额x]的截图呢',\n",
      " '请问还有其他还可以帮到您的吗?',\n",
      " '恩，稍等下 我理下您的订单',\n",
      " '亲亲，您已经申请取消订单，待审核通过']\n",
      "选择： tensor(1) 最终结果： 亲爱的，妹子打工不容易，麻烦您用发财的手给妹子一个评价哦，有疑问还可以随时咨询的呢，辛苦您啦 感谢您对京东到家的支持，祝您生活愉快，再见!\n",
      "46 --------------------------------------------------------------------\n",
      "忘记开公司的发票弄成个人<q>订单号:[ORDERID_10462311]订单号:[ORDERID_10462311]\n",
      "['您好，有什么可以帮您的!',\n",
      " '有什么问题我可以帮您处理或解决呢?',\n",
      " '有什么问题我可以帮您处理或解决呢?',\n",
      " '有什么问题我可以帮您处理或解决呢?',\n",
      " '请问还有什么其他咨询的呢?#E-s[数字x]#E-s[数字x]',\n",
      " '好的稍等 [数字x]元的差价么亲',\n",
      " '下单之后不付款也行，小妹只要根据订单查询那个站点 稍等哈 实在很抱歉呢 小妹这边给您查询了下，显示出库前，是没有派送站点的呢',\n",
      " '亲亲，是这个联系方式吗 ，[数字x]',\n",
      " '恩 您好亲 订单显示您已经取消订单了 ',\n",
      " '您要修改的信息是什么呢亲亲',\n",
      " '您客气的，请问还有其他可以帮到您的吗?#E-s[数字x]#E-s[数字x]',\n",
      " '请问还有其他还可以帮到您的吗?',\n",
      " '亲，这边帮您看下，耐心等待下小妹',\n",
      " '有什么问题我可以帮您处理或解决呢?',\n",
      " '您好，请问有什么可以帮到您的呢?']\n",
      "选择： tensor(10) 最终结果： 您客气的，请问还有其他可以帮到您的吗?#E-s[数字x]#E-s[数字x]\n",
      "47 --------------------------------------------------------------------\n",
      "我买了一本书，电话号码留错了，刚才跟快递员联系，他跟我说要给他[数字x]块钱他才帮我送请问针对这个事件，你们处理意见是什么?<q>好的可以\n",
      "['#E-s[数字x]',\n",
      " '好的 [数字x]天内到账',\n",
      " '没事没事，您客气了、 爱你哦#E-s[数字x] 请问还有什么可以帮助的吗?#E-s[数字x]#E-s[数字x]',\n",
      " '[ORDERID_10120017] ',\n",
      " '[日期x] [时间x]，[站点x] 站点全单退货，原因:客户原因退货 #E-s[数字x]',\n",
      " '[组织机构x][数字x]U明细火炬开发区康乐大道经贸大厦[数字x]楼(火炬城建[组织机构x])[姓名x]1[数字x]7156909[数字x]8 '\n",
      " '您看信息对吗',\n",
      " '请问还有其他还可以帮到您的吗?',\n",
      " '订单编号是[数字x]开头的呢',\n",
      " '[ORDERID_10268929] 是这个订单吗?',\n",
      " '不客气 请问还有其他还可以帮到您的吗?',\n",
      " ' 亲亲 十块钱不算在 您的实际支付金额里的哈 是您满足条件后给您的优惠呢',\n",
      " '#E-s[数字x] 很高兴遇到您这么善解人意的客户，请问还有其他还可以帮到您的吗?#E-s[数字x]#E-s[数字x]',\n",
      " '亲 活动不定期有的哦 但是为了保证活动公平公正，咱们客服也是无法提前知晓的呢，以网页显示为准的哦，建议亲点击关注商品填写降价通知哈#E-s[数字x]',\n",
      " '#E-s[数字x]',\n",
      " '请问还有什么可以帮您呢?#E-s[数字x]怠慢之处请您谅解呢#E-s[数字x]']\n",
      "选择： tensor(0) 最终结果： #E-s[数字x]\n",
      "48 --------------------------------------------------------------------\n",
      "这个赠品隔离霜没有收到<q>[姓名x][数字x]\n",
      "['尊敬的客户您好，您的问题已经进行了升级，这边[数字x]点之前升级专员的会在当天[数字x]点前电话联系您 '\n",
      " '，[数字x]点之后升级专员的会在次日[数字x]点前给您回电处理，还请您保持手机畅通。，外呼号码会显示为:[数字x] 63[数字x]5888和[数字x] '\n",
      " '63[数字x]5999、[数字x] 88[数字x]0510、[数字x] [数字x]，还请您保持手机畅通，感谢您对京东的支持，谢谢 ',\n",
      " '很高兴遇到您这么善解人意的客户，请问还有其他还可以帮到您的吗?#E-s[数字x]#E-s[数字x]',\n",
      " '亲爱的，账户名是什么呢? 地址呢',\n",
      " '亲亲  好的  请您保持电话畅通呢',\n",
      " '好的哦亲爱的 这边之后请您保持电话畅通哈',\n",
      " '#E-s[数字x]#E-s[数字x] 号的 请问您还有什么别的问题我可以帮您的呢?#E-s[数字x]',\n",
      " '好的额 您这个订单需要申请价保吗',\n",
      " '发了 亲',\n",
      " '尊敬的商家朋友，请问有什么可以帮到您呢?#E-s[数字x]',\n",
      " '还请您提供您的联系电话 我们是[数字x]开头的座机号码，请您注意接听电话哦#E-s[数字x]#E-s[数字x] '\n",
      " '亲爱哒，请问还有没有其他可以帮您的哟?#E-s[数字x]#E-s[数字x]',\n",
      " '今天[时间x]之前反馈的问题，会在今天[时间x]前给您回电的呢，如果是今天[时间x]之后反馈的问题，会在明天[时间x]前给您回电。',\n",
      " '好的 请问，您还有其他需要帮助的吗?#E-s[数字x]',\n",
      " '好的 (配送员:[姓名x]，电话:[电话x])，感谢您的耐心等待。 '\n",
      " '建议您可以先联系下配送员哦，我这边也会帮您告知站点处理的，您看可以吗#E-s[数字x]',\n",
      " '请保待手机通畅 请问还有其他还可以帮到您的吗?',\n",
      " 'qq已经为您解绑成功呢#E-s[数字x] 请问还有什么可以帮您呢#E-s[数字x]']\n",
      "选择： tensor(1) 最终结果： 很高兴遇到您这么善解人意的客户，请问还有其他还可以帮到您的吗?#E-s[数字x]#E-s[数字x]\n",
      "49 --------------------------------------------------------------------\n",
      "[姓名x][数字x]<q>客户说被这个快递员拿走的哦\n",
      "['请问还有其他还可以帮到您的吗?',\n",
      " '感谢您对京东的支持，祝您生活愉快，再见!',\n",
      " '没有问题了吗 您好您的订单已经有人升级处理了 请问还有其他还可以帮到您的吗?',\n",
      " '请问还有其他可以帮到您的吗?#E-s[数字x]',\n",
      " '嗯嗯亲亲 很高兴遇到您这么善解人意的客户，请问还有其他还可以帮到您的吗?#E-s[数字x]',\n",
      " '尊敬的商家朋友，请问有什么可以帮到您呢?#E-s[数字x]',\n",
      " 'qq已经为您解绑成功呢#E-s[数字x] 请问还有什么可以帮您呢#E-s[数字x]',\n",
      " '请问还有其他还可以帮到您的吗?',\n",
      " '亲爱的，账户名是什么呢? 地址呢',\n",
      " '不客气，这些都是我应该做的啦#E-s[数字x] 您看还有什么需要帮忙的吗',\n",
      " '亲爱的，邮箱是什么呢?',\n",
      " '好的 请问，您还有其他需要帮助的吗?#E-s[数字x]',\n",
      " '请问 还有什么可以帮助您呢? 您客气了! 希望您点击小心心评价对本次服务做出个评价哟~谢谢您~#E-s[数字x]',\n",
      " '亲亲  好的  请您保持电话畅通呢',\n",
      " '好的哦亲爱的 这边之后请您保持电话畅通哈']\n",
      "选择： tensor(1) 最终结果： 感谢您对京东的支持，祝您生活愉快，再见!\n",
      "50 --------------------------------------------------------------------\n",
      "你好\n",
      "['有什么问题我可以帮您处理或解决呢?',\n",
      " '您好 ，我在的哦#E-s[数字x]，请问有什么可以帮助您的吗#E-s[数字x]',\n",
      " '有什么问题我可以帮您处理或解决呢?',\n",
      " '有什么问题我可以帮您处理或解决呢?',\n",
      " '您好呢、 、亲爱的',\n",
      " '您好 ，我在的哦，#E-s[数字x] 让您久等了 ，请问有什么可以帮助您的吗 #E-s[数字x]',\n",
      " '亲爱的#E-s[数字x]，有什么问题我可以帮您处理或解决呢?#E-s[数字x]',\n",
      " '亲亲，有什么可以帮到您的?',\n",
      " '有什么问题我可以帮您处理或解决呢?',\n",
      " '客官您好，请问您是咨询之前的问题还是有其他的问题需要处理呢?#E-s[数字x]#E-s[数字x]',\n",
      " '有什么问题我可以帮您处理或解决呢?',\n",
      " '有什么问题我可以帮您处理或解决呢?',\n",
      " '您好亲亲',\n",
      " '亲爱的#E-s[数字x]，有什么问题我可以帮您处理或解决呢?#E-s[数字x]',\n",
      " '有什么问题我可以帮您处理或解决呢?']\n",
      "选择： tensor(1) 最终结果： 您好 ，我在的哦#E-s[数字x]，请问有什么可以帮助您的吗#E-s[数字x]\n",
      "51 --------------------------------------------------------------------\n",
      "你好<q>我[数字x]号下单的，今天还没发货\n",
      "['非常抱歉',\n",
      " '为了得到更专业的解答，您可以咨询下商品页面的供应商客服，在您购买的商品页面，有个在线客服，您可以联系下这边哦~',\n",
      " '嗯嗯，有货第一时间安排您发出的，感谢亲亲的谅解 请问您还有其他什么问题需要咨询吗?',\n",
      " '亲可以告知下订单号吗',\n",
      " '您好 ，我在的哦，让您久等了 ，请问有什么可以帮助您的吗',\n",
      " '[日期x] [时间x]，您的订单已到达京东物流开放平台，将下传上海公共平台仓[数字x]号库库房生产 亲爱的，今天会出库的哦',\n",
      " '您好你的订单已到达阜阳临泉站 预计明天可以到达',\n",
      " '订单显示到达站点不全的呢',\n",
      " '#E-s[数字x]#E-s[数字x]#E-s[数字x] 请问还有其他可以帮到您的吗?',\n",
      " '那我帮您联系一下库房师傅你看可以吗',\n",
      " '您好，您的专属客服小芒果来啦~ #E-s[数字x]  好的，请您稍等一下哦，小秘书为您查看一下呢#E-s[数字x]',\n",
      " '不好意思呢 今天配送不了 #E-s[数字x]',\n",
      " '亲亲不要生气呢 这边查询您这边订单商品目前是厂家给您送货的呢',\n",
      " '亲爱滴，麻烦您提供下订单号码哦，方便为您更快的查询呢~~',\n",
      " '#E-s[数字x] 对您造成的不便，很是抱歉呢。 感谢您对小妹的支持，请问还有其他还可以帮到您的吗?#E-s[数字x]']\n",
      "选择： tensor(1) 最终结果： 为了得到更专业的解答，您可以咨询下商品页面的供应商客服，在您购买的商品页面，有个在线客服，您可以联系下这边哦~\n",
      "52 --------------------------------------------------------------------\n",
      "我[数字x]号下单的，今天还没发货<q>开始厂家说[数字x]到[数字x]天发，后来第四天问，又说什么[数字x]到[数字x]天发 什么意思嘛? 今天都[数字x]号了，一点动静都没有\n",
      "['您是否联系了商家客服的呢 ?#E-s[数字x]如果没有联系的话，建议可以咨询看看具体情况的呢',\n",
      " '储蓄卡[数字x]-[数字x]工作日到账(具体以银行信息为准哦) #E-s[数字x] 请问还有其他还可以帮到您的吗?',\n",
      " '很理解您迫切的希望收到商品的心情，我们到货后会第一时间给您发货的，您可以关注全程跟踪的信息哦。',\n",
      " '好的稍等',\n",
      " '感谢您对京东的支持，祝您生活愉快，再见!',\n",
      " '亲，预计可以的哦 如果不合适的话 可以申请售后换货哦',\n",
      " '#E-s[数字x]送货前一天咱的预约客服会与您联系，这个需要您咨询一下预约客服哦亲',\n",
      " '这边为您升级专员处理您的问题',\n",
      " '正为您查询，还请稍微等待一小会儿~~ 商品名称:，[站点x] 索尼(SONY) Xperia XZ[数字x] G[数字x] [数字x]D扫描 '\n",
      " 'HDR高清屏幕 [数字x]GB+6[数字x]GB 星粉 移动联通双[数字x]G手机 '\n",
      " '亲爱的，请问有什么需要帮助您的吗?方便说一下您的问题么?#E-s[数字x]',\n",
      " '有什么可以帮您的呢~',\n",
      " '掌柜大人~请问有什么可以帮助到您?',\n",
      " '亲爱的 ，您是咨询什么问题#E-s[数字x]呢???',\n",
      " '请问您是咨询之前的问题还是有其他的问题需要处理呢? 尊敬的客户这个订单号不存在。',\n",
      " '#E-s[数字x]',\n",
      " '好的，正在为您查询，还请您稍微等待一小会#E-s[数字x]#E-s[数字x]#E-s[数字x]!']\n",
      "选择： tensor(1) 最终结果： 储蓄卡[数字x]-[数字x]工作日到账(具体以银行信息为准哦) #E-s[数字x] 请问还有其他还可以帮到您的吗?\n",
      "53 --------------------------------------------------------------------\n",
      "开始厂家说[数字x]到[数字x]天发，后来第四天问，又说什么[数字x]到[数字x]天发 什么意思嘛? 今天都[数字x]号了，一点动静都没有<q>谢谢\n",
      "['您是否联系了商家客服的呢 ?#E-s[数字x]如果没有联系的话，建议可以咨询看看具体情况的呢',\n",
      " '储蓄卡[数字x]-[数字x]工作日到账(具体以银行信息为准哦) #E-s[数字x] 请问还有其他还可以帮到您的吗?',\n",
      " '很理解您迫切的希望收到商品的心情，我们到货后会第一时间给您发货的，您可以关注全程跟踪的信息哦。',\n",
      " '好的稍等',\n",
      " '感谢您对京东的支持，祝您生活愉快，再见!',\n",
      " '亲，预计可以的哦 如果不合适的话 可以申请售后换货哦',\n",
      " '#E-s[数字x]送货前一天咱的预约客服会与您联系，这个需要您咨询一下预约客服哦亲',\n",
      " '亲爱的，确实很抱歉耽误您时间了呢，为了对您和您的商品负责，我们是想把商品给您维修好呢，并经过售后工程师检测，确认商品故障已排除，可正常使用，之后返回以保证您的正常使用哦;其次可能因售后人力有限或者需要返厂维修呢，所以时间稍长，不过请您放心呢，我们会尽快为您维修好返回的呢，也特别感谢您对京东的支持哦!',\n",
      " '您看您方便再次下单 购买同款同件数商品 将优惠券在新订单使用 只提交不付款 将新生成的订单号提供给我呢',\n",
      " '.给您带来不便，真的很抱歉~ 具体时间亲亲真的无法保证哦',\n",
      " '您真是一位通情达理的客户，您好好啊，小妹祝您生活幸福，心想事成!#E-s[数字x]#E-s[数字x] 亲爱的，还有其他业务信息需要妹子为您查询的吗?',\n",
      " '请问暂时还有其他可以帮到您的么?',\n",
      " '这边为您升级专员处理您的问题',\n",
      " '正为您查询，还请稍微等待一小会儿~~ 商品名称:，[站点x] 索尼(SONY) Xperia XZ[数字x] G[数字x] [数字x]D扫描 '\n",
      " 'HDR高清屏幕 [数字x]GB+6[数字x]GB 星粉 移动联通双[数字x]G手机 '\n",
      " '亲爱的，请问有什么需要帮助您的吗?方便说一下您的问题么?#E-s[数字x]',\n",
      " '有什么可以帮您的呢~']\n",
      "选择： tensor(1) 最终结果： 储蓄卡[数字x]-[数字x]工作日到账(具体以银行信息为准哦) #E-s[数字x] 请问还有其他还可以帮到您的吗?\n",
      "54 --------------------------------------------------------------------\n",
      "谢谢<q>查了没\n"
     ]
    },
    {
     "name": "stdout",
     "output_type": "stream",
     "text": [
      "['谢谢您的鼓励',\n",
      " '#E-s[数字x] 请问还有其他还可以帮到您的吗?',\n",
      " '#E-s[数字x]',\n",
      " '#E-s[数字x]',\n",
      " '请问还有其他还可以帮到您的吗?',\n",
      " '如果到时配送员联系您的话，您也可以与配送员进行协商哦',\n",
      " '请问还有其他还可以帮到您的吗?',\n",
      " '感谢您对京东的支持，祝您生活愉快，再见!',\n",
      " '请问，还有什么可以帮助您?',\n",
      " '很高兴遇到您这么善解人意的客户，请问还有其他还可以帮到您的吗?#E-s[数字x]#E-s[数字x] '\n",
      " '#E-s[数字x]#E-s[数字x]#E-s[数字x]',\n",
      " '请问还有其他可以帮到您的吗?',\n",
      " '#E-s[数字x] 请问还有其他还可以帮到您的吗?',\n",
      " '等审核完[数字x]小时开具您可以在我的订单中打印下载的哦 #E-s[数字x]#E-s[数字x]',\n",
      " '#E-s[数字x] 请问您还有其他问题需要帮助的吗?#E-s[数字x]',\n",
      " '亲爱的，感谢您对京东的支持，祝您生活愉快，再见']\n",
      "选择： tensor(1) 最终结果： #E-s[数字x] 请问还有其他还可以帮到您的吗?\n",
      "55 --------------------------------------------------------------------\n",
      "查了没<q>好\n",
      "['亲，就是检测，这边给您催促下可以吗',\n",
      " '您点开订单详情，申请退款就可以了',\n",
      " '#E-s[数字x]#E-s[数字x] 亲亲 妹子这边看了一下这款商品选购的客户比较多，性价比真是超高，建议您留下使用的呢  亲亲',\n",
      " '您看还有其他什么可以帮您的吗?^_^小妹一定尽心尽力为您处理的哟#E-s[数字x]',\n",
      " '请问还有其他还可以帮到您的吗?',\n",
      " '京券是[数字x]什么呢',\n",
      " '好的  麻烦您了 请问还有什么可以帮您呢?#E-s[数字x]怠慢之处请您谅解呢#E-s[数字x]',\n",
      " '提前[数字x]天短信及APP推送提醒告知用户即将执行自动代扣(如用户不购买需自行取消代扣功能)',\n",
      " '#E-s[数字x] 您好，关于您刚才进线说收错件的问题  这边已经反馈了  这边稍后可能有同事联系您  麻烦您接听下  可以吗?',\n",
      " '亲爱的，麻烦您提供下充值号码，小妹帮您核对哟',\n",
      " '亲爱的，劳烦您惠存一下小妹的邮箱[邮箱x]，后续关于京东购物中的任何问题可以随时与小妹邮件反馈哦，小妹会在收到邮件后安排处理哦~~~ '\n",
      " '后期对订单有问题可以发邮件到我的邮箱哦',\n",
      " '不客气哦#E-s[数字x] 请问还有什么可以帮您的吗?',\n",
      " '本产品全国联保，享受三包服务，质保期为:七天质保',\n",
      " '您好，这边看到您的商品挺不错的，您是因为什么原因想要取消的呢?#E-s[数字x]',\n",
      " '是什么时候为您取的件呢']\n",
      "选择： tensor(1) 最终结果： 您点开订单详情，申请退款就可以了\n",
      "56 --------------------------------------------------------------------\n",
      "好<q>反正你们是京东客服\n",
      "['亲爱的 请问是什么问题呢?',\n",
      " '你好请问有什么可以帮你的吗?',\n",
      " '或者亲有疑问可以和咱们联系哦 感谢您的支持哦~请问还有其他可以帮您的吗?亲亲#E-s[数字x] '\n",
      " '亲亲如果您对我们的产品了解比较清楚，建议您优先下单，您下单后我们也可以给您确认下订单订单状态以及预计送货时间哦~#E-s[数字x]',\n",
      " '是的哦 说明书有介绍哦',\n",
      " '意思快递员亲自给您的 一箱 是吗亲亲',\n",
      " '咱们是京东直采的呢',\n",
      " '很高兴遇到您这么善解人意的客户，请问还有其他还可以帮到您的吗?#E-s[数字x]#E-s[数字x]',\n",
      " '服务单您审核关闭了',\n",
      " '好的亲 谢谢#E-s[数字x] 请问还有什么可以帮您?',\n",
      " '还请您稍等，马上为您查询~ 可以返还呢 还没到账呢 订单完成 [数字x]H内到账呢 #E-s[数字x]',\n",
      " '您也可以吊顶安装呢 亲亲#E-s[数字x]',\n",
      " '还辛苦您给小妹打个评价呢~点击表情栏旁边的“+”哦。 很高兴遇到您这么善解人意的客户，请问还有其他还可以帮到您的吗?#E-s[数字x]#E-s[数字x] '\n",
      " '感谢您对京东的支持，祝您生活愉快，再见!',\n",
      " '请问还有其他还可以帮到您的吗?',\n",
      " '小妹是京东客服的呢   您是想要联系商家的吗 ?',\n",
      " '是 的呢']\n",
      "选择： tensor(14) 最终结果： 是 的呢\n",
      "57 --------------------------------------------------------------------\n",
      "反正你们是京东客服<q>相信你们会处理好\n",
      "['亲爱的 请问是什么问题呢?',\n",
      " '你好请问有什么可以帮你的吗?',\n",
      " '嗯嗯#E-s[数字x]#E-s[数字x] 感谢您对京东的支持与信任，祝您购物愉快!#E-s[数字x]#E-s[数字x]',\n",
      " '#E-s[数字x]#E-s[数字x] 亲，请问还有其他需要咨询的吗?',\n",
      " '关于您这个订单商品问题，小妹会帮您联相关部门给您核实，最晚会在[数字x]小时内联系您的收货号码是否方便?可以放心等待小妹回电 ',\n",
      " '打不通?',\n",
      " '#E-s[数字x]#E-s[数字x]#E-s[数字x] 亲亲~您的订单显示已经签收~',\n",
      " '好的 验证码辛苦告知下',\n",
      " '或者亲有疑问可以和咱们联系哦 感谢您的支持哦~请问还有其他可以帮您的吗?亲亲#E-s[数字x] '\n",
      " '亲亲如果您对我们的产品了解比较清楚，建议您优先下单，您下单后我们也可以给您确认下订单订单状态以及预计送货时间哦~#E-s[数字x]',\n",
      " '好的 安装服务需要小妹为您提交下的呢亲',\n",
      " '请问您是咨询之前的问题还是有其他的问题需要处理呢?',\n",
      " '是的哦 说明书有介绍哦',\n",
      " '[数字x] 佳能(Canon)EOS [数字x]D Mark IV 机身 单反相机 (约[数字x]万像素 双核CMOS [数字x]K短片 '\n",
      " 'Wi-Fi/NFC) 请问是这个商品吗',\n",
      " '您之前已经申请过[数字x]元的价保了哦 刚才小妹再次给您申请了[数字x]元 目前还差[数字x]元',\n",
      " '辛苦您可以明天电话联系一下预约配送哦']\n",
      "选择： tensor(1) 最终结果： 你好请问有什么可以帮你的吗?\n",
      "58 --------------------------------------------------------------------\n",
      "相信你们会处理好<q>至少得发货吧 不能老是说什么促销啊，爆仓啊之类的 是\n",
      "['亲，正在优化改善的呢',\n",
      " '亲爱的掌柜大人，还有什么可以为您效劳的吗?',\n",
      " '您好，请问您还有其他问题要咨询吗',\n",
      " '跟进退款完成哈',\n",
      " '或许会电话联系亲亲的呢 亲亲还请保持一下电话畅通呢 请问还有其他问题是小妹可以帮到您的吗?#E-s[数字x]#E-s[数字x]',\n",
      " '现在商品的地址在哪里呢',\n",
      " '配送会将商品原返的 这边显示您取消订单',\n",
      " '专员之前联系您无人接听 这边帮您升级哦',\n",
      " '亲爱的，已经认款成功了，请您稍后[数字x]小时内查询订单状态耐心等待收货即可#E-s[数字x]1 请问还有其他要咨询的吗?',\n",
      " '这些都是我们的分内之事，您别客气啦，我也很高兴能帮您这样有包容心、有亲和力的人解决问题呢 '\n",
      " '亲爱的，请问还有什么可以帮助您呢?还请对我的服务做出一个评价呢~么么哒#E-s[数字x]',\n",
      " '理解您的意思了  是白条电话更换的是吧 APP端路径: 【京东金融APP】-[站点x]-[站点x]-[站点x]-[站点x]修改  电脑端路径: '\n",
      " '[站点x]-[站点x]-[站点x]-绑定手机[站点x] ',\n",
      " '#E-s[数字x] 感谢您对京东的支持，祝您生活愉快，再见!',\n",
      " '亲商品是 集采的 是根据您的 收货地址 选择最近的 库房发货的的哦  ',\n",
      " '已经催促了哦 辛苦您等待一下回电呢',\n",
      " '#E-s[数字x]#E-s[数字x]您别担心  售后会给您再次回电的  因为必须要给您解决好问题的不是吗?']\n",
      "选择： tensor(1) 最终结果： 亲爱的掌柜大人，还有什么可以为您效劳的吗?\n",
      "59 --------------------------------------------------------------------\n",
      "至少得发货吧 不能老是说什么促销啊，爆仓啊之类的 是<q>谢谢\n",
      "['这边是拦截成功会为您[数字x]-[数字x]工作日退款的，拦截失败您拒收就好',\n",
      " '亲爱的掌柜大人，还有什么可以为您效劳的吗?',\n",
      " '#E-s[数字x]#E-s[数字x] 全部吗?',\n",
      " '亲，正在优化改善的呢',\n",
      " '好的，请问还有其他可以帮您的吗?#E-s[数字x]',\n",
      " '您看，小妹这边还有什么问题可以帮您处理或解决的吗?#E-s[数字x]',\n",
      " '您太客气了#E-s[数字x]，这是我应该做的#E-s[数字x] 请问还有其他还可以帮到您的吗?#E-s[数字x]',\n",
      " '小妹正在帮您取消呢 #E-s[数字x]#E-s[数字x]',\n",
      " '您太客气了呢，这都是我应该做的呢~',\n",
      " '您太客气了呢，这都是我应该做的呢~ 请问还有其他还可以帮到您的吗?',\n",
      " '亲亲，还有其他可以帮您的吗?',\n",
      " '不客气的哦#E-s[数字x] 请问还有其他还可以帮到您的吗#E-s[数字x]',\n",
      " '请问还有其他还可以帮到您的吗#E-s[数字x] 在吗 亲爱的  您的  商品不再价保周期之内呢',\n",
      " '请问还有其他还可以帮到您的吗?#E-s[数字x]',\n",
      " '您太客气了呢，这都是我应该做呢的~~~O(∩_∩)O/~#E-s[数字x] 感谢您对京东的理解和支持，祝您生活愉快#E-s[数字x]']\n",
      "选择： tensor(0) 最终结果： 这边是拦截成功会为您[数字x]-[数字x]工作日退款的，拦截失败您拒收就好\n",
      "60 --------------------------------------------------------------------\n",
      "谢谢<q>麻烦你们跟催一下，\n",
      "['您太客气了呢，这都是我应该做的呢~~#E-s[数字x]~O(∩_∩)O/~',\n",
      " '很高兴遇到您这么善解人意的客户，请问还有其他还可以帮到您的吗?#E-s[数字x]#E-s[数字x]',\n",
      " '那您看还有其他的问题吗。妹子都会帮您解答的',\n",
      " '感谢您对京东的支持，祝您生活愉快!',\n",
      " '给您添麻烦了哦，我的意思',\n",
      " '不客气哦，已经帮您修改成功了哦',\n",
      " '还辛苦您给小妹打个评价呢~点击表情栏旁边的“+”哦。',\n",
      " '不客气的#E-s[数字x] 亲爱的，此单配送师傅一直没有回复，建议您备注清楚再次升级核实下的额 非常抱歉给您添麻烦了#E-s[数字x]',\n",
      " '请问您还有什么问题需要帮助的呢',\n",
      " '辛苦您了呢 请问还有其他还可以帮到您的吗?',\n",
      " '暂时无法转接过去的呢',\n",
      " '客气了。这面会催促站点，加急联系您进行处理一下 请问还有其他还可以帮到您的吗?',\n",
      " '您太客气了#E-s[数字x]，为您服务是我的荣幸呢',\n",
      " '是就这一个订单么，亲',\n",
      " '请问还有可以为您服务的吗?']\n",
      "选择： tensor(1) 最终结果： 很高兴遇到您这么善解人意的客户，请问还有其他还可以帮到您的吗?#E-s[数字x]#E-s[数字x]\n",
      "61 --------------------------------------------------------------------\n",
      "麻烦你们跟催一下，<q>你们跟厂家联系有效果一些\n",
      "['好的了 这边备注升级 #E-s[数字x] 很高兴遇到您这么善解人意的客户，请问还有其他还可以帮到您的吗?#E-s[数字x]#E-s[数字x]',\n",
      " '您这边具体跟我说一下，我刚刚打配送员电话通话中',\n",
      " '这边帮您看看先 您稍等',\n",
      " '给您带来不便，还请您见谅#E-s[数字x]#E-s[数字x]#E-s[数字x] 您方便留一个号码吗 #E-s[数字x]',\n",
      " '是就这一个订单么，亲',\n",
      " '好的 请问还有其他还可以帮到您的吗?',\n",
      " '是还没有到站点哦',\n",
      " '亲爱的，妹子这边会帮您联系站点的哦',\n",
      " '然后自行找个门店付费安装也可以的 [数字x] 这个订单是[数字x]',\n",
      " '您太客气了呢，这都是我应该做的呢~~#E-s[数字x]~O(∩_∩)O/~',\n",
      " '您好，审核通过后，差价一般会原路返还的，储蓄卡[数字x]-[数字x]个工作日，信用卡是[数字x]-[数字x]5个工作日，微信零钱(红包)[数字x]-[数字x]个工作日退款到账，白条支付[数字x]-[数字x]5个工作日到账~ '\n",
      " '#E-s[数字x]请问还有什么业务需要为您效劳的呢?',\n",
      " '还辛苦您给小妹打个评价呢~点击表情栏旁边的“+”哦。 #E-s[数字x]#E-s[数字x]#E-s[数字x]#E-s[数字x]#E-s[数字x]',\n",
      " '我看订单这边有电话联系过  那个号码是您这边的是吗',\n",
      " '请您不要担心，为了更好的处理您的问题，您的问题我马上升级到专员客服为您核实情况，会在明天十二点前电话联系您处理，请您提供联系电话和姓名，好吗?',\n",
      " '请您喝杯水稍作休息，我现在看下前面您咨询的问题，稍后为您解答哦 可以给您退安装费']\n",
      "选择： tensor(14) 最终结果： 请您喝杯水稍作休息，我现在看下前面您咨询的问题，稍后为您解答哦 可以给您退安装费\n",
      "62 --------------------------------------------------------------------\n",
      "你们跟厂家联系有效果一些<q>嗯\n",
      "['好的了 这边备注升级 #E-s[数字x] 很高兴遇到您这么善解人意的客户，请问还有其他还可以帮到您的吗?#E-s[数字x]#E-s[数字x]',\n",
      " '感谢您对京东的支持，祝您生活愉快，再见!',\n",
      " '这边建议您联系商家在线客服的哦，因为订单是商家负责给您发货的哈 请问还有其他还可以帮到您的吗? 感谢您对京东的支持，祝您生活愉快，再见!',\n",
      " '#E-s[数字x] 亲爱的，请问还有其他还可以帮到您的吗?#E-s[数字x]#E-s[数字x]',\n",
      " '安霸的亲 建议是[数字x]v c',\n",
      " '可以缓解，是正品 这一款湿疹效果更好的哦',\n",
      " '方便页面申请退款吗',\n",
      " '请问 还有其他什么可以帮助您呢#E-s[数字x]#E-s[数字x]',\n",
      " '请问还有其他还可以帮到您的吗?',\n",
      " '[日期x] [时间x]，[站点x] 您的订单已到达[站点x]',\n",
      " '亲爱的，您的商品现在还没有收到的话您可以联系一下商家客服为您进行拦截 重新给您发货的 您看可以吗',\n",
      " '由于专员也是需要核实具体情况的，还请您耐心等待哦#E-s[数字x]#E-s[数字x]',\n",
      " '#E-s[数字x] 站点想要准确地址哦#E-s[数字x] 请您提供一下',\n",
      " '#E-s[数字x]您太客气了呢，这都是我应该做的呢~ 请问还有其他还可以帮到您的吗? 感谢您对京东的支持，祝您生活愉快，再见!',\n",
      " '祝您在京东购物愉快哦~']\n",
      "选择： tensor(1) 最终结果： 感谢您对京东的支持，祝您生活愉快，再见!\n",
      "63 --------------------------------------------------------------------\n",
      "有结果了请告诉我~\n",
      "['请问还有什么可以帮到您的?怠慢之处请多多谅解哦#E-s[数字x]#E-s[数字x] 您客气了哈，这是我们应该为您做的#E-s[数字x]#E-s[数字x] '\n",
      " '感谢您对京东的支持，祝您生活愉快，再见#E-s[数字x] #E-s[数字x] 感谢您对京东的支持，祝您生活愉快，再见#E-s[数字x]',\n",
      " '#E-s[数字x] 亲，是要给您送过去是吧',\n",
      " '您好，有什么可以帮助您的呢#E-s[数字x]',\n",
      " '您的商品目前还是缺货的哦',\n",
      " '已经为您反馈 还请耐心等待 '\n",
      " '您好，请您放心，您的服务单审核意见，我们会审核后会短信发送到您的手机上的，同时您还可以登陆京东PC端:我的京东-返修退换货/app端:我的-退换/售后中查看审核意见哦#E-s[数字x]#E-s[数字x] '\n",
      " '如果您的商品有任何质量问题可以在收到商品[数字x]天以内申请退货，[数字x]天之内申请换货，超过[数字x]天可以申请维修，具体结果以售后审核意见为准;',\n",
      " '您客气了，为您服务是小妹的荣幸呢#E-s[数字x]#E-s[数字x]#E-s[数字x] #E-s[数字x]请问还有什么业务可以为您效劳呢?',\n",
      " '不客气   请问还有其他还可以帮到您的吗?#E-s[数字x]',\n",
      " '给您添麻烦了',\n",
      " '#E-s[数字x] 上门检测状态还没有退',\n",
      " '遇见您是我的荣幸，请问还有什么可以帮您的吗?#E-s[数字x]',\n",
      " '好的，请稍等一下，妹子这边帮您查询一下哦~#E-s[数字x] 我这边帮您升级到专员为您处理您看好么#E-s[数字x] '\n",
      " '专员会在今天下午[数字x]点之前给您回电的。#E-s[数字x] [电话x] 联系您这个手机号好么#E-s[数字x]',\n",
      " '小米 红米Note[数字x] 全网通版 [数字x]GB+6[数字x]GB 金色 移动联通电信[数字x]G手机 双卡双待 请问是这个商品吗',\n",
      " '亲 您的商品现在准备送往京东[站点x]',\n",
      " '审核通过后，差价一般会原路返还的，储蓄卡[数字x]-[数字x]个工作日，信用卡是[数字x]-[数字x]5个工作日，微信零钱(红包)[数字x]-[数字x]个工作日退款到账，白条支付[数字x]-[数字x]5个工作日到账~',\n",
      " '您好! 有什么可以为您服务?']\n",
      "选择： tensor(1) 最终结果： #E-s[数字x] 亲，是要给您送过去是吧\n",
      "64 --------------------------------------------------------------------\n",
      "有结果了请告诉我~<q>还有备注过之后 下一步什么时候会有进度呢 不去网点的话 明天能来取件码\n",
      "['请问还有什么可以帮到您的?怠慢之处请多多谅解哦#E-s[数字x]#E-s[数字x] 您客气了哈，这是我们应该为您做的#E-s[数字x]#E-s[数字x] '\n",
      " '感谢您对京东的支持，祝您生活愉快，再见#E-s[数字x] #E-s[数字x] 感谢您对京东的支持，祝您生活愉快，再见#E-s[数字x]',\n",
      " '这边我们的售后人员会电话联系您的哦',\n",
      " '#E-s[数字x] 亲，是要给您送过去是吧',\n",
      " '您好，有什么可以帮助您的呢#E-s[数字x]',\n",
      " '#E-s[数字x]#E-s[数字x]',\n",
      " '商品最晚在[数字x]号到货呢',\n",
      " '您的商品目前还是缺货的哦',\n",
      " '已经为您反馈 还请耐心等待 '\n",
      " '您好，请您放心，您的服务单审核意见，我们会审核后会短信发送到您的手机上的，同时您还可以登陆京东PC端:我的京东-返修退换货/app端:我的-退换/售后中查看审核意见哦#E-s[数字x]#E-s[数字x] '\n",
      " '如果您的商品有任何质量问题可以在收到商品[数字x]天以内申请退货，[数字x]天之内申请换货，超过[数字x]天可以申请维修，具体结果以售后审核意见为准;',\n",
      " '您客气了，为您服务是小妹的荣幸呢#E-s[数字x]#E-s[数字x]#E-s[数字x] #E-s[数字x]请问还有什么业务可以为您效劳呢?',\n",
      " '不支持蓝牙的哦',\n",
      " '#E-s[数字x]',\n",
      " '#E-s[数字x]#E-s[数字x]不客气的 请问还有什么可以帮您呢?#E-s[数字x]怠慢之处请您谅解呢#E-s[数字x]',\n",
      " '为您联系了站点配送会电话联系您确认的呢',\n",
      " '不客气   请问还有其他还可以帮到您的吗?#E-s[数字x]',\n",
      " '#E-s[数字x]']\n",
      "选择： tensor(3) 最终结果： 您好，有什么可以帮助您的呢#E-s[数字x]\n",
      "65 --------------------------------------------------------------------\n",
      "还有备注过之后 下一步什么时候会有进度呢 不去网点的话 明天能来取件码<q>好的 谢谢 今晚吗\n"
     ]
    },
    {
     "name": "stdout",
     "output_type": "stream",
     "text": [
      "['不客气的 也没能帮您什么 有需要您随时联系我们#E-s[数字x]',\n",
      " '请问还有其他可以帮到您的吗? 感谢您对京东的支持，祝您生活愉快，生意兴隆~~',\n",
      " '#E-s[数字x]#E-s[数字x]',\n",
      " '商品最晚在[数字x]号到货呢',\n",
      " '不拦截了?',\n",
      " '请问还有其他还可以帮到您的吗?',\n",
      " '#E-s[数字x]#E-s[数字x]不客气的 请问还有什么可以帮您呢?#E-s[数字x]怠慢之处请您谅解呢#E-s[数字x]',\n",
      " '我这边为您联系站点核实，并于明日[数字x]点之前电话联系您告知处理结果您看可以吗',\n",
      " '您太客气了呢，这都是我应该做的呢~~#E-s[数字x]~O(∩_∩)O/~ #E-s[数字x]#E-s[数字x] 春暖花开 祝您健康幸福 天气转暖 '\n",
      " '多喝水 注重健康 很高兴遇到您这么善解人意的客户，请问还有其他还可以帮到您的吗?#E-s[数字x]#E-s[数字x]',\n",
      " '#E-b[数字x] 我给您跟进订单完成哈 亲爱哒:请问还有其他可以帮助您的吗?#E-s[数字x]',\n",
      " '不客气的哟~ 、请问还有其他还可以帮到您的吗?#E-s[数字x] 感谢您对京东的支持，祝您生活愉快，再见!#E-s[数字x]#E-s[数字x]',\n",
      " '您是上门取件还是送到自提点呢',\n",
      " '#E-s[数字x] 请问还有其他还可以帮到您的吗?',\n",
      " '请问还有什么可以帮您呢?#E-s[数字x]怠慢之处请您谅解呢#E-s[数字x]',\n",
      " '#E-s[数字x] 客气了亲']\n",
      "选择： tensor(1) 最终结果： 请问还有其他可以帮到您的吗? 感谢您对京东的支持，祝您生活愉快，生意兴隆~~\n",
      "66 --------------------------------------------------------------------\n",
      "好的 谢谢 今晚吗<q>好的 售后客服什么时候会来电呢 今晚吗\n",
      "['亲爱的，感谢您的理解哦#E-s[数字x] 亲爱的，请问还有其他还可以帮到您的吗?#E-s[数字x]',\n",
      " '不客气的 也没能帮您什么 有需要您随时联系我们#E-s[数字x]',\n",
      " '请问还有其他还可以帮到您的吗?',\n",
      " '您太客气了呢，这都是我应该做的呢~~#E-s[数字x]~O(∩_∩)O/~ #E-s[数字x]#E-s[数字x] 春暖花开 祝您健康幸福 天气转暖 '\n",
      " '多喝水 注重健康 很高兴遇到您这么善解人意的客户，请问还有其他还可以帮到您的吗?#E-s[数字x]#E-s[数字x]',\n",
      " '#E-b[数字x] 我给您跟进订单完成哈 亲爱哒:请问还有其他可以帮助您的吗?#E-s[数字x]',\n",
      " '不客气的哟~ 、请问还有其他还可以帮到您的吗?#E-s[数字x] 感谢您对京东的支持，祝您生活愉快，再见!#E-s[数字x]#E-s[数字x]',\n",
      " '感谢您对京东的支持，祝您生活愉快，再见!',\n",
      " '亲爱的 您尝试联系配送看看呢 (配送员:[姓名x]，电话:[电话x])',\n",
      " '#E-s[数字x] 请问还有其他还可以帮到您的吗?',\n",
      " '请问还有什么可以帮您呢?#E-s[数字x]怠慢之处请您谅解呢#E-s[数字x]',\n",
      " '#E-s[数字x] 客气了亲',\n",
      " '您真是太客气啦，这些都是我们应该做的呢。 请问还有其他可以帮到您的吗? 感谢您对京东的支持，祝您生活愉快!',\n",
      " '客气啦 亲爱哒，请问还有没有其他可以帮您的哟?#E-s[数字x]#E-s[数字x]',\n",
      " '不客气的哦，分内之事哦，为您服务是我的荣幸哈#E-s[数字x] 请问还有什么可以帮您呢?#E-s[数字x]怠慢之处请您谅解呢',\n",
      " '您是上门取件还是送到自提点呢']\n",
      "选择： tensor(14) 最终结果： 您是上门取件还是送到自提点呢\n",
      "67 --------------------------------------------------------------------\n",
      "好的 售后客服什么时候会来电呢 今晚吗<q>是的 很不好意思 之后回拨了 但是没有回应\n",
      "['现在已经申请成功了呢亲爱的，您只需要耐心等待一下就好了?',\n",
      " '感谢您对京东的支持，祝您生活愉快，再见!#E-s[数字x]#E-s[数字x]',\n",
      " '建议您等待售后处理哦',\n",
      " '亲，换绑手机号码吗?',\n",
      " '#E-s[数字x]  这边核实下 明天 [金额x]之前电话联系您哦  可以吗  ',\n",
      " ' 没事的哈   亲爱的 那您按照之前的流程操作就好的 可以吗',\n",
      " '您提供下正确的税号 妹子这边帮您添加哦',\n",
      " '还请您稍等，正在为您查询~ 您是因为什么原因取消的订单呢',\n",
      " '可以的 这个是商品客服回复的哦 可以的哦',\n",
      " '汇款识别码是JD+订单号 您订单不变的话，汇款识别码是不变的哈 您下午付款之后可邮件联系我，我帮您跟进认款',\n",
      " '没事的呢亲亲',\n",
      " '非常抱歉呢    不寄回原来的发票  我们这边是没办法重开给您的呢',\n",
      " '您好，请稍等这边帮您查询一下#E-s[数字x] 您好，关于您反馈的问题，我为您反馈到专员为您处理，我们会在[数字x]小时给您回电，您看可以吗?',\n",
      " '为您联系了站点配送会电话联系您确认的呢',\n",
      " '很高兴遇到您这么善解人意的客户，请问还有其他还可以帮到您的吗?#E-s[数字x]#E-s[数字x]']\n",
      "选择： tensor(14) 最终结果： 很高兴遇到您这么善解人意的客户，请问还有其他还可以帮到您的吗?#E-s[数字x]#E-s[数字x]\n",
      "68 --------------------------------------------------------------------\n",
      "是的 很不好意思 之后回拨了 但是没有回应<q>是的 现在就方便\n",
      "['现在已经申请成功了呢亲爱的，您只需要耐心等待一下就好了?',\n",
      " '您的商品现在是正在推送海关审核的呢',\n",
      " ' 没事的哈   亲爱的 那您按照之前的流程操作就好的 可以吗',\n",
      " '对的  亲 [数字x]g是两斤',\n",
      " '感谢您对京东的支持，祝您生活愉快，再见!#E-s[数字x]#E-s[数字x]',\n",
      " '#E-s[数字x]  这边核实下 明天 [金额x]之前电话联系您哦  可以吗  ',\n",
      " '嗯呢，后续我也会关注到给您退款的，请放心哈 请问还有其他需要咨询的吗?#E-s[数字x]#E-s[数字x]',\n",
      " '您提供下正确的税号 妹子这边帮您添加哦',\n",
      " '这个您只有等待，我这边反馈相关部门优化',\n",
      " '妹子怠慢的地方，您多多包含哦，辛苦您点击聊天框中的[站点x]给我一个评价哦，妹子期待再次为您服务#E-s[数字x]#E-s[数字x] '\n",
      " '很高兴遇到您这么善解人意的客户，请问还有其他还可以帮到您的吗?#E-s[数字x]#E-s[数字x]',\n",
      " '#E-s[数字x]请问还有其他还可以帮到您的吗?',\n",
      " '亲，换绑手机号码吗?',\n",
      " '给您添麻烦了 可以通过纠纷单处理的 ',\n",
      " '好的呢 请您保持手机畅通哦 请问还有其他还可以帮到您的吗?',\n",
      " '好的 等您订单完成后帮您修改']\n",
      "选择： tensor(14) 最终结果： 好的 等您订单完成后帮您修改\n",
      "69 --------------------------------------------------------------------\n",
      "是的 现在就方便<q>昨天是在外面旅游 可能一段路上信号不好 没有收到 反正麻烦尽快联系了 谢谢\n",
      "['#E-s[数字x]#E-s[数字x]#E-s[数字x] 亲，这个是没法给您发的呢 #E-s[数字x] 非常抱歉，给您带来不便了 #E-s[数字x]',\n",
      " '那请问还有什么可以帮助您的嘛~',\n",
      " '好的呢 您电话畅通就好啦~',\n",
      " '请问还有其他还可以帮到您的吗?',\n",
      " '，晨光(M&G)[金额x]mm黑色全针管笔芯中性笔签字笔水笔替芯 [数字x]支/盒HAGR[数字x] 这个吗?',\n",
      " '这个是笔芯哦',\n",
      " '好的呢亲 请问还有其他可以帮到您的吗?#E-s[数字x]#E-s[数字x]',\n",
      " '那您可以等下次哦',\n",
      " '好的呢 请问还有其他还可以帮到您的吗?',\n",
      " '请问还有其他还可以帮到您的吗?',\n",
      " '发货件数，[数字x]   您这边收到了几个包裹呢',\n",
      " '有什么问题我可以帮您处理或解决呢?',\n",
      " '有什么问题我可以帮您处理或解决呢? ，[姓名x](Triumph)日本文胸刺绣花边系列性感舒适女性胸罩10138104米色[数字x]E [商品快照]',\n",
      " '正在为您查询，还请您稍等两到三分钟哦~#E-s[数字x] VC[数字x] 北京华纺易城站， 这边帮您核实站点，站点联系顾客的哦 ',\n",
      " '您好#E-s[数字x]#E-s[数字x] 不客气的呢 都是我们应该的呢#E-s[数字x]#E-s[数字x]']\n",
      "选择： tensor(1) 最终结果： 那请问还有什么可以帮助您的嘛~\n",
      "70 --------------------------------------------------------------------\n",
      "昨天是在外面旅游 可能一段路上信号不好 没有收到 反正麻烦尽快联系了 谢谢<q>好的\n",
      "['好的呢 您电话畅通就好啦~',\n",
      " '请问还有其他还可以帮到您的吗?',\n",
      " '请问还有其他还可以帮到您的吗?',\n",
      " '，晨光(M&G)[金额x]mm黑色全针管笔芯中性笔签字笔水笔替芯 [数字x]支/盒HAGR[数字x] 这个吗?',\n",
      " '#E-s[数字x] 请问还有其他还可以帮到您的吗?',\n",
      " '好的 #E-b[数字x] 很高兴遇到您这么善解人意的客户，请问还有其他还可以帮到您的吗?#E-s[数字x]#E-s[数字x]',\n",
      " '这个是笔芯哦',\n",
      " '好的呢亲 请问还有其他可以帮到您的吗?#E-s[数字x]#E-s[数字x]',\n",
      " '好的呢 请问还有其他还可以帮到您的吗?',\n",
      " '好的哦 亲爱的 #E-s[数字x]#E-s[数字x]#E-s[数字x] 请问还有什么可以帮到您的?怠慢之处请多多谅解哦#E-s[数字x] '\n",
      " '#E-b[数字x] '\n",
      " '亲爱的商家，以后您的物流问题可以通过咚咚—小耳机图标—京东物流商家支持或青龙系统、沧海系统、物流官网找到我们哦，感谢您对京东的支持，祝您生活愉快!',\n",
      " '嗯嗯 #E-s[数字x]#E-s[数字x]#E-s[数字x] 亲爱的，请问还有什么可以帮助您呢?还请对我的服务做出一个评价呢~么么哒#E-s[数字x]',\n",
      " '发货件数，[数字x]   您这边收到了几个包裹呢',\n",
      " '有什么问题我可以帮您处理或解决呢?',\n",
      " '有什么问题我可以帮您处理或解决呢? ，[姓名x](Triumph)日本文胸刺绣花边系列性感舒适女性胸罩10138104米色[数字x]E [商品快照]',\n",
      " '正在为您查询，还请您稍等两到三分钟哦~#E-s[数字x] VC[数字x] 北京华纺易城站， 这边帮您核实站点，站点联系顾客的哦 ']\n",
      "选择： tensor(1) 最终结果： 请问还有其他还可以帮到您的吗?\n",
      "71 --------------------------------------------------------------------\n",
      "好的<q>电话会啥时候来电呢 我可以留意一下 今晚么\n",
      "['好的 请问还有其他可以帮助到您的吗#E-s[数字x]',\n",
      " '[数字x] 写这个就可以',\n",
      " '发票不用的哦',\n",
      " '亲爱的，感谢您的理解哦#E-s[数字x] 亲爱的，请问还有其他还可以帮到您的吗?#E-s[数字x]',\n",
      " '[电话x] 亲爱的可以联系这个的呢',\n",
      " '亲爱的 现在应该是不在服务时间 您可以明天[时间x]-[时间x] 咨询呢 亲爱的',\n",
      " '那我这边为您升级专员  专员会在今天晚上[数字x]点之前和您联系 您看可以吗',\n",
      " '[电话x] 邮编:[数字x] 亲 还麻烦您了 #E-s[数字x]#E-s[数字x]#E-s[数字x]#E-s[数字x]#E-s[数字x]',\n",
      " '稍等   [数字x]，    ，    ，    ，    ，    ，  ',\n",
      " '亲亲，您的订单完成是否有收到短信的呢',\n",
      " '不会吧-。-',\n",
      " '可能是同时咨询的人较多哦 ，您耐心尝试一下呢',\n",
      " '亲爱的，这个是这边查看的站点的电话的呢',\n",
      " '很高兴遇到您这么善解人意的客户，请问还有其他还可以帮到您的吗?#E-s[数字x]#E-s[数字x]',\n",
      " '请您提供下订单号或者运单号，#E-s[数字x]方便帮助您查询']\n",
      "选择： tensor(13) 最终结果： 很高兴遇到您这么善解人意的客户，请问还有其他还可以帮到您的吗?#E-s[数字x]#E-s[数字x]\n",
      "72 --------------------------------------------------------------------\n",
      "电话会啥时候来电呢 我可以留意一下 今晚么<q>好的\n",
      "['请问还有其他还可以帮到您的吗?',\n",
      " '亲爱的，感谢您的理解哦#E-s[数字x] 亲爱的，请问还有其他还可以帮到您的吗?#E-s[数字x]',\n",
      " '#E-s[数字x] 请问还有其他什么问题可以帮到您的吗?#E-s[数字x]',\n",
      " '很高兴遇到您这么善解人意的客户，请问还有其他还可以帮到您的吗?#E-s[数字x]#E-s[数字x]',\n",
      " '不支持的 #E-s[数字x] 请问还有别的可以帮到您的?',\n",
      " '您太客气了呢，这都是我应该做的呢~~#E-s[数字x]~O(∩_∩)O/~ 妹子祝福您幸福快乐，前程锦绣，还请您点击表情栏旁边的“+”打赏我一个评价哦 '\n",
      " '#E-s[数字x]#E-s[数字x]#E-s[数字x]#E-s[数字x]#E-s[数字x]',\n",
      " '不客气的哦 ，这是我的份内事，也感谢您对我服务的认可，我会更加努力的#E-s[数字x]#E-s[数字x] 这边已经给您联系库房去给您核实了恩 '\n",
      " '让再次预约的时候联系您的联系方式呢',\n",
      " '抱歉，不行哦 外包装预计[数字x]克左右的',\n",
      " '   小妹这边帮您提交售后退货 会有客服联系你 的呢',\n",
      " '您好 ，我在的哦#E-s[数字x]，请问有什么可以帮助您的吗#E-s[数字x]',\n",
      " '好的  耐心等待的哈 还有什么可以帮您的呢? 没有其他问题，妹子就不打扰您了哦 感谢您对京东的支持，祝您生活愉快，再见。',\n",
      " '感谢您对京东的支持，祝您生活愉快，再见!',\n",
      " '您的服务单[数字x]的商品检测中， 在的哦',\n",
      " '这边您等待下专员联系您的哦 请问还有其他可以帮到您的吗?#E-s[数字x]#E-s[数字x]',\n",
      " '       好的呢 请问还有其他还可以帮到您的吗?']\n",
      "选择： tensor(10) 最终结果： 好的  耐心等待的哈 还有什么可以帮您的呢? 没有其他问题，妹子就不打扰您了哦 感谢您对京东的支持，祝您生活愉快，再见。\n",
      "73 --------------------------------------------------------------------\n",
      "好的<q>好的\n",
      "['enen  亲亲，请问还有其他什么可以帮您的嘛~#E-s[数字x]',\n",
      " '请问还有其他可以帮到您的吗，亲',\n",
      " '请问还有其他还可以帮到您的吗?',\n",
      " '请问还有其他还可以帮到您的吗?#E-s[数字x]',\n",
      " '#E-s[数字x]#E-s[数字x] 请核对邮寄地址 黑龙江[地址x]   [数字x]  [姓名x]，',\n",
      " '这边还有什么其他可以帮到您的吗?',\n",
      " '嗯嗯#E-s[数字x] 请问还有其他还可以帮到您的吗?',\n",
      " '预计还需要[数字x]-[数字x]天左右到站配送的哦',\n",
      " '这边是看到您的下单地址是，四川[地址x] 这个下单地址不详细导致这个问题呢',\n",
      " '#E-s[数字x]#E-s[数字x]#E-s[数字x] 感谢您对京东的支持，祝您生活愉快，再见!#E-s[数字x]',\n",
      " '#E-s[数字x]',\n",
      " '这边怕配送员不看留言信息呢 请问还有其他还可以帮到您的吗?',\n",
      " '麻烦您点击“小红心”对我的工作做出评价的哦#E-s[数字x] 感谢您对京东的支持，祝您生活愉快，再见!',\n",
      " '#E-s[数字x] 尊敬的VIP客户，请问还有什么可以为您效劳的吗#E-s[数字x]#E-s[数字x]',\n",
      " '#E-s[数字x]感谢哦']\n",
      "选择： tensor(1) 最终结果： 请问还有其他可以帮到您的吗，亲\n",
      "74 --------------------------------------------------------------------\n",
      "好的<q>暂时没有了 谢谢\n",
      "['您客气啦，这是我们应该做的，也感谢您对京东的认可#E-s[数字x]#E-s[数字x]#E-s[数字x] 还辛苦您给小妹打个评价呢~',\n",
      " '您客气了，为您服务是小妹的荣幸，有什么问题可以随时咨询我们哦',\n",
      " '不谢不谢哈~很高兴京东能有像您这么善解人意的商家，感谢您的支持与厚爱! 还请稍后点击小红心    '\n",
      " '对我的服务做出评价哦!非常感谢您，祝亲亲生意兴隆     非常感谢您的支持和理解~~ 感谢您对京东的支持，祝您生活愉快，再见!',\n",
      " '感谢您对京东的支持，祝您购物愉快，再见!',\n",
      " '小妹有个请求可以吗?能不能麻烦您在聊天框右边的“+” 有个满意度给我的服务打个评价哦，谢谢您! ~',\n",
      " '不客气哒~#E-s[数字x] 您的满意是我们最大的动力哦~#E-s[数字x]希望下次有机会再为您服务!',\n",
      " '不客气呢~为您服务是小妹的荣幸哦~#E-s[数字x]#E-s[数字x] '\n",
      " '祝您天天有好运、更是财运滚滚、发大财哟如果您方便的话还请您给小妹的服务打一个评价哦，在表情旁边有一个【+】号点开里面的满意度，点开对小妹做出一个评价哦 '\n",
      " '#E-s[数字x] #E-s[数字x]#E-s[数字x]',\n",
      " '好哒亲爱的',\n",
      " '感谢您对京东的支持',\n",
      " '如果有其他问题欢迎第一时间联系我们哦#E-s[数字x] #E-b[数字x] '\n",
      " '怠慢之处请多多谅解哦，如您有任何物流问题可以通过沧海系统、青龙系统、京东快递官网以及咚咚小耳机(选择物流)进行咨询。祝您商品大卖',\n",
      " '感谢您对京东的支持!祝您生活乐无边，好运伴身边，开心每一天~#E-s[数字x]',\n",
      " '让您费心了，那这边就不打扰您了 祝您生活愉快，每天有一个好心情! 后续有问题 随时进线 感谢您对京东的支持，祝您生活愉快，再见!',\n",
      " '感谢您对京东的支持，祝您生活愉快，再见!',\n",
      " '感谢您对京东的支持，祝您生活愉快，再见!',\n",
      " '感谢您对京东的支持，祝您生活愉快，再见!']\n",
      "选择： tensor(1) 最终结果： 您客气了，为您服务是小妹的荣幸，有什么问题可以随时咨询我们哦\n",
      "75 --------------------------------------------------------------------\n",
      "您好\n",
      "['您好，请问有什么可以帮您解决或处理的呢',\n",
      " '请问您是咨询之前的问题还是有其他的问题需要处理呢?',\n",
      " '有什么可以帮到您呢?',\n",
      " '有什么问题我可以帮您处理或解决呢?',\n",
      " '您好 请问有什么可以帮助您的呢?',\n",
      " '尊敬的商家朋友，请问有什么可以帮到您呢?#E-s[数字x]#E-s[数字x]#E-s[数字x] #E-s[数字x]#E-s[数字x]',\n",
      " '您好，请问有什么问题我可以帮您处理或解决呢?',\n",
      " '尊敬的商家朋友，请问有什么可以帮您的呢?    ',\n",
      " '尊敬的商家朋友，我是您的京东物流小红人工号 [数字x]，有什么能帮到您的吗?#E-s[数字x]麻烦提供下商家ID#E-s[数字x]',\n",
      " '亲爱的，在的噢，请问有什么可以帮您吗#E-s[数字x]',\n",
      " '#E-s[数字x]您好，请问您是要咨询哪一类的问题呢~',\n",
      " '请问您是咨询之前的问题还是有其他的问题需要处理呢? '\n",
      " '您好，APP端麻烦您点击对话框右下角的“+”，点击“订单”后，选择一下您需要咨询的订单哦，PC端在我的订单中查看，还请您点击复制给我一下哈，小妹这边帮您查询哦~',\n",
      " '有什么问题我可以帮您处理或解决呢?',\n",
      " '尊敬的商家朋友，请问有什么可以帮您的呢?#E-s[数字x]',\n",
      " '您好在的']\n",
      "选择： tensor(1) 最终结果： 请问您是咨询之前的问题还是有其他的问题需要处理呢?\n",
      "76 --------------------------------------------------------------------\n",
      "您好<q>之前申请入驻的店铺类型为专营店  后来因为种种原因没通过，现在改申请旗舰店 品牌也换了 系统一直提示不能更换主营类目\n"
     ]
    },
    {
     "name": "stdout",
     "output_type": "stream",
     "text": [
      "['开店数量:一家公司能在京东开几家店铺? 您好， 同一家主体的公司开店: 旗舰店;限制为一个。 '\n",
      " '专卖店、专营店;无数量限制，但店铺间同一类目经营的同品牌及商品不得重复。',\n",
      " '请问是咨询这个么',\n",
      " '亲亲，您这个问题我们这边还在审核，请您耐心等待',\n",
      " '请稍等，马上为您查看之前的问题处理进度，稍后为您解答哦~ [ORDERID_10383632] '\n",
      " '，特步男鞋跑鞋舒适轻便耐磨减震网面休闲运动鞋男子跑步鞋[数字x]灰黑[数字x]码 请问是这个商品吗',\n",
      " '您方便简单描述下您的问题吗?',\n",
      " '已经联系研发部门处理 会在[数字x]小时内回电#E-s[数字x]您',\n",
      " '正为您查询，还请稍微等待一小会儿~~ 取回核实，谢谢。 请问还有其他可以帮到您的吗? 师傅您辛苦了，祝您工作愉快，再见!',\n",
      " '亲 那个是物联卡 不是存储卡 是流量卡是内置的',\n",
      " '不可以的哦 需要节能补贴通过后发货的哦',\n",
      " '请稍等，马上为您核实之前的问题处理进度。 [ORDERID_10097024] 这个订单吗',\n",
      " '我看下聊天记录的 亲 请稍等',\n",
      " '请稍等，马上为您查看之前的问题处理进度，稍后为您解答哦~',\n",
      " '[数字x] '\n",
      " 'HLA[姓名x]之家短袖T恤男[数字x]夏季新品简约基础款柔软舒适HNTBJ[数字x]E[数字x]A浅绿(VQ)[数字x]/9[数字x]A([数字x]) '\n",
      " '亲，是这件商品么',\n",
      " '麻烦您提供订单号',\n",
      " '我账号密码知道，但是以前的手机号没用了，现在提示要短信验证码，该怎么办  这个吗']\n",
      "选择： tensor(0) 最终结果： 开店数量:一家公司能在京东开几家店铺? 您好， 同一家主体的公司开店: 旗舰店;限制为一个。 专卖店、专营店;无数量限制，但店铺间同一类目经营的同品牌及商品不得重复。\n",
      "77 --------------------------------------------------------------------\n",
      "之前申请入驻的店铺类型为专营店  后来因为种种原因没通过，现在改申请旗舰店 品牌也换了 系统一直提示不能更换主营类目<q>等于这个京东账号申请过店铺就算没成功  也是没有机会申请其他品牌的店铺了\n",
      "['开店数量:一家公司能在京东开几家店铺? 您好， 同一家主体的公司开店: 旗舰店;限制为一个。 '\n",
      " '专卖店、专营店;无数量限制，但店铺间同一类目经营的同品牌及商品不得重复。',\n",
      " '有的 您已经使用了 [数字x] /[数字x] /[ORDERID_10225950] ',\n",
      " '您能具体描述一下吗',\n",
      " '哪个号码提示[数字x]呢 我帮您解绑 您再去绑定 就可以了',\n",
      " '感谢您的理解与支持。 请问还有什么可以帮您的吗?#E-s[数字x] '\n",
      " '有什么不明白随时联系小妹哦#E-s[数字x]给妹子做一个评价#E-s[数字x]感谢您对京东到家的支持，祝您生活愉快!再见',\n",
      " '嗯好的呢',\n",
      " '#E-s[数字x]#E-s[数字x] 请问还有其他还可以帮到您的吗?',\n",
      " '这边我们是可以为您查询到的',\n",
      " '亲 那个是物联卡 不是存储卡 是流量卡是内置的',\n",
      " '需要 先申请品牌 再上架商品',\n",
      " '您的事业部',\n",
      " '不可以的哦 需要节能补贴通过后发货的哦',\n",
      " '不支持的 感谢您的理解与支持。',\n",
      " '[姓名x] 好的',\n",
      " '不能的呢亲 咱们手机号只能同时绑定一个账户亲']\n",
      "选择： tensor(1) 最终结果： 有的 您已经使用了 [数字x] /[数字x] /[ORDERID_10225950] \n",
      "78 --------------------------------------------------------------------\n",
      "等于这个京东账号申请过店铺就算没成功  也是没有机会申请其他品牌的店铺了<q>[组织机构x]\n",
      "['这个是收货地址是吗',\n",
      " '税号需要写明吗',\n",
      " '好的 税号是多少呢',\n",
      " '您看可以吗?',\n",
      " '税号是否需要呢',\n",
      " '亲爱哒，济南[地址x]，不开[姓名x]票了呢~',\n",
      " '是这个公司 对的',\n",
      " '好的  已经为您登记 预计[数字x]-[数字x]个工作日到账',\n",
      " '这边帮您登记换开',\n",
      " '好的 你耐心等待[数字x]-[数字x]个工作日的呢 修改成功后短信告知您的呢 亲爱滴，请问还有其他需要帮助的么?#E-s[数字x] '\n",
      " '亲爱的，还请麻烦您点击屏幕上的小桃心 里面的“满意度”对我的服务做出评价哦，妹子在此也祝您生活乐无边，好运伴身边，开心每一天~#E-s[数字x]',\n",
      " '好的 这边在订单完成后为您申请修改 ',\n",
      " '改抬头和税号是吗',\n",
      " '没有税号  内容为明细对吗',\n",
      " '取件人信息不改对吧',\n",
      " '好哒 订单完成给您换开公司抬头的电子发票']\n",
      "选择： tensor(1) 最终结果： 税号需要写明吗\n",
      "79 --------------------------------------------------------------------\n",
      "[组织机构x]<q>没有在咱们平台开过店铺 之前后台申请的记录确删除不了\n",
      "['好的 亲亲，您的电子发票已经按照您提供的信息进行修改，我们的财务会在三个工作日之内给您审核 #E-s[数字x] 请问还有其他还可以帮到您的吗?',\n",
      " '亲爱哒，那您看这边还有什么可以帮您的呢?#E-s[数字x]',\n",
      " '亲爱的  请问还有其他还可以帮到您的吗?#E-s[数字x]#E-s[数字x]',\n",
      " '亲，请问还有其他需要咨询的吗?',\n",
      " '订单完成后才可以帮您修改哦',\n",
      " '这个不能换的呢 对您造成的不便，很是抱歉呢',\n",
      " '请提供一下税号哦 需要填写税号吗',\n",
      " '一般[数字x]-[数字x]个工作日修改成功 您太客气了呢，这都是我应该做的呢~~#E-s[数字x]~O(∩_∩)O/~',\n",
      " ' '\n",
      " '亲爱的，这边帮您提交修改发票申请，财务审核后一个工作日(周一至周五)换开完成，届时您可以在您的发票详情里面查看，这边也会[数字x]-[数字x]个工作日短信告知您，直到您的发票问题解决。',\n",
      " '到时修改完成短信通知您',\n",
      " '这个是收货地址是吗',\n",
      " '亲亲，好的呢 订单完成后[数字x]个工作日换开哦',\n",
      " '好的  已经为您登记 预计[数字x]-[数字x]个工作日到账',\n",
      " '这边帮您登记换开',\n",
      " '好的呢，亲亲']\n",
      "选择： tensor(14) 最终结果： 好的呢，亲亲\n",
      "80 --------------------------------------------------------------------\n",
      "没有在咱们平台开过店铺 之前后台申请的记录确删除不了<q>现在要申请其他品牌的店铺 现在要放弃  申请其他品牌店铺\n",
      "['您能具体描述一下吗',\n",
      " '嗯呢亲，这个是需要连接倒车灯线的哦 您看还有其他什么可以帮您的吗?^_^小妹一定尽心尽力为您处理的哟#E-s[数字x]',\n",
      " '需要 先申请品牌 再上架商品',\n",
      " '尊敬的商家朋友，请问有什么可以帮到您呢? 请您稍等哦，小红人这就帮您去查，耐心等待一下下哦',\n",
      " '亲亲，有什么能帮到您的吗?#E-s[数字x]#E-s[数字x] [ORDERID_10202765]这个是吗?',\n",
      " '#E-s[数字x]#E-s[数字x]#E-s[数字x] 请问还有可以为您服务的吗?#E-s[数字x]#E-s[数字x] '\n",
      " '#E-s[数字x]#E-s[数字x]',\n",
      " '您现在寄吗',\n",
      " '亲亲可以提现银行卡',\n",
      " '这边帮您催促一下专员，请您稍等#E-s[数字x]',\n",
      " '顺祝您阖府安康[地址x]，[数字x]年一切都好! 您放心我并未离线，您还有其他问题，可以继续反馈，我会继续给您解决哒#E',\n",
      " '提交好纠纷单了 或者您对商家仲裁处理结果不满意可在仲裁中发起京东介入哦，仲裁专员会在您申请的[数字x]H内介入帮您处理~ '\n",
      " '仲裁单提交后商家会在[数字x]H内受理，若商家超时未处理，京东仲裁人员会在[数字x]小时内介入处理的哦~ 您可以点击客户服务-交易纠纷，查看您的纠纷单',\n",
      " '商品是什么故障呢 您简单描述一下 您好，请问您还在线吗?#E-s[数字x]#E-s[数字x]',\n",
      " '没事的哦 #E-s[数字x]#E-s[数字x] #E-s[数字x]请看看还有其他什么可以帮到您的呢?#E-s[数字x]',\n",
      " '不客气的，为您服务是我的荣幸哈#E-s[数字x] 亲爱滴，请问还有其他需要帮助的么?#E-s[数字x]',\n",
      " '您看还有其他什么可以帮到您的吗?#E-s[数字x]']\n",
      "选择： tensor(3) 最终结果： 尊敬的商家朋友，请问有什么可以帮到您呢? 请您稍等哦，小红人这就帮您去查，耐心等待一下下哦\n",
      "81 --------------------------------------------------------------------\n",
      "现在要申请其他品牌的店铺 现在要放弃  申请其他品牌店铺<q>是的 但是没通过  不算数吧\n",
      "['您能具体描述一下吗',\n",
      " '等待经理审核',\n",
      " '亲亲，有什么能帮到您的吗?#E-s[数字x]#E-s[数字x] [ORDERID_10202765]这个是吗?',\n",
      " '亲，首先您这边订单差价已经申请过了 申请成功了 这个钱退到您之前的原支付的银行卡上面的呢 *********[数字x]  这张银行卡',\n",
      " '#E-s[数字x]#E-s[数字x]. 请问还有什么小秘书可以帮您的呢 ~   (*^__^*)#E-s[数字x]',\n",
      " '现在已经申请成功了呢亲爱的，您只需要耐心等待一下就好了?',\n",
      " '需要 先申请品牌 再上架商品',\n",
      " '嗯呢亲，这个是需要连接倒车灯线的哦 您看还有其他什么可以帮您的吗?^_^小妹一定尽心尽力为您处理的哟#E-s[数字x]',\n",
      " '商品是什么故障呢 您简单描述一下 您好，请问您还在线吗?#E-s[数字x]#E-s[数字x]',\n",
      " '不客气的，为您服务是我的荣幸哈#E-s[数字x] 亲爱滴，请问还有其他需要帮助的么?#E-s[数字x]',\n",
      " '请问您是咨询之前的问题还是有其他的问题需要处理呢?',\n",
      " '尊敬的商家朋友，请问有什么可以帮到您呢? 请您稍等哦，小红人这就帮您去查，耐心等待一下下哦',\n",
      " '[日期x] [时间x]，审核成上门取件，您的服务单已审核京东快递取件，预约时间:[日期x] (周二) [时间x]-[数字x][时间x] '\n",
      " '尽快为您取走需要退货的商品 ',\n",
      " '具体先等待售后安排哈',\n",
      " '包装清单  三元 风味酸牛奶 原味酸奶[数字x]g*[数字x] 十袋偶']\n",
      "选择： tensor(0) 最终结果： 您能具体描述一下吗\n",
      "82 --------------------------------------------------------------------\n",
      "是的 但是没通过  不算数吧<q>如何删除 我删除不了的\n",
      "['[日期x] [时间x]  有效期结束时间',\n",
      " '用水清洗一下一下瓶口 就好了 就是那个放水的口 稍微清洗一下就好了 '\n",
      " '很高兴遇到您这么善解人意的客户，请问还有其他还可以帮到您的吗?#E-s[数字x]#E-s[数字x]',\n",
      " '亲，辛苦您提供下订单号或者服务单号，这边为您查询一下哈O(∩_∩)O~#E-s[数字x]',\n",
      " '#E-s[数字x]#E-s[数字x]. 请问还有什么小秘书可以帮您的呢 ~   (*^__^*)#E-s[数字x]',\n",
      " '您点击取消服务单就可以啦',\n",
      " '亲，首先您这边订单差价已经申请过了 申请成功了 这个钱退到您之前的原支付的银行卡上面的呢 *********[数字x]  这张银行卡',\n",
      " '现在已经申请成功了呢亲爱的，您只需要耐心等待一下就好了?',\n",
      " '请稍等 马上帮您看看哦 http://paipai.jd.com/concat.html 合作的话  请联系这里哦',\n",
      " '小妹帮忙您申请下售后您看可以嘛',\n",
      " '亲售后会连联系您您协商一下',\n",
      " '下载腾讯视频吗',\n",
      " '请问还有什么可以帮到您的?怠慢之处请多多谅解哦#E-s[数字x]#E-s[数字x] 感谢您对京东的支持，祝您生活愉快，再见#E-s[数字x]',\n",
      " '这边会更新的呢，建议您耐心等待一下，或者您把地址发送过来，我帮您联系站点告知一下',\n",
      " '亲爱哒很抱歉耽误您话费使用了哦  '\n",
      " '天色已晚，为了不打扰亲爱哒休息，小妹最迟会在次日中午[数字x]点前电话与您确认到账情况，为了方便结果及时与您同步，还请提供下可以与您取得联系上的号码哦',\n",
      " '亲亲进入记录仪设置中哦']\n",
      "选择： tensor(0) 最终结果： [日期x] [时间x]  有效期结束时间\n",
      "83 --------------------------------------------------------------------\n",
      "如何删除 我删除不了的<q>入口在哪\n",
      "['没事的了',\n",
      " '您设置保存就可以了',\n",
      " '只要是因为商品本身存在问题  是会通过的呢 #E-s[数字x]#E-s[数字x]#E-s[数字x]#E-s[数字x]#E-s[数字x] '\n",
      " '请问还有其他还可以帮到您的吗?',\n",
      " '不客气的哦，分内之事哦，为您服务是我的荣幸哈#E-s[数字x] 让您久等啦，请问还有什么可以帮您?#E-s[数字x]怠慢之处请您谅解呢#E-s[数字x] '\n",
      " '#E-s[数字x]#E-s[数字x]',\n",
      " '亲爱哒， 我们都是冷链车去采购的',\n",
      " '但是建议跟客户沟通一下确认取消还是挽留的呢~ 那就可以驳回的哈#E-s[数字x]',\n",
      " '如果有真的发生这个问题，售后会安排',\n",
      " '#E-s[数字x]',\n",
      " '麻烦提供下订单号好吗',\n",
      " '到时售后人员会联系您，给您确认，您可以直接告知他商品情况，这边我也会在您提交售后上面备注您的情况的，请您放心#E-s[数字x]',\n",
      " '      ，VD[数字x]   亲爱的 这个是您商品的快递单号呢',\n",
      " '请问还有什么可以帮到您的?怠慢之处请多多谅解哦#E-s[数字x]#E-s[数字x] 感谢您对京东的支持，祝您生活愉快，再见#E-s[数字x]',\n",
      " '我会尽力的呢 您好，您的修改地址是不支持的，如果两个地址相差不超过[数字x]公里，是可以协商配送，给您申请配送过去的呢',\n",
      " '很高兴遇到您这么善解人意的客户，请问还有其他还可以帮到您的吗?#E-s[数字x]#E-s[数字x]',\n",
      " '#E-s[数字x]#E-s[数字x]#E-s[数字x] 给您添麻烦了，#E-s[数字x]您看还有其他可以帮到您的吗?']\n",
      "选择： tensor(10) 最终结果：       ，VD[数字x]   亲爱的 这个是您商品的快递单号呢\n",
      "84 --------------------------------------------------------------------\n",
      "入口在哪<q>时间多久\n",
      "['#E-s[数字x] 请问还有什么其他咨询的呢?当然如后期有需要咨询的，可以随时联系妹子，我们是[数字x]小时在线的哦#E-s[数字x]#E-s[数字x]',\n",
      " '#E-s[数字x]#E-s[数字x]亲亲，这个都是这样的呢',\n",
      " '您看看 能不能取消订单  现在 应该还可以的 ',\n",
      " '您的货物在[数字x]天内没有取件，会被返回的',\n",
      " '退货商品到达我们售后 检测没有问题以后 办理退款  昨天到的售后 ，今天检测完成 预计[数字x]-[数字x]天办理退款',\n",
      " '   您可以到您当地看一下。',\n",
      " '#E-s[数字x]#E-s[数字x]#E-s[数字x]',\n",
      " '很高兴遇到您这么善解人意的客户，请问还有其他还可以帮到您的吗?#E-s[数字x]#E-s[数字x] 可不可以给妹子 个评价吗',\n",
      " '很高兴遇到您这么善解人意的客户，请问还有其他还可以帮到您的吗?#E-s[数字x]#E-s[数字x]',\n",
      " '您客气了哦#E-s[数字x]~，小妹应该做的哈#E-s[数字x]- 请问还有其他还可以帮到您的吗?',\n",
      " '亲亲，建议您稍后再试',\n",
      " '您客气了哈 #E-s[数字x]#E-s[数字x] 请问还有其他我可以为您效劳的么?#E-s[数字x]',\n",
      " '亲，很抱歉给您带来不便了还请您谅解，请问还有其他可以帮您的吗?',\n",
      " '商品摄像头是有什么问题呢',\n",
      " '建议您耐心等待下纠纷单商家的回复呢 给您添麻烦了呢']\n",
      "选择： tensor(1) 最终结果： #E-s[数字x]#E-s[数字x]亲亲，这个都是这样的呢\n",
      "85 --------------------------------------------------------------------\n",
      "时间多久<q>如何换其他京东账号 申请新的品牌旗舰店，还是这个公司，就没有限制了吧 因为本身之前就没有入驻成功\n",
      "['[日期x] [时间x]  有效期结束时间',\n",
      " '#E-s[数字x] 这芒果比较热销的 ，亲 口感比较好的',\n",
      " '用水清洗一下一下瓶口 就好了 就是那个放水的口 稍微清洗一下就好了 '\n",
      " '很高兴遇到您这么善解人意的客户，请问还有其他还可以帮到您的吗?#E-s[数字x]#E-s[数字x]',\n",
      " '您的取消申请已提交。',\n",
      " '#E-s[数字x]#E-s[数字x]#E-s[数字x] 请问还有其他还可以帮到您的吗?',\n",
      " '价保，-[金额x] 已经为您申请成功的 可以吗?',\n",
      " '是的， 因为个人买卖都有风险的',\n",
      " '这边我们是可以为您查询到的',\n",
      " '想要什么时候配送呢',\n",
      " '亲亲，还有其他可以帮您的吗?',\n",
      " '这边建议您耐心等待的哈 请问还有其他还可以帮到您的吗? 感谢您对京东的支持，祝您生活愉快，再见!',\n",
      " '亲，辛苦您提供下订单号或者服务单号，这边为您查询一下哈O(∩_∩)O~#E-s[数字x]',\n",
      " '辛苦您了哦#E-s[数字x]#E-s[数字x] 请问还有什么可以帮到您的嘛? #E-s[数字x]',\n",
      " '很高兴遇到您这么善解人意的客户，请问还有其他还可以帮到您的吗?#E-s[数字x]#E-s[数字x]',\n",
      " '很高兴遇到您这么善解人意的客户，请问还有其他还可以帮到您的吗?#E-s[数字x]#E-s[数字x]']\n",
      "选择： tensor(14) 最终结果： 很高兴遇到您这么善解人意的客户，请问还有其他还可以帮到您的吗?#E-s[数字x]#E-s[数字x]\n",
      "86 --------------------------------------------------------------------\n",
      "如何换其他京东账号 申请新的品牌旗舰店，还是这个公司，就没有限制了吧 因为本身之前就没有入驻成功<q>好的 谢谢\n",
      "['请您保持手机畅通，专员会在[数字x]小时内给您回电处理的，还请您注意接听[数字x]或者[数字x]开头的座机电话哦 ',\n",
      " '您的取消申请已提交。',\n",
      " '#E-s[数字x]#E-s[数字x] 请问还有其他可以帮到您的吗? #E-j[数字x] '\n",
      " '还请稍后点击小红心#E-s[数字x]对我的服务做出评价哦!非常感谢您 感谢您对京东的支持，祝您生活愉快，再见!',\n",
      " '是的， 因为个人买卖都有风险的',\n",
      " '#E-s[数字x] '\n",
      " '亲爱的商家，以后您的物流问题可以通过咚咚—小耳机图标—京东物流商家支持或青龙系统、沧海系统、物流官网找到我们哦，感谢您对京东的支持，祝您生活愉快!',\n",
      " '客户无法联系',\n",
      " '请问还有其他还可以帮到您的吗?',\n",
      " '请问还有其他还可以帮到您的吗? 您太客气了呢，这都是我应该做的呢~~#E-s[数字x]~O(∩_∩)O/~',\n",
      " '您太客气了呢，这都是我应该做的呢~~#E-s[数字x]~O(∩_∩)O/~ #E-s[数字x]#E-s[数字x] 春暖花开 祝您健康幸福 天气转暖 '\n",
      " '多喝水 注重健康 很高兴遇到您这么善解人意的客户，请问还有其他还可以帮到您的吗?#E-s[数字x]#E-s[数字x]',\n",
      " '#E-b[数字x] 我给您跟进订单完成哈 亲爱哒:请问还有其他可以帮助您的吗?#E-s[数字x]',\n",
      " '不客气的哟~ 、请问还有其他还可以帮到您的吗?#E-s[数字x] 感谢您对京东的支持，祝您生活愉快，再见!#E-s[数字x]#E-s[数字x]',\n",
      " '有的 您已经使用了 [数字x] /[数字x] /[ORDERID_10225950] ',\n",
      " '您是上门取件还是送到自提点呢',\n",
      " '#E-s[数字x] 请问还有其他还可以帮到您的吗?',\n",
      " '请问还有什么可以帮您呢?#E-s[数字x]怠慢之处请您谅解呢#E-s[数字x]']\n",
      "选择： tensor(0) 最终结果： 请您保持手机畅通，专员会在[数字x]小时内给您回电处理的，还请您注意接听[数字x]或者[数字x]开头的座机电话哦 \n",
      "87 --------------------------------------------------------------------\n",
      "在吗\n"
     ]
    },
    {
     "name": "stdout",
     "output_type": "stream",
     "text": [
      "['您好 尊敬的商家，您好!欢迎咨询京东物流商家在线客服~ #E-s[数字x] 在呢',\n",
      " '亲爱哒，请问有什么可以帮您的呢?#E-s[数字x]',\n",
      " '亲，您好!',\n",
      " '有什么问题我可以帮您处理或解决呢?',\n",
      " '在的哦亲',\n",
      " '请问有什么可以帮到您的呢',\n",
      " '请问您是咨询之前的问题还是有其他的问题需要处理呢?',\n",
      " '有什么问题我可以帮您处理或解决呢?',\n",
      " '有什么问题我可以帮您处理或解决呢?',\n",
      " '您好，京东家电小秘书[数字x]很高兴为您服务!请问有什么可以帮您的呢#E-s[数字x]',\n",
      " '有什么问题我可以帮您处理或解决呢?',\n",
      " '尊敬的商家朋友，请问有什么可以帮到您呢?#E-s[数字x]#E-s[数字x]#E-s[数字x]',\n",
      " '请问您是咨询之前的问题还是有其他的问题需要处理呢?#E-s[数字x]',\n",
      " '亲爱的，小妹在的哦，很高兴为您服务哦#E-s[数字x]',\n",
      " '您好，请问亲爱的有什么可以为您效劳的呢?#E-s[数字x]']\n",
      "选择： tensor(1) 最终结果： 亲爱哒，请问有什么可以帮您的呢?#E-s[数字x]\n",
      "88 --------------------------------------------------------------------\n",
      "在吗<q>为什么小米[数字x]没有发货 小姐姐\n",
      "['您好，为了准确了解您的订单情况，麻烦您提供一下订单号给小妹查看哦',\n",
      " '请稍等，马上为您查看之前的问题处理进度，稍后为您解答哦~ 还请您稍等，正在为您查询~',\n",
      " '亲爱的客户，还麻烦您提供下订单号，妹子这边给您查询哦',\n",
      " '小妹温馨提示:订单一旦取消是无法恢复的，商品性价比挺高的呦，您再考虑下呢~',\n",
      " '#E-s[数字x]',\n",
      " '您好请问有什么可以帮您',\n",
      " '天气变化快，您要照顾好自己哦~(&gt;^ω^&lt;)~~~#E-s[数字x]#E-s[数字x] 祝您天天开心哦',\n",
      " '两次[数字x]元 一共[数字x] #E-s[数字x] 很高兴遇到您这么善解人意的客户，请问还有其他还可以帮到您的吗?#E-s[数字x]#E-s[数字x]',\n",
      " '您上传增票资质了吗',\n",
      " '尊敬的客户 ，请问有什么可以帮助您的吗#E-s[数字x]#E-s[数字x]#E-s[数字x]',\n",
      " '请问有什么问题我可以帮您处理或解决呢?',\n",
      " '必购码是活动页面为准哦',\n",
      " '是[金额x]mm的插口就可以的亲亲',\n",
      " '有什么问题我可以帮您处理或解决呢? 麻烦您提供一下您的订单号，我这边马上为您查询一下具体情况哦，谢谢!',\n",
      " '有什么问题我可以帮您处理或解决呢?']\n",
      "选择： tensor(14) 最终结果： 有什么问题我可以帮您处理或解决呢?\n",
      "89 --------------------------------------------------------------------\n",
      "为什么小米[数字x]没有发货 小姐姐<q>是呀 为什么别人都发货了\n",
      "['如果您需要修改发票的话，可以订单完成，给您申请修改成公司抬头的发票的哦',\n",
      " '您耐心等待呢',\n",
      " '请问您是咨询之前的问题还是有其他的问题需要处理呢?',\n",
      " '不客气的 亲爱哒 请问还有什么可以帮您呢?#E-s[数字x]怠慢之处请您谅解呢#E-s[数字x]祝您财源广进，生意兴隆~么么哒~#E-s[数字x] '\n",
      " '您好，在的哦，请问有什么可以帮您的吗?',\n",
      " '感谢您对京东的支持，祝您生活愉快，再见!',\n",
      " '有什么问题我可以帮您处理或者解决呢?',\n",
      " '那这边小妹就不打扰您了哦~ 还辛苦您给小妹的服务打个评价呢~点击表情栏旁边的“+”哦，谢谢您啦~么么哒',\n",
      " '[ORDERID_10139444] 这个订单吗?',\n",
      " '您好，为了准确了解您的订单情况，麻烦您提供一下订单号给小妹查看哦',\n",
      " '#E-s[数字x]',\n",
      " '没有问题的话就不占用您的时间了哈#E-s[数字x]#E-s[数字x]感谢您对京东的支持，祝您生活愉快!#E-s[数字x]',\n",
      " '感谢您对京东的支持，祝您生活愉快，再见!',\n",
      " '#E-s[数字x]#E-s[数字x]',\n",
      " '#E-s[数字x]#E-s[数字x]不客气呢 亲亲您的商品预计[数字x]月1[数字x]日 [时间x]前送达呢#E-s[数字x]',\n",
      " '小妹温馨提示:订单一旦取消是无法恢复的，商品性价比挺高的呦，您再考虑下呢~']\n",
      "选择： tensor(0) 最终结果： 如果您需要修改发票的话，可以订单完成，给您申请修改成公司抬头的发票的哦\n",
      "90 --------------------------------------------------------------------\n",
      "是呀 为什么别人都发货了<q>�那我这里是什么仓库噢\n",
      "['请问您是咨询之前的问题还是有其他的问题需要处理呢?',\n",
      " '请稍等，马上为您核实之前的问题处理进度 [ORDERID_10311181]     这个礼品卡订单的吗 亲爱的客户',\n",
      " '有什么问题我可以帮您处理或者解决呢?',\n",
      " '这边目前为您查看了下  还是没有更新的呢 ',\n",
      " '#E-s[数字x]请问还有其他还可以帮到您的吗?',\n",
      " '请问还有什么可以帮助您的吗? #E-s[数字x]  感谢您的理解哦',\n",
      " '最好的办法了哈',\n",
      " '是的 还有其他可以帮到您的吗?#E-s[数字x]',\n",
      " '您好，已经取消订单了，系统会尽力拦截，如果拦截不成功，麻烦您拒收一下，谢谢 由于商品现在是已经出库的呢，商品返回后处理退款的哦',\n",
      " ' 可以提供一下订单号给小妹吗 ',\n",
      " '如果您需要修改发票的话，可以订单完成，给您申请修改成公司抬头的发票的哦',\n",
      " '#E-s[数字x]您太客气了呢，这都是我应该做呢的~~#E-s[数字x]~O(∩_∩)O/~ 请问还有其他什么可以帮到您的吗?#E-s[数字x]',\n",
      " '一个商品吗',\n",
      " '抱歉了呢',\n",
      " '您稍等下哈']\n",
      "选择： tensor(0) 最终结果： 请问您是咨询之前的问题还是有其他的问题需要处理呢?\n",
      "91 --------------------------------------------------------------------\n",
      "�那我这里是什么仓库噢<q>噢 那今天有货吗\n",
      "['还有其他什么可以帮到您的呢?#E-s[数字x]#E-s[数字x]',\n",
      " '哪个区呢',\n",
      " '您客气了，都是我们应该的#E-s[数字x] 请问还有其他还可以帮到您的吗?',\n",
      " '您耐心等待一下下配送就可以 哦亲亲',\n",
      " '请问还有其他还可以帮到您的吗?',\n",
      " '亲爱的，请问还有其他还可以帮到您的吗?',\n",
      " '还需要送货吗 正确的号码多少的亲爱的',\n",
      " '您取消服务单不会收取运费的哦 请问还有其他还可以帮到您的吗?#E-s[数字x]',\n",
      " '请问还有其他还可以帮到您的吗?',\n",
      " '您太客气了呢，这都是我应该做的呢~ 请问还有其他还可以帮到您的吗?',\n",
      " '嗯嗯#E-s[数字x] 非常感谢您的支持和理解~~#E-s[数字x] 请问还有什么可以帮到您的?怠慢之处请多多谅解哦#E-s[数字x] '\n",
      " '亲爱的商家，以后您的物流问题可以通过咚咚—小耳机图标—京东物流商家支持或青龙系统、沧海系统、物流官网找到我们哦，感谢您对京东的支持，祝您生活愉快!#E-s[数字x]',\n",
      " '您看还有什么可以帮到您的吗? 相遇就是缘分哦~~希望您对小妹的服务态度做个评价哦，在左下角表情旁边有一个+号点开里面的满意度，点开评价哦~ 谢谢您了!',\n",
      " '请问还有其他还可以帮到您的吗?',\n",
      " '嗯呢您保持手机畅通就可以了',\n",
      " '请问还有其他还可以帮到您的吗?']\n",
      "选择： tensor(1) 最终结果： 哪个区呢\n",
      "92 --------------------------------------------------------------------\n",
      "噢 那今天有货吗<q>有点烦 海南这地方有货吗\n",
      "['哪个区呢',\n",
      " '您好，请问有什么可以帮助您的吗#E-s[数字x] 您可以参考下这样子(亲 您可以在商品页面地址栏输入您的地址 页面会告知您预计送达时间呢如果页面没有显示 '\n",
      " '一般[数字x]-[数字x]天呢 亲#E-s2[数字x]',\n",
      " '有什么问题我可以帮您处理或解决呢?',\n",
      " '亲 真的不行的呢 这边妹子也想给您优惠的呢',\n",
      " '请问还有什么可以帮您呢?#E-s[数字x]',\n",
      " '您好 订单号哦',\n",
      " '请问还有其他还可以帮到您的吗?',\n",
      " '您好请问还有什么可以帮您? 请问还有什么可以帮您的?',\n",
      " '您选择你的地址试试下单呢',\n",
      " '您是在慧采平台上采购的还是在京东主站上采购的啊',\n",
      " '这边反馈专员处理，可以吗亲亲 您这边提供一下您的号码',\n",
      " '目前无货的',\n",
      " '亲亲   请您稍等   小妹帮您查询一下',\n",
      " '嗯嗯#E-s[数字x] 非常感谢您的支持和理解~~#E-s[数字x] 请问还有什么可以帮到您的?怠慢之处请多多谅解哦#E-s[数字x] '\n",
      " '亲爱的商家，以后您的物流问题可以通过咚咚—小耳机图标—京东物流商家支持或青龙系统、沧海系统、物流官网找到我们哦，感谢您对京东的支持，祝您生活愉快!#E-s[数字x]',\n",
      " '您稍等，妹子帮您查询一下哦#E-s[数字x]#E-s[数字x]']\n",
      "选择： tensor(1) 最终结果： 您好，请问有什么可以帮助您的吗#E-s[数字x] 您可以参考下这样子(亲 您可以在商品页面地址栏输入您的地址 页面会告知您预计送达时间呢如果页面没有显示 一般[数字x]-[数字x]天呢 亲#E-s2[数字x]\n",
      "93 --------------------------------------------------------------------\n",
      "有点烦 海南这地方有货吗<q>还是说从近地方发货\n",
      "['哪个区呢',\n",
      " '请问还有什么可以帮您呢?#E-s[数字x]',\n",
      " '嗯，当地采购还需要时间。 但是采销往往还要采购其他的，时效真的不确定。 请问还有其他可以帮到您的吗? 感谢您对京东的支持，祝您生活愉快。',\n",
      " '这个您可以收货的时候开箱验机哦 或者安装时候 不建议个人开箱的哦',\n",
      " '您好，请问有什么可以帮助您的吗#E-s[数字x] 您可以参考下这样子(亲 您可以在商品页面地址栏输入您的地址 页面会告知您预计送达时间呢如果页面没有显示 '\n",
      " '一般[数字x]-[数字x]天呢 亲#E-s2[数字x]',\n",
      " '亲亲，这个情况是不存在的哦',\n",
      " '您好 订单号哦',\n",
      " '嗯嗯谢谢您的支持哦 咱们后期肯定会不断改进，争取给客户更好的体验和服务的哦~',\n",
      " '您好请问还有什么可以帮您? 请问还有什么可以帮您的?',\n",
      " '小妹这边帮您查询一下，请稍等#E-s[数字x]',\n",
      " '有什么问题我可以帮您处理或解决呢?',\n",
      " '您是在慧采平台上采购的还是在京东主站上采购的啊',\n",
      " '是的 请问还有什么可以帮您呢?#E-s[数字x]怠慢之处请您谅解呢#E-s[数字x]',\n",
      " '可以留言可以双向通话呢亲亲#E-s[数字x]',\n",
      " '这边反馈专员处理，可以吗亲亲 您这边提供一下您的号码']\n",
      "选择： tensor(1) 最终结果： 请问还有什么可以帮您呢?#E-s[数字x]\n",
      "94 --------------------------------------------------------------------\n",
      "还是说从近地方发货<q>海南是从哪里发货的\n",
      "['请问还有什么其他可以帮您的吗?',\n",
      " '不客气的哦 ，这是妹子应该做的哦#E-s[数字x]',\n",
      " '商品现货  预计[数字x]-[数字x]天到货的',\n",
      " '[ORDERID_10448638]这个订单吗。，亲亲',\n",
      " '一般惠州[地址x]  惠州无货青岛[地址x]  惠州发货预计审核通过之后[数字x]-[数字x]天  '\n",
      " '青岛发货预计审核通过之后[数字x]-[数字x]天的   具体以物流信息为准哒 #E-s[数字x]7  '\n",
      " '您有问题继续问哦，小妹这边一直在哒#E-s[数字x]',\n",
      " '亲爱哒，是这个单子吗[ORDERID_10440315]',\n",
      " '库房，(青岛)N/A',\n",
      " '请问您是咨询之前的问题还是有其他的问题需要处理呢? 咱们是京东自己海外直采的哦， 过海关部门检查之后从国内保税区发货的 这款是德国原装产品的 '\n",
      " '#E-s[数字x]',\n",
      " '您客气了、 很高兴遇到您这么善解人意的客户，请问还有其他还可以帮到您的吗?#E-s[数字x]#E-s[数字x] '\n",
      " '遇到像您这样宽容的客户真是对我莫大的支持呢~#E-s[数字x]还辛苦您点击“+”给小妹评价下~#E-s[数字x]祝您天天开心哦~#E-s[数字x]',\n",
      " '请问还有其他还可以帮到您的吗?',\n",
      " '没有库存的 没有货 也没有采购记录的',\n",
      " '#E-s[数字x]亲亲您加入购物车看看 显示采购的话无货哦 有货的话会正常发货哦 一般第二天会有货哦',\n",
      " '库房，(郑州)N/A',\n",
      " '不好意思 加急不了呢 需要一定的调配时间哦',\n",
      " '是从就近仓库发货']\n",
      "选择： tensor(10) 最终结果： 没有库存的 没有货 也没有采购记录的\n",
      "95 --------------------------------------------------------------------\n",
      "海南是从哪里发货的<q>人呢\n",
      "['请问还有其他还可以帮到您的吗?',\n",
      " '不客气的哦 ，这是妹子应该做的哦#E-s[数字x]',\n",
      " '在的哦 月见草是每天[数字x]次，每次[数字x]粒，随餐或餐后立即服用的哦#E-s2[数字x]#E-s2[数字x]#E-s[数字x]',\n",
      " '[ORDERID_10448638]这个订单吗。，亲亲',\n",
      " '一般惠州[地址x]  惠州无货青岛[地址x]  惠州发货预计审核通过之后[数字x]-[数字x]天  '\n",
      " '青岛发货预计审核通过之后[数字x]-[数字x]天的   具体以物流信息为准哒 #E-s[数字x]7  '\n",
      " '您有问题继续问哦，小妹这边一直在哒#E-s[数字x]',\n",
      " '您好 您提供下您的联系方式  帮您升级专员处理  [数字x]H给您回电的呢',\n",
      " '请问还有什么其他可以帮您的吗?',\n",
      " '亲爱哒，是这个单子吗[ORDERID_10440315]',\n",
      " '请问您是咨询之前的问题还是有其他的问题需要处理呢? 咱们是京东自己海外直采的哦， 过海关部门检查之后从国内保税区发货的 这款是德国原装产品的 '\n",
      " '#E-s[数字x]',\n",
      " '您客气了、 很高兴遇到您这么善解人意的客户，请问还有其他还可以帮到您的吗?#E-s[数字x]#E-s[数字x] '\n",
      " '遇到像您这样宽容的客户真是对我莫大的支持呢~#E-s[数字x]还辛苦您点击“+”给小妹评价下~#E-s[数字x]祝您天天开心哦~#E-s[数字x]',\n",
      " '没有库存的 没有货 也没有采购记录的',\n",
      " '#E-s[数字x]亲亲您加入购物车看看 显示采购的话无货哦 有货的话会正常发货哦 一般第二天会有货哦',\n",
      " '库房，(郑州)N/A',\n",
      " '从泉州[地址x]',\n",
      " '商品现货  预计[数字x]-[数字x]天到货的']\n",
      "选择： tensor(1) 最终结果： 不客气的哦 ，这是妹子应该做的哦#E-s[数字x]\n",
      "96 --------------------------------------------------------------------\n",
      "人呢<q>好吧 那快递的包装好一点\n",
      "['#E-s[数字x]#E-s[数字x] 请问您，还有什么其他咨询的呢?#E-s[数字x]#E-s[数字x]',\n",
      " '请问还有其他还可以帮到您的吗?',\n",
      " '亲爱的  不好意思哦',\n",
      " '[ORDERID_10466624] 是这个订单吗',\n",
      " '实在是抱歉哦 很高兴遇到您这么善解人意的客户，请问还有其他还可以帮到您的吗?#E-s[数字x]#E-s[数字x]',\n",
      " '后期快递人员会联系您的 包装配件保留好哦 那妹纸就跟您说再见了哦，感谢您的支持，祝您生活愉快 有什么问题随时咨询小妹，小妹一直都在电脑旁的呢',\n",
      " '很高兴遇到您这么善解人意的客户，请问还有其他还可以帮到您的吗?#E-s[数字x]#E-s[数字x]',\n",
      " '您好 您那边收不到小妹发的消息吗 这边看见您的订单是，您的取消申请已提交。 ',\n",
      " '快递小哥说放在前台了呢 他说您找一下就好了呢  给您打电话没打通呢',\n",
      " '亲，麻烦您提供下订单号，我这边看下哦#E-s[数字x]',\n",
      " '嗯呢 您可以试一下 两边一起连接，之前有连接过，手机上可以搜索到，是可以自动连接的',\n",
      " '嗯呐  这边也会尽快处理的呢 给您带来的不便小妹对此感到很抱歉的呢 请问还有什么可以帮助您的吗? #E-s[数字x]',\n",
      " '您好，还有什么可以帮助您的呢?',\n",
      " '#E-s[数字x]#E-s[数字x]#E-s[数字x]#E-s[数字x] '\n",
      " '亲爱的，请问还有其他需要小妹帮您的吗#E-s[数字x]#E-s[数字x]#E-s[数字x]#E-s[数字x]',\n",
      " '#E-s[数字x] 天气变热，记得多喝点水哟，才能身体健康哟~~~#E-s[数字x] '\n",
      " '虽然可能由于您的订单的情况您会不开心，但是我觉得我们的交流是愉快的呢，我们的相遇也是缘分，妹子在此祝您天天开心，心想事成哦 请问 '\n",
      " '还有什么可以帮助您呢?#E-s[数字x]#E-s[数字x]']\n",
      "选择： tensor(10) 最终结果： 嗯呢 您可以试一下 两边一起连接，之前有连接过，手机上可以搜索到，是可以自动连接的\n",
      "97 --------------------------------------------------------------------\n",
      "好吧 那快递的包装好一点<q>我怕在配送的时候手机屏幕会碎 😂😂尽量包装好一点\n",
      "['后期快递人员会联系您的 包装配件保留好哦 那妹纸就跟您说再见了哦，感谢您的支持，祝您生活愉快 有什么问题随时咨询小妹，小妹一直都在电脑旁的呢',\n",
      " '还请您稍等，正在为您查询~ [金额x][数字x]公斤',\n",
      " '亲爱的 这边咨询什么问题呢',\n",
      " '#E-s[数字x] 请问还有其他还可以帮到您的吗?',\n",
      " '这两款产品轿车通用哦，亲 都可以的呢',\n",
      " '请问还有什么其他可以为您效劳的吗#E-s[数字x]',\n",
      " '亲爱的客户仓库是统一的打包发货的哈',\n",
      " '这个您放心我们京东坚决不会卖假货的呢 #E-s[数字x]#E-s[数字x]',\n",
      " '#E-s[数字x] 那您申请一下售后吧 看售后怎么处理呢',\n",
      " '还请您稍等，正在为您查询~',\n",
      " '请问还有其他可以帮到您的么?#E-s[数字x]',\n",
      " '这个您放心哈 我们会统一包装的',\n",
      " '那就需要您到售后网点或者订单后面申请售后  ’  您在手机端:我的-我的退换货-申请售后;电脑端:我的订单-售后服务-我的退换货，提交售后申请哦 ',\n",
      " '这边升级[数字x]小时回电可以吗，亲爱哒 这边联系相关部门处理 请问还有其他我可以为您效劳的么?#E-s[数字x]#E-s[数字x]',\n",
      " '可以申请售后的哦']\n",
      "选择： tensor(10) 最终结果： 请问还有其他可以帮到您的么?#E-s[数字x]\n",
      "98 --------------------------------------------------------------------\n",
      "我怕在配送的时候手机屏幕会碎 😂😂尽量包装好一点<q>怕呀\n",
      "['#E-s[数字x] 那您申请一下售后吧 看售后怎么处理呢',\n",
      " '后期快递人员会联系您的 包装配件保留好哦 那妹纸就跟您说再见了哦，感谢您的支持，祝您生活愉快 有什么问题随时咨询小妹，小妹一直都在电脑旁的呢',\n",
      " '那就需要您到售后网点或者订单后面申请售后  ’  您在手机端:我的-我的退换货-申请售后;电脑端:我的订单-售后服务-我的退换货，提交售后申请哦 ',\n",
      " '可以申请售后的哦',\n",
      " '您可以提供您的姓名和电话还有地址，这边为您申请售后',\n",
      " '好的小妹明白了，商品发生这样的事情确实非常抱歉，您看您可以先提交售后服务单等待审核您看可以的呢，如果您不方便提交小妹这边也可以帮助您提交，您看可以的么亲爱的#E-s[数字x]',\n",
      " '这边升级[数字x]小时回电可以吗，亲爱哒 这边联系相关部门处理 请问还有其他我可以为您效劳的么?#E-s[数字x]#E-s[数字x]',\n",
      " '不存在的亲 请您放心好了',\n",
      " '[姓名x]',\n",
      " '还请您稍等，正在为您查询~ [金额x][数字x]公斤',\n",
      " '有划痕，不影响维修的 给您添麻烦了，#E-s[数字x]您看还有其他可以帮到您的吗?',\n",
      " '您好请问有什么问题我可以帮您处理或解决呢?',\n",
      " '为了更快的处理您的问题辛苦您提供下订单号给我可以吗#E-s[数字x]',\n",
      " '都可以的哦',\n",
      " '亲爱的 这边咨询什么问题呢']\n",
      "选择： tensor(1) 最终结果： 后期快递人员会联系您的 包装配件保留好哦 那妹纸就跟您说再见了哦，感谢您的支持，祝您生活愉快 有什么问题随时咨询小妹，小妹一直都在电脑旁的呢\n",
      "99 --------------------------------------------------------------------\n",
      "怕呀<q>吓我一跳 你这样子心脏受不了\n"
     ]
    },
    {
     "name": "stdout",
     "output_type": "stream",
     "text": [
      "['这边具体情况以售后审核为准哦 '\n",
      " '到时候咱们售后接收到商品，确定有质量问题时[数字x]日之内会给您完成换货的哦~到时您的京东账户内会有换新订单哒，还麻烦您查看呢~',\n",
      " '请问还有其他还可以帮到您的吗?',\n",
      " '好的 请问还有什么能帮助你的吗#E-s[数字x]',\n",
      " '请问还有什么能帮到您的吗?',\n",
      " '为您申请 [数字x]小时内到账 到账短信告知您哈',\n",
      " '#E-s[数字x]#E-s[数字x]亲您客气了呢 祝您天天开心哦#E-s[数字x]#E-s[数字x]#E-s[数字x]',\n",
      " '可以申请一下哦',\n",
      " '这个是会有售后为您处理的哦 ',\n",
      " '那您提供一下公司抬头和税号 我这边帮您备注一下',\n",
      " '请问还有其他还可以帮到您的吗?',\n",
      " '好的，亲爱滴~，我这边马上为您查询下下哦~，请您稍等下哦，，',\n",
      " '这个会很快给您送的呢',\n",
      " '[站点x]如何创建新活动?如何管理已创建活动?http://helpcenter.jd.com/vender/issue/[数字x]-[链接x]',\n",
      " '是的亲，',\n",
      " '您进来、就在的']\n",
      "选择： tensor(1) 最终结果： 请问还有其他还可以帮到您的吗?\n",
      "100 --------------------------------------------------------------------\n",
      "吓我一跳 你这样子心脏受不了<q>哈哈 我等的着急\n",
      "['#E-s[数字x]#E-s[数字x]',\n",
      " '实在抱歉啦，等货到之后我们会加急配送的呢#E-s[数字x]',\n",
      " '#E-s[数字x]#E-s[数字x]#E-s[数字x]#E-s[数字x]',\n",
      " '#E-s[数字x]',\n",
      " '#E-s[数字x]#E-s[数字x]#E-s[数字x] '\n",
      " '您好，请问您的问题是否完全帮您了解决呢?评价不等于服务结束哦，如果您还有问题可以随时提问哦，我一直都在，随时为您解答。',\n",
      " '亲爱滴，请问还有其他需要帮助的么?#E-s[数字x]',\n",
      " '#E-s[数字x] 客气了 请问还有什么帮您的吗#E-s[数字x]',\n",
      " '请问还有其他可以帮到您的吗#E-s[数字x]',\n",
      " '这边具体情况以售后审核为准哦 '\n",
      " '到时候咱们售后接收到商品，确定有质量问题时[数字x]日之内会给您完成换货的哦~到时您的京东账户内会有换新订单哒，还麻烦您查看呢~',\n",
      " '#E-s[数字x]#E-s[数字x]#E-s[数字x]#E-s[数字x]#E-s[数字x]#E-s[数字x]',\n",
      " '#E-s[数字x]#E-s[数字x]#E-s[数字x] 请问还有可以为您服务的吗?#E-s[数字x]#E-s[数字x] '\n",
      " '#E-s[数字x]#E-s[数字x]',\n",
      " '您刚下单不久，请您稍等，今天下午应该就能看到发货信息了 发货没有什么区别 但是自营的商品，售后有区别了',\n",
      " '#E-s[数字x]#E-s[数字x]',\n",
      " '您看还有其他什么可以帮到您的吗?#E-s[数字x]',\n",
      " '请问还有其他还可以帮到您的吗?']\n",
      "选择： tensor(10) 最终结果： #E-s[数字x]#E-s[数字x]#E-s[数字x] 请问还有可以为您服务的吗?#E-s[数字x]#E-s[数字x] #E-s[数字x]#E-s[数字x]\n",
      "101 --------------------------------------------------------------------\n",
      "http://item.jd.com/5841777.html\n",
      "['请问有什么可以为您服务?',\n",
      " '请问有什么可以为您服务?',\n",
      " '您好，很高兴为您服务，请问有什么可以帮您?',\n",
      " '有什么问题我可以帮您处理或解决呢?',\n",
      " '有什么问题我可以帮您处理或解决呢?',\n",
      " '有什么问题我可以帮您处理或解决呢? 亲爱的客户，还麻烦您提供下订单号，妹子这边给您查询哦~',\n",
      " '您好，很高兴您对我们店铺的产品感兴趣，请问我这边有什么可以帮助您的吗?#E-s[数字x]#E-s[数字x]',\n",
      " '您好，在的呢!请问有什么可以为您效劳的?',\n",
      " '您好 #E-s[数字x]#E-s[数字x]',\n",
      " '外形不一样 DPI也不一样的哦 ',\n",
      " '您好，在的呢!请问有什么可以为您效劳的?',\n",
      " '您好，请问有什么可以帮您的?',\n",
      " '有什么问题我可以帮您处理或解决呢?',\n",
      " '[数字x]比[数字x]c多个电子狗功能 [数字x]处理器是联咏 [数字x]c是安霸，有存储卡 ',\n",
      " '您好 在的呢']\n",
      "选择： tensor(1) 最终结果： 请问有什么可以为您服务?\n",
      "102 --------------------------------------------------------------------\n",
      "http://item.jd.com/5841777.html<q>你好这款耳机带[姓名x] 麦怎么用\n",
      "['请问有什么可以为您服务?',\n",
      " '请问有什么可以为您服务?',\n",
      " '请您稍等，正在为您确认此前咨询内容。',\n",
      " '您好，在的哦#E-s[数字x]#E-s[数字x]',\n",
      " '您好，很高兴为您服务，请问有什么可以帮您?',\n",
      " '有什么问题我可以帮您处理或解决呢?',\n",
      " '亲爱的，内存卡是需要您单独购买的呢#E-s[数字x]#E-s[数字x]',\n",
      " '您好，麻烦您稍等，这边为您查询下。#E-s[数字x] 没有的呢',\n",
      " '有什么问题我可以帮您处理或解决呢?',\n",
      " '恩，是的',\n",
      " '有什么问题我可以帮您处理或解决呢? 亲爱的客户，还麻烦您提供下订单号，妹子这边给您查询哦~',\n",
      " '#E-s[数字x]',\n",
      " '您好，很高兴您对我们店铺的产品感兴趣，请问我这边有什么可以帮助您的吗?#E-s[数字x]#E-s[数字x]',\n",
      " '您好，在的呢!请问有什么可以为您效劳的?',\n",
      " '[数字x]比[数字x]c多个电子狗功能 [数字x]处理器是联咏 [数字x]c是安霸，有存储卡 ']\n",
      "选择： tensor(1) 最终结果： 请问有什么可以为您服务?\n",
      "103 --------------------------------------------------------------------\n",
      "你好这款耳机带[姓名x] 麦怎么用<q>用麦要上对吗\n",
      "['还有什么可以帮助您的#E-s[数字x]',\n",
      " '有的亲亲  需要在官网下载驱动哦 您看下这边还有什么能帮到您的吗',\n",
      " '稍等一下，这边帮您查询一下哦  '\n",
      " '煲机方法步骤:[数字x]、使用正常听音强度三分之一的音量驱动耳机[数字x][数字x]小时;[数字x]、使用正常听音强度三分之二的音量驱动耳机[数字x][数字x]小时;[数字x]、使用正常听音强度驱动耳机7[数字x]小时;[数字x]、使用正常听音强度四分之三的音量驱动耳机[数字x][数字x]小时;[数字x]、进入正常使用阶段。注意在正常使用的时候音量不易过大',\n",
      " '剪卡不行哦 电信卡不行哦，副卡不行哦，需要是独立的SIM卡，虚拟号段的卡不行哦(京东[数字x]元卡不行哦) '\n",
      " 'SIM卡需要开通短信、流量和来电显示功能，才能正常使用呢 [数字x])新购买的SIM卡请先安装到手机上进行激活，再安装到手表上。 ',\n",
      " '亲，一些低音的都可以的',\n",
      " '手表 目前仅支持移动/联通的SIM卡，不支持电信卡。 '\n",
      " 'SIM卡必须开通来电显示，短信和流量来确保手表功能的正常使用，如果未开通可能出现:未开通来电显示，手表无法识别号码，会出现已经在联系人列表中的家庭成员被拒接;未开通短信，会出现无法激活、查询话费等问题; '\n",
      " '流量需支持[数字x]G通信',\n",
      " '这个不用谢啦，是我应该做的。#E-s[数字x] 请问还有可以为您服务的吗?',\n",
      " '稍等 接收器在电池盖打开，电池旁边一个小小的收纳仓，您打开就可以看见',\n",
      " '#E-s[数字x]#E-s[数字x] 亲亲#E-s[数字x]，请问您这面还有什么妹子可以帮到您的呢#E-s[数字x]#E-s[数字x]',\n",
      " '离您近的安装点的呢 您看还有其他什么可以帮助您的吗?',\n",
      " '是针对一次免费的 上么取件  #E-s[数字x]#E-s[数字x]',\n",
      " '最近[金额x]有很多活动 导致物流配送存在部分延迟 ',\n",
      " '是需要的哦',\n",
      " '您好，[数字x]客服小苹果为您服务，请问有什么可以帮您呢#E-s[数字x] 亲亲请把您的订单号给妹子，妹子帮您查一下好吗',\n",
      " '恢复原价了 在的哦亲亲#E-s[数字x]#E-s[数字x]#E-s[数字x]']\n",
      "选择： tensor(14) 最终结果： 恢复原价了 在的哦亲亲#E-s[数字x]#E-s[数字x]#E-s[数字x]\n",
      "104 --------------------------------------------------------------------\n",
      "用麦要上对吗<q>ipad\n",
      "['亲爱的 没有取件的话 到时候取件人员联系您的时候，您告诉取件员不需要回收就可以了呢#E-s[数字x]#E-s[数字x]',\n",
      " '[ORDERID_10157733] 您的订单预计[数字x]月[数字x]日送达您手中， 亲爱的 明天可以送到的 但是具体时间无法保证的呢  '\n",
      " '明天到站点会尽快安排的哈 ',\n",
      " '请问还有其他还可以帮到您的吗?',\n",
      " '比得兔(Peter Rabbit)分格耐热玻璃保鲜盒 微波炉便当分隔饭盒两件套 赠保温包 ([数字x]ml+[数字x]ml) PR-T[数字x]这个缺货',\n",
      " '#E-s[数字x]#E-s[数字x] 请问您还有其他问题需要帮助的吗?#E-s[数字x]',\n",
      " '这边发票已经给您开具了哟',\n",
      " 'Apple iPad 平板电脑 [数字x]年新款[金额x]英寸([数字x]G WLAN版/A[数字x] 芯片/Retina显示屏/Touch ID '\n",
      " 'MR[数字x]K[数字x]CH/A)银色  是这个商品吗 手机号码，[电话x]',\n",
      " '是的呢亲亲',\n",
      " '[日期x] [时间x]，[站点x] 您的订单已到达[站点x]',\n",
      " '麻烦你提供一下订单号可以吗?',\n",
      " '您好，此单可以取件，已经帮您备注服务单留言',\n",
      " '不客气，这些都是我应该做的呢 #E-s[数字x] 请问还有其他可以帮您的吗?',\n",
      " '请稍等 这边是没有查到的',\n",
      " '#E-s[数字x] 你好您看的这个链接现在是两种活动可以再购物车页面任选其一的哦， 满[数字x]件，总价打[数字x]折  详情 &gt;&gt;  '\n",
      " '满减满[数字x]99元减[数字x]元  详情 &gt;&gt; “多买优惠” “满减” 仅可在购物车任选其一 如果合适可以多多考虑的哦',\n",
      " '好的，请稍等哦!正在为您查询!#E-s[数字x] 这边帮您咨询供应商客服哦 还请您稍等呢']\n",
      "选择： tensor(1) 最终结果： [ORDERID_10157733] 您的订单预计[数字x]月[数字x]日送达您手中， 亲爱的 明天可以送到的 但是具体时间无法保证的呢  明天到站点会尽快安排的哈 \n",
      "105 --------------------------------------------------------------------\n",
      "ipad<q>主要用这个学英语，需要麦\n",
      "['亲爱的 没有取件的话 到时候取件人员联系您的时候，您告诉取件员不需要回收就可以了呢#E-s[数字x]#E-s[数字x]',\n",
      " '[ORDERID_10157733] 您的订单预计[数字x]月[数字x]日送达您手中， 亲爱的 明天可以送到的 但是具体时间无法保证的呢  '\n",
      " '明天到站点会尽快安排的哈 ',\n",
      " '请问还有其他还可以帮到您的吗?',\n",
      " '是送来的时候 就损坏了吗亲',\n",
      " '请问还有其他我可以为您效劳的么?#E-s[数字x] 好的 您放心，生鲜都是冷链配送的',\n",
      " '亲亲可以选择最近的城镇试下哦',\n",
      " '#E-s[数字x]嗯呢 小妹马上帮您升级 ',\n",
      " '这边发票已经给您开具了哟',\n",
      " '系统计算运费，[金额x]、 您好，您的订单没有收取运费的饿呢',\n",
      " '如后期非您本人意愿签收   '\n",
      " '找到对应的商品点申请，把具体情况描述下，同时也写清楚您希望的处理方式，售后审核人员会跟进您提交的内容进行审核妥善处理的哦#E-s[数字x]#E-s[数字x]',\n",
      " '#E-s[数字x]#E-s[数字x]  售后服务电话:[数字x]-[数字x]   这个是安装的联系方式   您这面签收之后可以预约下哦',\n",
      " '亲爱的，是这个商品的吗#E-s[数字x]',\n",
      " '看店宝 [数字x]P 上市时间  [日期x]  功能:夜视功能(微光环境下)，双向语音通话，时光相册，四分屏显示 '\n",
      " '参数:存储方式--内存卡存储;云存储     传感器 OV[数字x]     [数字x]*[数字x]分辨率     亲亲 您参考一下~ '\n",
      " '亲亲，这款就可以满足您的要求的#E-s[数字x]#E-s[数字x]',\n",
      " 'Apple iPad 平板电脑 [数字x]年新款[金额x]英寸([数字x]G WLAN版/A[数字x] 芯片/Retina显示屏/Touch ID '\n",
      " 'MR[数字x]K[数字x]CH/A)银色  是这个商品吗 手机号码，[电话x]',\n",
      " '亲爱的客户，您先稍等下哈，小妹帮您查询下，查询时间预计[数字x]到[数字x]分钟，还请喝杯茶稍等下哈~~#E-s[数字x]']\n",
      "选择： tensor(1) 最终结果： [ORDERID_10157733] 您的订单预计[数字x]月[数字x]日送达您手中， 亲爱的 明天可以送到的 但是具体时间无法保证的呢  明天到站点会尽快安排的哈 \n",
      "106 --------------------------------------------------------------------\n",
      "主要用这个学英语，需要麦<q>除了蓝牙，也配有线吗\n",
      "['亲爱的客户，您先稍等下哈，小妹帮您查询下，查询时间预计[数字x]到[数字x]分钟，还请喝杯茶稍等下哈~~#E-s[数字x]',\n",
      " '请问还有什么可以为您服务的吗?#E-s[数字x]',\n",
      " '已经为您绑定成功了#E-s[数字x] 亲 您还记得密码吗，如果不记得了这边给您发送一个随机的登录密码#E-s[数字x]',\n",
      " '您好，这边给您手机发送了一条验证码，还请您提供一下，谢谢!',\n",
      " '您还有其他需要帮助的吗?',\n",
      " '很高兴遇到您这么善解人意的客户，请问还有其他还可以帮到您的吗?#E-s[数字x]#E-s[数字x]',\n",
      " '只支持手机自带的输入法哈',\n",
      " '可以的，但是要走老店新开的流程呢',\n",
      " '行驶了多少公里了呢',\n",
      " '亲爱的，发送验证码给您了，[数字x]秒时效呢，收到您告诉我下。#E-s[数字x]',\n",
      " '华东 华南  之类的哦',\n",
      " '验证码提供一下呢',\n",
      " '尊敬的商家您好，京东物流小红人，工号[数字x]，很高兴为您服务，请问有什么帮您的? 亲爱哒，请问您是遇到了什么问题的呢?',\n",
      " '您好，如果您已有店铺，要申请再开一个店铺，您可以登录商家后台，进入我的店铺-店铺管理-功能设置，点击继续，按页面流程完成新店铺申请',\n",
      " '那妹子记录升级专员给您回电哈']\n",
      "选择： tensor(0) 最终结果： 亲爱的客户，您先稍等下哈，小妹帮您查询下，查询时间预计[数字x]到[数字x]分钟，还请喝杯茶稍等下哈~~#E-s[数字x]\n",
      "107 --------------------------------------------------------------------\n",
      "除了蓝牙，也配有线吗<q>我还是不太懂麦怎么用，是内置的?\n",
      "['您太客气了。为您服务是我们的缘分 '\n",
      " '请问还有其他什么问题可以帮到您的吗，您如果看中这个，可以及时下单哦，京东库存系统一般是根据顾客下单支付时间的先后顺序发货的，尽早下单您就可以早一点的收到您心仪的商品哦~',\n",
      " '可以申请退货，但是不是无理由 需要鉴定钟表有无损坏',\n",
      " '#E-s[数字x]#E-s[数字x]',\n",
      " '是送了的  此款显示器信号接口为VGA、HDMI，原装配送的是HDMI信号线',\n",
      " '很高兴遇到您这么善解人意的客户，请问还有其他还可以帮到您的吗?#E-s[数字x]#E-s[数字x]',\n",
      " '亲亲 手机下载[数字x]儿童卫APP',\n",
      " '嗯嗯 请问还有可以为您服务的吗?',\n",
      " '您看这样可以吗',\n",
      " '亲亲这个是以实际的价格为准的',\n",
      " '小妹这边真的没有办法 只能申请主管 你看可以吗? 或者我送你等额的京豆可以吗?',\n",
      " '没有vr接口',\n",
      " '亲爱的目前我们没有直接开启白条的权限建议您尝试频繁操作可能影响成功几率哦',\n",
      " '#E-s[数字x]#E-s[数字x]#E-s[数字x]#E-s[数字x]#E-s[数字x]',\n",
      " '京东配送哈',\n",
      " '没事的哦 您看还有什么问题小妹可以帮到您的呢#E-s[数字x]、']\n",
      "选择： tensor(0) 最终结果： 您太客气了。为您服务是我们的缘分 请问还有其他什么问题可以帮到您的吗，您如果看中这个，可以及时下单哦，京东库存系统一般是根据顾客下单支付时间的先后顺序发货的，尽早下单您就可以早一点的收到您心仪的商品哦~\n",
      "108 --------------------------------------------------------------------\n",
      "我还是不太懂麦怎么用，是内置的?<q>是不是直接就可以说\n",
      "['这边有什么小妹能帮您的嗯亲',\n",
      " '建议三星闪[姓名x]东芝的Class[数字x]高速Micro TF[数字x]G存储卡哦 商城搜索够买的呢',\n",
      " '是的哦 请勿将[姓名x]告诉他人哦',\n",
      " '可以申请退货，但是不是无理由 需要鉴定钟表有无损坏',\n",
      " '是个镇的',\n",
      " '#E-s[数字x] 请问还有其他还可以帮到您的吗?',\n",
      " '#E-s[数字x]#E-s[数字x] 很高兴遇到您这么善解人意的客户，请问还有其他还可以帮到您的吗?#E-s[数字x]#E-s[数字x]',\n",
      " '请问这边还有什么可以帮到您的呢?',\n",
      " '很高兴遇到您这么善解人意的客户，请问还有其他还可以帮到您的吗?#E-s[数字x]#E-s[数字x]',\n",
      " '谢谢么[姓名x]',\n",
      " '这种商品一般都是直接给您补发一个新的 请问还有其他还可以帮到您的吗?',\n",
      " '亲亲 手机下载[数字x]儿童卫APP',\n",
      " '是的哦 #E-s[数字x]',\n",
      " '亲爱的您的订单预计[数字x]月[数字x]日内到达的 请您耐心等待#E-s[数字x]',\n",
      " '麻烦您提供一下订单']\n",
      "选择： tensor(1) 最终结果： 建议三星闪[姓名x]东芝的Class[数字x]高速Micro TF[数字x]G存储卡哦 商城搜索够买的呢\n",
      "109 --------------------------------------------------------------------\n",
      "是不是直接就可以说<q>好\n",
      "['实在抱歉亲，给您带来不便',\n",
      " '亲亲，您看小妹还有什么能帮助到您的吗?一定竭尽全力!#E-s[数字x]',\n",
      " '谢谢么[姓名x]',\n",
      " '这种商品一般都是直接给您补发一个新的 请问还有其他还可以帮到您的吗?',\n",
      " '辛苦您了呢 请问还有其他还可以帮到您的吗?',\n",
      " '还有什么是小妹可以帮您的吗',\n",
      " '麻烦您提供一下订单',\n",
      " '咱们发票都是在账户内查看的呢 不直接发送至邮箱的呢',\n",
      " '原返的哦 信零钱[数字x]-[数字x]工作日到账，借记卡[数字x]-[数字x]工作日到账，信用卡[数字x]-[数字x]5工作日到账',\n",
      " '[链接x]  jr.jd.com ',\n",
      " '不是我们直接操作呢',\n",
      " '是的亲 您看还有其他什么可以帮您的吗?^_^小妹一定尽心尽力为您处理的哟#E-s[数字x] '\n",
      " '劳烦亲亲给妹子点下评价鼓励下哦，拜托了哦#E-s[数字x]#E-s[数字x]#E-s[数字x]',\n",
      " '不客气哒#E-s[数字x]#E-s[数字x]这个是应该的呢#E-s[数字x] 请看看还有其他什么可以帮到您的呢?#E-s[数字x]',\n",
      " ' 亲 请您放心  正常情况下这边都会及时为您配送到的哈',\n",
      " '很高兴遇到您这么善解人意的客户，请问还有什么可以帮您的吗#E-s[数字x]']\n",
      "选择： tensor(10) 最终结果： 不是我们直接操作呢\n",
      "110 --------------------------------------------------------------------\n",
      "好<q>谢谢!没了\n"
     ]
    },
    {
     "name": "stdout",
     "output_type": "stream",
     "text": [
      "['您客气了，为您服务是我应该做的#E-s[数字x]',\n",
      " '您太客气了呢，这都是我应该做的呢~~#E-s[数字x]~O(∩_∩)O/~ 请问还有其他还可以帮到您的吗?#E-s[数字x]#E-s[数字x]',\n",
      " '后续有问题可以随时联系 一直都在呢#E-s[数字x]',\n",
      " '请问还有其他还可以帮到您的吗?',\n",
      " '#E-s[数字x]您太客气了呢，这都是我应该做的呢~~#E-s[数字x]~O(∩_∩)O/~',\n",
      " '请问还有其他可以帮到您的吗?#E-s[数字x] 您客气了',\n",
      " '亲爱的客户，谢谢您的支持，我们会继续努力，给您提供更好的购物体验#E-s[数字x]#E-s[数字x] 别忘了对妹纸的服务做出评价哦 谢谢您啦  '\n",
      " '么么哒#E-s[数字x]',\n",
      " '#E-s[数字x]不客气哦亲，感谢您对京东的支持，祝您生活愉快',\n",
      " '#E-s[数字x]#E-s[数字x]#E-s[数字x] '\n",
      " '很高兴遇到您这么善解人意的客户，请问还有其他还可以帮到您的吗?#E-s[数字x]#E-s[数字x]',\n",
      " '祝您生活愉快哦',\n",
      " '不客气呢#E-s[数字x]#E-s[数字x]请问还有其他还可以帮到您的吗?',\n",
      " '#E-s[数字x]#E-s[数字x] #E-s[数字x]#E-s[数字x]',\n",
      " '您客气了 请问还有其他还可以帮到您的吗?',\n",
      " '不客气的哦 请问还有其他还可以帮到您的吗?',\n",
      " '已经给您操作取消了哦#E-s[数字x]请问还有其他还可以帮到您的吗?']\n",
      "选择： tensor(10) 最终结果： 不客气呢#E-s[数字x]#E-s[数字x]请问还有其他还可以帮到您的吗?\n"
     ]
    }
   ],
   "source": [
    "answers = []\n",
    "for i, q in enumerate(test_set):\n",
    "    print(i, \"-\"*68)\n",
    "    print(q)\n",
    "    q_tokens = n_grams(q, 3)\n",
    "    state = s2v_model.infer_vector(q_tokens)\n",
    "    candidates = ir_model.get_candidates(q, top=15)\n",
    "    pprint(candidates)\n",
    "    action = choose_action(dqn_model, state, 0, use_cuda=False)\n",
    "    print(\"选择：\", action, \"最终结果：\", candidates[action])\n",
    "    answers.append(candidates[action])\n",
    "u.write_file(file=\"/home/team55/notespace/zengbin/answers/dqn_tfidf_answers001.txt\", content=answers, \n",
    "             mode='w', encoding='utf-8')"
   ]
  },
  {
   "cell_type": "code",
   "execution_count": 28,
   "metadata": {},
   "outputs": [],
   "source": []
  },
  {
   "cell_type": "markdown",
   "metadata": {},
   "source": [
    "## 准备数据集\n",
    "\n",
    "---\n",
    "\n",
    "过程：\n",
    "\n",
    "step 1. 读入全部sessions,随机采样100个session；"
   ]
  },
  {
   "cell_type": "code",
   "execution_count": null,
   "metadata": {},
   "outputs": [],
   "source": [
    "all_sessions = read_from_pkl(conf.pkl_sessions)\n",
    "sessions = random.sample(all_sessions, 10000)"
   ]
  },
  {
   "cell_type": "code",
   "execution_count": null,
   "metadata": {},
   "outputs": [],
   "source": [
    "sessions = random.sample(all_sessions, 10000)"
   ]
  },
  {
   "cell_type": "markdown",
   "metadata": {},
   "source": [
    "## 组件加载\n",
    "----\n",
    "\n"
   ]
  },
  {
   "cell_type": "code",
   "execution_count": null,
   "metadata": {},
   "outputs": [],
   "source": [
    "# BM25检索模型\n",
    "bm25_model, bm25_answers, bm25_average_idf = load_bm25_model()\n",
    "\n",
    "# tfidf检索模型\n",
    "tfidf_model = load_tfidf_ir_model()\n",
    "\n",
    "# Sentence2vec模块\n",
    "s2v_model = load_s2v_model()"
   ]
  },
  {
   "cell_type": "markdown",
   "metadata": {},
   "source": [
    "## 训练模型\n",
    "---"
   ]
  },
  {
   "cell_type": "code",
   "execution_count": null,
   "metadata": {},
   "outputs": [],
   "source": [
    "def plot(frame_idx, rewards, losses):\n",
    "    clear_output(True)\n",
    "    plt.figure(figsize=(20,5))\n",
    "    plt.subplot(131)\n",
    "    plt.title('frame %s. reward(last100): %s' % (frame_idx, np.mean(rewards[-100:])))\n",
    "    plt.plot(rewards)\n",
    "    plt.subplot(132)\n",
    "    plt.title('loss')\n",
    "    plt.plot(losses[-100:])\n",
    "    plt.show()"
   ]
  },
  {
   "cell_type": "code",
   "execution_count": null,
   "metadata": {},
   "outputs": [],
   "source": []
  }
 ],
 "metadata": {
  "kernelspec": {
   "display_name": "Python3.6",
   "language": "python",
   "name": "python3.6"
  },
  "language_info": {
   "codemirror_mode": {
    "name": "ipython",
    "version": 3
   },
   "file_extension": ".py",
   "mimetype": "text/x-python",
   "name": "python",
   "nbconvert_exporter": "python",
   "pygments_lexer": "ipython3",
   "version": "3.6.5"
  }
 },
 "nbformat": 4,
 "nbformat_minor": 2
}
